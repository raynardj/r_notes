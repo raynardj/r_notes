{
 "cells": [
  {
   "cell_type": "markdown",
   "metadata": {},
   "source": [
    "# Dplyr Tutorial\n",
    "> Data manipulation(Join) & Cleaning(Spread)"
   ]
  },
  {
   "cell_type": "markdown",
   "metadata": {},
   "source": [
    "This notebook is based on [this tutorial](https://www.guru99.com/r-dplyr-tutorial.html)\n",
    "\n",
    "## Introduction on data analysis\n",
    "\n",
    "Data analysis can be divided into three parts\n",
    "\n",
    "* **Extraction**: First, we need to collect the data from many sources and combine them.\n",
    "* **Transform**: This step involves the data manipulation. Once we have consolidated all the sources of data, we can begin to clean the data.\n",
    "* **Visualize**: The last move is to visualize our data to check irregularity.\n",
    "\n",
    "One of the **most significant challenges** faced by data scientist is the data **manipulation**. Data is never available in the desired format. The data scientist needs to spend at least half of his time, cleaning and manipulating the data. That is one of the most critical assignments in the job. If the data manipulation process is not complete, precise and rigorous, the model will not perform correctly.\n",
    "\n",
    "R has a library called **dplyr** to help in data transformation.\n",
    "\n",
    "The dplyr library is fundamentally created around four functions to manipulate the data and five verbs to clean the data. After that, we can use the **ggplot** library to analyze and visualize the data.\n",
    "\n",
    "In this tutorial, we will learn how to use the dplyr library to manipulate a data frame."
   ]
  },
  {
   "cell_type": "markdown",
   "metadata": {},
   "source": [
    "## Merge\n",
    "dplyr provides a nice and convenient way to combine datasets. We may have many sources of input data, and at some point, we need to combine them. A join with dplyr adds variables to the right of the original dataset. The beauty is dplyr is that it handles four types of joins **similar to SQL**\n",
    "\n",
    "* Left_join()\n",
    "* right_join()\n",
    "* inner_join()\n",
    "* full_join()\n",
    "\n",
    "We will study all the joins types via an easy example.\n",
    "\n",
    "First of all, we build two datasets. Table 1 contains two variables, ID, and y, whereas Table 2 gathers ID and z. In each situation, we need to have a key-pair variable. In our case, ID is our key variable. The function will look for identical values in both tables and bind the returning values to the right of table 1."
   ]
  },
  {
   "cell_type": "code",
   "execution_count": 4,
   "metadata": {},
   "outputs": [
    {
     "data": {
      "text/html": [
       "<table>\n",
       "<caption>A tibble: 5 × 2</caption>\n",
       "<thead>\n",
       "\t<tr><th scope=col>ID</th><th scope=col>y</th></tr>\n",
       "\t<tr><th scope=col>&lt;chr&gt;</th><th scope=col>&lt;dbl&gt;</th></tr>\n",
       "</thead>\n",
       "<tbody>\n",
       "\t<tr><td>A</td><td>5</td></tr>\n",
       "\t<tr><td>B</td><td>5</td></tr>\n",
       "\t<tr><td>C</td><td>8</td></tr>\n",
       "\t<tr><td>D</td><td>0</td></tr>\n",
       "\t<tr><td>F</td><td>9</td></tr>\n",
       "</tbody>\n",
       "</table>\n"
      ],
      "text/latex": [
       "A tibble: 5 × 2\n",
       "\\begin{tabular}{ll}\n",
       " ID & y\\\\\n",
       " <chr> & <dbl>\\\\\n",
       "\\hline\n",
       "\t A & 5\\\\\n",
       "\t B & 5\\\\\n",
       "\t C & 8\\\\\n",
       "\t D & 0\\\\\n",
       "\t F & 9\\\\\n",
       "\\end{tabular}\n"
      ],
      "text/markdown": [
       "\n",
       "A tibble: 5 × 2\n",
       "\n",
       "| ID &lt;chr&gt; | y &lt;dbl&gt; |\n",
       "|---|---|\n",
       "| A | 5 |\n",
       "| B | 5 |\n",
       "| C | 8 |\n",
       "| D | 0 |\n",
       "| F | 9 |\n",
       "\n"
      ],
      "text/plain": [
       "  ID y\n",
       "1 A  5\n",
       "2 B  5\n",
       "3 C  8\n",
       "4 D  0\n",
       "5 F  9"
      ]
     },
     "metadata": {},
     "output_type": "display_data"
    },
    {
     "data": {
      "text/html": [
       "<table>\n",
       "<caption>A tibble: 5 × 2</caption>\n",
       "<thead>\n",
       "\t<tr><th scope=col>ID</th><th scope=col>y</th></tr>\n",
       "\t<tr><th scope=col>&lt;chr&gt;</th><th scope=col>&lt;dbl&gt;</th></tr>\n",
       "</thead>\n",
       "<tbody>\n",
       "\t<tr><td>A</td><td>30</td></tr>\n",
       "\t<tr><td>B</td><td>21</td></tr>\n",
       "\t<tr><td>C</td><td>22</td></tr>\n",
       "\t<tr><td>D</td><td>25</td></tr>\n",
       "\t<tr><td>E</td><td>29</td></tr>\n",
       "</tbody>\n",
       "</table>\n"
      ],
      "text/latex": [
       "A tibble: 5 × 2\n",
       "\\begin{tabular}{ll}\n",
       " ID & y\\\\\n",
       " <chr> & <dbl>\\\\\n",
       "\\hline\n",
       "\t A & 30\\\\\n",
       "\t B & 21\\\\\n",
       "\t C & 22\\\\\n",
       "\t D & 25\\\\\n",
       "\t E & 29\\\\\n",
       "\\end{tabular}\n"
      ],
      "text/markdown": [
       "\n",
       "A tibble: 5 × 2\n",
       "\n",
       "| ID &lt;chr&gt; | y &lt;dbl&gt; |\n",
       "|---|---|\n",
       "| A | 30 |\n",
       "| B | 21 |\n",
       "| C | 22 |\n",
       "| D | 25 |\n",
       "| E | 29 |\n",
       "\n"
      ],
      "text/plain": [
       "  ID y \n",
       "1 A  30\n",
       "2 B  21\n",
       "3 C  22\n",
       "4 D  25\n",
       "5 E  29"
      ]
     },
     "metadata": {},
     "output_type": "display_data"
    }
   ],
   "source": [
    "library(dplyr)\n",
    "# a refreshing way to create data frame\n",
    "df_primary <- tribble(\n",
    "  ~ID, ~y,\n",
    "   \"A\", 5,\n",
    "   \"B\", 5,\n",
    "   \"C\", 8,\n",
    "   \"D\", 0,\n",
    "  \"F\", 9)\n",
    "df_secondary <- tribble(\n",
    "  ~ID, ~y,\n",
    "   \"A\", 30,\n",
    "   \"B\", 21,\n",
    "   \"C\", 22,\n",
    "   \"D\", 25,\n",
    "   \"E\", 29)\n",
    "\n",
    "df_primary\n",
    "df_secondary"
   ]
  },
  {
   "cell_type": "markdown",
   "metadata": {},
   "source": [
    "### left_join \n",
    "The most common way to merge two datasets is to use the left_join() function. \n",
    "\n",
    "With the left_join(), we will keep all the variables in the original table and don't consider the variables that do not have a key-paired in the destination table. In our example, the variable E does not exist in table 1. Therefore, the row will be dropped. The variable F comes from the origin table; it will be kept after the left_join() and return NA in the column z. "
   ]
  },
  {
   "cell_type": "code",
   "execution_count": 5,
   "metadata": {},
   "outputs": [
    {
     "data": {
      "text/html": [
       "<table>\n",
       "<caption>A tibble: 5 × 3</caption>\n",
       "<thead>\n",
       "\t<tr><th scope=col>ID</th><th scope=col>y.x</th><th scope=col>y.y</th></tr>\n",
       "\t<tr><th scope=col>&lt;chr&gt;</th><th scope=col>&lt;dbl&gt;</th><th scope=col>&lt;dbl&gt;</th></tr>\n",
       "</thead>\n",
       "<tbody>\n",
       "\t<tr><td>A</td><td>5</td><td>30</td></tr>\n",
       "\t<tr><td>B</td><td>5</td><td>21</td></tr>\n",
       "\t<tr><td>C</td><td>8</td><td>22</td></tr>\n",
       "\t<tr><td>D</td><td>0</td><td>25</td></tr>\n",
       "\t<tr><td>F</td><td>9</td><td>NA</td></tr>\n",
       "</tbody>\n",
       "</table>\n"
      ],
      "text/latex": [
       "A tibble: 5 × 3\n",
       "\\begin{tabular}{lll}\n",
       " ID & y.x & y.y\\\\\n",
       " <chr> & <dbl> & <dbl>\\\\\n",
       "\\hline\n",
       "\t A & 5 & 30\\\\\n",
       "\t B & 5 & 21\\\\\n",
       "\t C & 8 & 22\\\\\n",
       "\t D & 0 & 25\\\\\n",
       "\t F & 9 & NA\\\\\n",
       "\\end{tabular}\n"
      ],
      "text/markdown": [
       "\n",
       "A tibble: 5 × 3\n",
       "\n",
       "| ID &lt;chr&gt; | y.x &lt;dbl&gt; | y.y &lt;dbl&gt; |\n",
       "|---|---|---|\n",
       "| A | 5 | 30 |\n",
       "| B | 5 | 21 |\n",
       "| C | 8 | 22 |\n",
       "| D | 0 | 25 |\n",
       "| F | 9 | NA |\n",
       "\n"
      ],
      "text/plain": [
       "  ID y.x y.y\n",
       "1 A  5   30 \n",
       "2 B  5   21 \n",
       "3 C  8   22 \n",
       "4 D  0   25 \n",
       "5 F  9   NA "
      ]
     },
     "metadata": {},
     "output_type": "display_data"
    }
   ],
   "source": [
    "left_join(df_primary,df_secondary, by=\"ID\")"
   ]
  },
  {
   "cell_type": "markdown",
   "metadata": {},
   "source": [
    "### right_join\n",
    "The right_join() function works exactly like left_join(). The only difference is the row dropped. The value E, available in the destination data frame, exists in the new table and takes the value NA for the column y."
   ]
  },
  {
   "cell_type": "code",
   "execution_count": 6,
   "metadata": {},
   "outputs": [
    {
     "data": {
      "text/html": [
       "<table>\n",
       "<caption>A tibble: 5 × 3</caption>\n",
       "<thead>\n",
       "\t<tr><th scope=col>ID</th><th scope=col>y.x</th><th scope=col>y.y</th></tr>\n",
       "\t<tr><th scope=col>&lt;chr&gt;</th><th scope=col>&lt;dbl&gt;</th><th scope=col>&lt;dbl&gt;</th></tr>\n",
       "</thead>\n",
       "<tbody>\n",
       "\t<tr><td>A</td><td> 5</td><td>30</td></tr>\n",
       "\t<tr><td>B</td><td> 5</td><td>21</td></tr>\n",
       "\t<tr><td>C</td><td> 8</td><td>22</td></tr>\n",
       "\t<tr><td>D</td><td> 0</td><td>25</td></tr>\n",
       "\t<tr><td>E</td><td>NA</td><td>29</td></tr>\n",
       "</tbody>\n",
       "</table>\n"
      ],
      "text/latex": [
       "A tibble: 5 × 3\n",
       "\\begin{tabular}{lll}\n",
       " ID & y.x & y.y\\\\\n",
       " <chr> & <dbl> & <dbl>\\\\\n",
       "\\hline\n",
       "\t A &  5 & 30\\\\\n",
       "\t B &  5 & 21\\\\\n",
       "\t C &  8 & 22\\\\\n",
       "\t D &  0 & 25\\\\\n",
       "\t E & NA & 29\\\\\n",
       "\\end{tabular}\n"
      ],
      "text/markdown": [
       "\n",
       "A tibble: 5 × 3\n",
       "\n",
       "| ID &lt;chr&gt; | y.x &lt;dbl&gt; | y.y &lt;dbl&gt; |\n",
       "|---|---|---|\n",
       "| A |  5 | 30 |\n",
       "| B |  5 | 21 |\n",
       "| C |  8 | 22 |\n",
       "| D |  0 | 25 |\n",
       "| E | NA | 29 |\n",
       "\n"
      ],
      "text/plain": [
       "  ID y.x y.y\n",
       "1 A   5  30 \n",
       "2 B   5  21 \n",
       "3 C   8  22 \n",
       "4 D   0  25 \n",
       "5 E  NA  29 "
      ]
     },
     "metadata": {},
     "output_type": "display_data"
    }
   ],
   "source": [
    "right_join(df_primary,df_secondary,by = \"ID\")"
   ]
  },
  {
   "cell_type": "markdown",
   "metadata": {},
   "source": [
    "### inner_join\n",
    "When we are 100% sure that the two datasets won't match, we can consider to return **only** rows existing in **both** dataset. This is possible when we need a clean dataset or when we don't want to impute missing values with the mean or median.\n",
    "\n",
    "The inner_join()comes to help. This function excludes the unmatched rows."
   ]
  },
  {
   "cell_type": "code",
   "execution_count": 7,
   "metadata": {},
   "outputs": [
    {
     "data": {
      "text/html": [
       "<table>\n",
       "<caption>A tibble: 4 × 3</caption>\n",
       "<thead>\n",
       "\t<tr><th scope=col>ID</th><th scope=col>y.x</th><th scope=col>y.y</th></tr>\n",
       "\t<tr><th scope=col>&lt;chr&gt;</th><th scope=col>&lt;dbl&gt;</th><th scope=col>&lt;dbl&gt;</th></tr>\n",
       "</thead>\n",
       "<tbody>\n",
       "\t<tr><td>A</td><td>5</td><td>30</td></tr>\n",
       "\t<tr><td>B</td><td>5</td><td>21</td></tr>\n",
       "\t<tr><td>C</td><td>8</td><td>22</td></tr>\n",
       "\t<tr><td>D</td><td>0</td><td>25</td></tr>\n",
       "</tbody>\n",
       "</table>\n"
      ],
      "text/latex": [
       "A tibble: 4 × 3\n",
       "\\begin{tabular}{lll}\n",
       " ID & y.x & y.y\\\\\n",
       " <chr> & <dbl> & <dbl>\\\\\n",
       "\\hline\n",
       "\t A & 5 & 30\\\\\n",
       "\t B & 5 & 21\\\\\n",
       "\t C & 8 & 22\\\\\n",
       "\t D & 0 & 25\\\\\n",
       "\\end{tabular}\n"
      ],
      "text/markdown": [
       "\n",
       "A tibble: 4 × 3\n",
       "\n",
       "| ID &lt;chr&gt; | y.x &lt;dbl&gt; | y.y &lt;dbl&gt; |\n",
       "|---|---|---|\n",
       "| A | 5 | 30 |\n",
       "| B | 5 | 21 |\n",
       "| C | 8 | 22 |\n",
       "| D | 0 | 25 |\n",
       "\n"
      ],
      "text/plain": [
       "  ID y.x y.y\n",
       "1 A  5   30 \n",
       "2 B  5   21 \n",
       "3 C  8   22 \n",
       "4 D  0   25 "
      ]
     },
     "metadata": {},
     "output_type": "display_data"
    }
   ],
   "source": [
    "inner_join(df_primary,df_secondary,by=\"ID\")"
   ]
  },
  {
   "cell_type": "markdown",
   "metadata": {},
   "source": [
    "### full_join\n",
    "Finally, the full_join() function **keeps all observations** and replace missing values with NA."
   ]
  },
  {
   "cell_type": "code",
   "execution_count": 8,
   "metadata": {},
   "outputs": [
    {
     "data": {
      "text/html": [
       "<table>\n",
       "<caption>A tibble: 6 × 3</caption>\n",
       "<thead>\n",
       "\t<tr><th scope=col>ID</th><th scope=col>y.x</th><th scope=col>y.y</th></tr>\n",
       "\t<tr><th scope=col>&lt;chr&gt;</th><th scope=col>&lt;dbl&gt;</th><th scope=col>&lt;dbl&gt;</th></tr>\n",
       "</thead>\n",
       "<tbody>\n",
       "\t<tr><td>A</td><td> 5</td><td>30</td></tr>\n",
       "\t<tr><td>B</td><td> 5</td><td>21</td></tr>\n",
       "\t<tr><td>C</td><td> 8</td><td>22</td></tr>\n",
       "\t<tr><td>D</td><td> 0</td><td>25</td></tr>\n",
       "\t<tr><td>F</td><td> 9</td><td>NA</td></tr>\n",
       "\t<tr><td>E</td><td>NA</td><td>29</td></tr>\n",
       "</tbody>\n",
       "</table>\n"
      ],
      "text/latex": [
       "A tibble: 6 × 3\n",
       "\\begin{tabular}{lll}\n",
       " ID & y.x & y.y\\\\\n",
       " <chr> & <dbl> & <dbl>\\\\\n",
       "\\hline\n",
       "\t A &  5 & 30\\\\\n",
       "\t B &  5 & 21\\\\\n",
       "\t C &  8 & 22\\\\\n",
       "\t D &  0 & 25\\\\\n",
       "\t F &  9 & NA\\\\\n",
       "\t E & NA & 29\\\\\n",
       "\\end{tabular}\n"
      ],
      "text/markdown": [
       "\n",
       "A tibble: 6 × 3\n",
       "\n",
       "| ID &lt;chr&gt; | y.x &lt;dbl&gt; | y.y &lt;dbl&gt; |\n",
       "|---|---|---|\n",
       "| A |  5 | 30 |\n",
       "| B |  5 | 21 |\n",
       "| C |  8 | 22 |\n",
       "| D |  0 | 25 |\n",
       "| F |  9 | NA |\n",
       "| E | NA | 29 |\n",
       "\n"
      ],
      "text/plain": [
       "  ID y.x y.y\n",
       "1 A   5  30 \n",
       "2 B   5  21 \n",
       "3 C   8  22 \n",
       "4 D   0  25 \n",
       "5 F   9  NA \n",
       "6 E  NA  29 "
      ]
     },
     "metadata": {},
     "output_type": "display_data"
    }
   ],
   "source": [
    "full_join(df_primary,df_secondary,by=\"ID\")"
   ]
  },
  {
   "cell_type": "markdown",
   "metadata": {},
   "source": [
    "### Multiple keys pairs\n",
    "Last but not least, we can have multiple keys in our dataset. Consider the following dataset where we have years or a list of products bought by the customer.\n",
    "\n",
    "If we try to merge both tables, **you'll have a lot of duplicates**. To remedy the situation, we can pass two key-pairs variables. That is, ID and year which appear in both datasets. We can use the following code to merge table1 and table 2"
   ]
  },
  {
   "cell_type": "code",
   "execution_count": 11,
   "metadata": {},
   "outputs": [
    {
     "data": {
      "text/html": [
       "<table>\n",
       "<caption>A tibble: 9 × 4</caption>\n",
       "<thead>\n",
       "\t<tr><th scope=col>ID</th><th scope=col>year</th><th scope=col>items</th><th scope=col>prices</th></tr>\n",
       "\t<tr><th scope=col>&lt;chr&gt;</th><th scope=col>&lt;dbl&gt;</th><th scope=col>&lt;dbl&gt;</th><th scope=col>&lt;dbl&gt;</th></tr>\n",
       "</thead>\n",
       "<tbody>\n",
       "\t<tr><td>A</td><td>2015</td><td>3</td><td> 9</td></tr>\n",
       "\t<tr><td>A</td><td>2016</td><td>7</td><td> 8</td></tr>\n",
       "\t<tr><td>A</td><td>2017</td><td>6</td><td>12</td></tr>\n",
       "\t<tr><td>B</td><td>2015</td><td>4</td><td>13</td></tr>\n",
       "\t<tr><td>B</td><td>2016</td><td>8</td><td>14</td></tr>\n",
       "\t<tr><td>B</td><td>2017</td><td>7</td><td> 6</td></tr>\n",
       "\t<tr><td>C</td><td>2015</td><td>4</td><td>15</td></tr>\n",
       "\t<tr><td>C</td><td>2016</td><td>6</td><td>15</td></tr>\n",
       "\t<tr><td>C</td><td>2017</td><td>6</td><td>13</td></tr>\n",
       "</tbody>\n",
       "</table>\n"
      ],
      "text/latex": [
       "A tibble: 9 × 4\n",
       "\\begin{tabular}{llll}\n",
       " ID & year & items & prices\\\\\n",
       " <chr> & <dbl> & <dbl> & <dbl>\\\\\n",
       "\\hline\n",
       "\t A & 2015 & 3 &  9\\\\\n",
       "\t A & 2016 & 7 &  8\\\\\n",
       "\t A & 2017 & 6 & 12\\\\\n",
       "\t B & 2015 & 4 & 13\\\\\n",
       "\t B & 2016 & 8 & 14\\\\\n",
       "\t B & 2017 & 7 &  6\\\\\n",
       "\t C & 2015 & 4 & 15\\\\\n",
       "\t C & 2016 & 6 & 15\\\\\n",
       "\t C & 2017 & 6 & 13\\\\\n",
       "\\end{tabular}\n"
      ],
      "text/markdown": [
       "\n",
       "A tibble: 9 × 4\n",
       "\n",
       "| ID &lt;chr&gt; | year &lt;dbl&gt; | items &lt;dbl&gt; | prices &lt;dbl&gt; |\n",
       "|---|---|---|---|\n",
       "| A | 2015 | 3 |  9 |\n",
       "| A | 2016 | 7 |  8 |\n",
       "| A | 2017 | 6 | 12 |\n",
       "| B | 2015 | 4 | 13 |\n",
       "| B | 2016 | 8 | 14 |\n",
       "| B | 2017 | 7 |  6 |\n",
       "| C | 2015 | 4 | 15 |\n",
       "| C | 2016 | 6 | 15 |\n",
       "| C | 2017 | 6 | 13 |\n",
       "\n"
      ],
      "text/plain": [
       "  ID year items prices\n",
       "1 A  2015 3      9    \n",
       "2 A  2016 7      8    \n",
       "3 A  2017 6     12    \n",
       "4 B  2015 4     13    \n",
       "5 B  2016 8     14    \n",
       "6 B  2017 7      6    \n",
       "7 C  2015 4     15    \n",
       "8 C  2016 6     15    \n",
       "9 C  2017 6     13    "
      ]
     },
     "metadata": {},
     "output_type": "display_data"
    }
   ],
   "source": [
    "df_primary <- tribble(\n",
    "  ~ID, ~year, ~items,\n",
    "  \"A\", 2015,3,\n",
    "  \"A\", 2016,7,\n",
    "  \"A\", 2017,6,\n",
    "  \"B\", 2015,4,\n",
    "  \"B\", 2016,8,\n",
    "  \"B\", 2017,7,\n",
    "  \"C\", 2015,4,\n",
    "  \"C\", 2016,6,\n",
    "  \"C\", 2017,6)\n",
    "df_secondary <- tribble(\n",
    "  ~ID, ~year, ~prices,\n",
    "  \"A\", 2015,9,\n",
    "  \"A\", 2016,8,\n",
    "  \"A\", 2017,12,\n",
    "  \"B\", 2015,13,\n",
    "  \"B\", 2016,14,\n",
    "  \"B\", 2017,6,\n",
    "  \"C\", 2015,15,\n",
    "  \"C\", 2016,15,\n",
    "  \"C\", 2017,13)\n",
    "left_join(df_primary, df_secondary, by = c('ID','year'))"
   ]
  },
  {
   "cell_type": "markdown",
   "metadata": {},
   "source": [
    "## Data cleaning functions\n",
    "\n",
    "Following are four important functions to tidy the data:\n",
    "\n",
    "* gather(): Transform the data from wide to long\n",
    "* spread(): Transform the data from long to wide\n",
    "* separate(): Split one variable into two\n",
    "* unit(): Unit two variables into one\n",
    "\n",
    "We use the tidyr library. This library belongs to the collection of the library to manipulate, clean and visualize the data. If we install R with anaconda, the library is already installed. We can find the library [here](https://anaconda.org/r/r-tidyr).\n",
    "\n",
    "If not installed already, enter the following command\n",
    "\n",
    "install tidyr : ```install.packages(\"tidyr\")```\n",
    "\n",
    "to install tidyr"
   ]
  },
  {
   "cell_type": "markdown",
   "metadata": {},
   "source": [
    "### gather\n",
    "\n",
    "The objectives of the gather() function is to transform the data from wide to long.\n",
    "\n",
    "gather(data, key, value, na.rm = FALSE)\n",
    "\n",
    "Arguments:\n",
    "* data: The data frame used to reshape the dataset \n",
    "* key: Name of the new column created\n",
    "* value: Select the columns used to fill the key column\n",
    "* na.rm: Remove missing values. FALSE by default\n",
    "\n",
    "Below, we can visualize the concept of reshaping wide to long. We want to create a single column named growth, filled by the rows of the quarter variables."
   ]
  },
  {
   "cell_type": "code",
   "execution_count": 13,
   "metadata": {},
   "outputs": [
    {
     "data": {
      "text/html": [
       "<table>\n",
       "<caption>A data.frame: 3 × 5</caption>\n",
       "<thead>\n",
       "\t<tr><th scope=col>country</th><th scope=col>q1_2017</th><th scope=col>q2_2017</th><th scope=col>q3_2017</th><th scope=col>q4_2017</th></tr>\n",
       "\t<tr><th scope=col>&lt;fct&gt;</th><th scope=col>&lt;dbl&gt;</th><th scope=col>&lt;dbl&gt;</th><th scope=col>&lt;dbl&gt;</th><th scope=col>&lt;dbl&gt;</th></tr>\n",
       "</thead>\n",
       "<tbody>\n",
       "\t<tr><td>A</td><td>0.03</td><td>0.05</td><td>0.04</td><td>0.03</td></tr>\n",
       "\t<tr><td>B</td><td>0.05</td><td>0.07</td><td>0.05</td><td>0.02</td></tr>\n",
       "\t<tr><td>C</td><td>0.01</td><td>0.02</td><td>0.01</td><td>0.04</td></tr>\n",
       "</tbody>\n",
       "</table>\n"
      ],
      "text/latex": [
       "A data.frame: 3 × 5\n",
       "\\begin{tabular}{lllll}\n",
       " country & q1\\_2017 & q2\\_2017 & q3\\_2017 & q4\\_2017\\\\\n",
       " <fct> & <dbl> & <dbl> & <dbl> & <dbl>\\\\\n",
       "\\hline\n",
       "\t A & 0.03 & 0.05 & 0.04 & 0.03\\\\\n",
       "\t B & 0.05 & 0.07 & 0.05 & 0.02\\\\\n",
       "\t C & 0.01 & 0.02 & 0.01 & 0.04\\\\\n",
       "\\end{tabular}\n"
      ],
      "text/markdown": [
       "\n",
       "A data.frame: 3 × 5\n",
       "\n",
       "| country &lt;fct&gt; | q1_2017 &lt;dbl&gt; | q2_2017 &lt;dbl&gt; | q3_2017 &lt;dbl&gt; | q4_2017 &lt;dbl&gt; |\n",
       "|---|---|---|---|---|\n",
       "| A | 0.03 | 0.05 | 0.04 | 0.03 |\n",
       "| B | 0.05 | 0.07 | 0.05 | 0.02 |\n",
       "| C | 0.01 | 0.02 | 0.01 | 0.04 |\n",
       "\n"
      ],
      "text/plain": [
       "  country q1_2017 q2_2017 q3_2017 q4_2017\n",
       "1 A       0.03    0.05    0.04    0.03   \n",
       "2 B       0.05    0.07    0.05    0.02   \n",
       "3 C       0.01    0.02    0.01    0.04   "
      ]
     },
     "metadata": {},
     "output_type": "display_data"
    }
   ],
   "source": [
    "# tidyr comes from the word \"tidy\"\n",
    "library(tidyr)\n",
    "# Create a messy dataset\n",
    "messy <- data.frame(\n",
    "  country = c(\"A\", \"B\", \"C\"),\n",
    "  q1_2017 = c(0.03, 0.05, 0.01),\n",
    "  q2_2017 = c(0.05, 0.07, 0.02),\n",
    "  q3_2017 = c(0.04, 0.05, 0.01),\n",
    "  q4_2017 = c(0.03, 0.02, 0.04))\n",
    "messy"
   ]
  },
  {
   "cell_type": "code",
   "execution_count": 17,
   "metadata": {},
   "outputs": [
    {
     "data": {
      "text/html": [
       "<table>\n",
       "<caption>A data.frame: 12 × 3</caption>\n",
       "<thead>\n",
       "\t<tr><th scope=col>country</th><th scope=col>quarter</th><th scope=col>growth</th></tr>\n",
       "\t<tr><th scope=col>&lt;fct&gt;</th><th scope=col>&lt;chr&gt;</th><th scope=col>&lt;dbl&gt;</th></tr>\n",
       "</thead>\n",
       "<tbody>\n",
       "\t<tr><td>A</td><td>q1_2017</td><td>0.03</td></tr>\n",
       "\t<tr><td>B</td><td>q1_2017</td><td>0.05</td></tr>\n",
       "\t<tr><td>C</td><td>q1_2017</td><td>0.01</td></tr>\n",
       "\t<tr><td>A</td><td>q2_2017</td><td>0.05</td></tr>\n",
       "\t<tr><td>B</td><td>q2_2017</td><td>0.07</td></tr>\n",
       "\t<tr><td>C</td><td>q2_2017</td><td>0.02</td></tr>\n",
       "\t<tr><td>A</td><td>q3_2017</td><td>0.04</td></tr>\n",
       "\t<tr><td>B</td><td>q3_2017</td><td>0.05</td></tr>\n",
       "\t<tr><td>C</td><td>q3_2017</td><td>0.01</td></tr>\n",
       "\t<tr><td>A</td><td>q4_2017</td><td>0.03</td></tr>\n",
       "\t<tr><td>B</td><td>q4_2017</td><td>0.02</td></tr>\n",
       "\t<tr><td>C</td><td>q4_2017</td><td>0.04</td></tr>\n",
       "</tbody>\n",
       "</table>\n"
      ],
      "text/latex": [
       "A data.frame: 12 × 3\n",
       "\\begin{tabular}{lll}\n",
       " country & quarter & growth\\\\\n",
       " <fct> & <chr> & <dbl>\\\\\n",
       "\\hline\n",
       "\t A & q1\\_2017 & 0.03\\\\\n",
       "\t B & q1\\_2017 & 0.05\\\\\n",
       "\t C & q1\\_2017 & 0.01\\\\\n",
       "\t A & q2\\_2017 & 0.05\\\\\n",
       "\t B & q2\\_2017 & 0.07\\\\\n",
       "\t C & q2\\_2017 & 0.02\\\\\n",
       "\t A & q3\\_2017 & 0.04\\\\\n",
       "\t B & q3\\_2017 & 0.05\\\\\n",
       "\t C & q3\\_2017 & 0.01\\\\\n",
       "\t A & q4\\_2017 & 0.03\\\\\n",
       "\t B & q4\\_2017 & 0.02\\\\\n",
       "\t C & q4\\_2017 & 0.04\\\\\n",
       "\\end{tabular}\n"
      ],
      "text/markdown": [
       "\n",
       "A data.frame: 12 × 3\n",
       "\n",
       "| country &lt;fct&gt; | quarter &lt;chr&gt; | growth &lt;dbl&gt; |\n",
       "|---|---|---|\n",
       "| A | q1_2017 | 0.03 |\n",
       "| B | q1_2017 | 0.05 |\n",
       "| C | q1_2017 | 0.01 |\n",
       "| A | q2_2017 | 0.05 |\n",
       "| B | q2_2017 | 0.07 |\n",
       "| C | q2_2017 | 0.02 |\n",
       "| A | q3_2017 | 0.04 |\n",
       "| B | q3_2017 | 0.05 |\n",
       "| C | q3_2017 | 0.01 |\n",
       "| A | q4_2017 | 0.03 |\n",
       "| B | q4_2017 | 0.02 |\n",
       "| C | q4_2017 | 0.04 |\n",
       "\n"
      ],
      "text/plain": [
       "   country quarter growth\n",
       "1  A       q1_2017 0.03  \n",
       "2  B       q1_2017 0.05  \n",
       "3  C       q1_2017 0.01  \n",
       "4  A       q2_2017 0.05  \n",
       "5  B       q2_2017 0.07  \n",
       "6  C       q2_2017 0.02  \n",
       "7  A       q3_2017 0.04  \n",
       "8  B       q3_2017 0.05  \n",
       "9  C       q3_2017 0.01  \n",
       "10 A       q4_2017 0.03  \n",
       "11 B       q4_2017 0.02  \n",
       "12 C       q4_2017 0.04  "
      ]
     },
     "metadata": {},
     "output_type": "display_data"
    }
   ],
   "source": [
    "# make columns in to a column\n",
    "tidier <-messy %>%\n",
    "gather(quarter,growth,q1_2017:q4_2017)\n",
    "tidier"
   ]
  },
  {
   "cell_type": "markdown",
   "metadata": {},
   "source": [
    "### spread\n",
    "The spread() function does the opposite of gather.\n",
    "```r\n",
    "spread(data, key, value)\n",
    "```\n",
    "arguments: \n",
    "* data: The data frame used to reshape the dataset \n",
    "* key: Column to reshape long to wide\n",
    "* value: Rows used to fill the new column\n",
    "\n",
    "Works somewhere like cross tab\n",
    "* key: crosstab columns\n",
    "* value: crosstab values"
   ]
  },
  {
   "cell_type": "code",
   "execution_count": 19,
   "metadata": {},
   "outputs": [
    {
     "data": {
      "text/html": [
       "<table>\n",
       "<caption>A data.frame: 3 × 5</caption>\n",
       "<thead>\n",
       "\t<tr><th scope=col>country</th><th scope=col>q1_2017</th><th scope=col>q2_2017</th><th scope=col>q3_2017</th><th scope=col>q4_2017</th></tr>\n",
       "\t<tr><th scope=col>&lt;fct&gt;</th><th scope=col>&lt;dbl&gt;</th><th scope=col>&lt;dbl&gt;</th><th scope=col>&lt;dbl&gt;</th><th scope=col>&lt;dbl&gt;</th></tr>\n",
       "</thead>\n",
       "<tbody>\n",
       "\t<tr><td>A</td><td>0.03</td><td>0.05</td><td>0.04</td><td>0.03</td></tr>\n",
       "\t<tr><td>B</td><td>0.05</td><td>0.07</td><td>0.05</td><td>0.02</td></tr>\n",
       "\t<tr><td>C</td><td>0.01</td><td>0.02</td><td>0.01</td><td>0.04</td></tr>\n",
       "</tbody>\n",
       "</table>\n"
      ],
      "text/latex": [
       "A data.frame: 3 × 5\n",
       "\\begin{tabular}{lllll}\n",
       " country & q1\\_2017 & q2\\_2017 & q3\\_2017 & q4\\_2017\\\\\n",
       " <fct> & <dbl> & <dbl> & <dbl> & <dbl>\\\\\n",
       "\\hline\n",
       "\t A & 0.03 & 0.05 & 0.04 & 0.03\\\\\n",
       "\t B & 0.05 & 0.07 & 0.05 & 0.02\\\\\n",
       "\t C & 0.01 & 0.02 & 0.01 & 0.04\\\\\n",
       "\\end{tabular}\n"
      ],
      "text/markdown": [
       "\n",
       "A data.frame: 3 × 5\n",
       "\n",
       "| country &lt;fct&gt; | q1_2017 &lt;dbl&gt; | q2_2017 &lt;dbl&gt; | q3_2017 &lt;dbl&gt; | q4_2017 &lt;dbl&gt; |\n",
       "|---|---|---|---|---|\n",
       "| A | 0.03 | 0.05 | 0.04 | 0.03 |\n",
       "| B | 0.05 | 0.07 | 0.05 | 0.02 |\n",
       "| C | 0.01 | 0.02 | 0.01 | 0.04 |\n",
       "\n"
      ],
      "text/plain": [
       "  country q1_2017 q2_2017 q3_2017 q4_2017\n",
       "1 A       0.03    0.05    0.04    0.03   \n",
       "2 B       0.05    0.07    0.05    0.02   \n",
       "3 C       0.01    0.02    0.01    0.04   "
      ]
     },
     "metadata": {},
     "output_type": "display_data"
    }
   ],
   "source": [
    "messy_1 <-tidier %>%\n",
    "    spread(quarter,growth)\n",
    "messy_1"
   ]
  },
  {
   "cell_type": "markdown",
   "metadata": {},
   "source": [
    "### separate\n",
    "\n",
    "The ```separate()``` function splits a column into two according to a separator. This function is helpful in some situations where the variable is a date. Our analysis can require focussing on month and year and we want to separate the column into two new variables.\n",
    "\n",
    "```r\n",
    "separate(data, col, into, sep= \"\", remove = TRUE)\n",
    "```\n",
    "\n",
    "arguments:\n",
    "* data: The data frame used to reshape the dataset \n",
    "* col: The column to split\n",
    "* into: The name of the new variables\n",
    "* sep: Indicates the symbol used that separates the variable, i.e.:  \"-\", \"_\", \"&\"\n",
    "* remove: Remove the old column. By default sets to TRUE."
   ]
  },
  {
   "cell_type": "code",
   "execution_count": 20,
   "metadata": {},
   "outputs": [
    {
     "data": {
      "text/html": [
       "<table>\n",
       "<caption>A data.frame: 6 × 4</caption>\n",
       "<thead>\n",
       "\t<tr><th></th><th scope=col>country</th><th scope=col>Qrt</th><th scope=col>Year</th><th scope=col>growth</th></tr>\n",
       "\t<tr><th></th><th scope=col>&lt;fct&gt;</th><th scope=col>&lt;chr&gt;</th><th scope=col>&lt;chr&gt;</th><th scope=col>&lt;dbl&gt;</th></tr>\n",
       "</thead>\n",
       "<tbody>\n",
       "\t<tr><th scope=row>1</th><td>A</td><td>q1</td><td>2017</td><td>0.03</td></tr>\n",
       "\t<tr><th scope=row>2</th><td>B</td><td>q1</td><td>2017</td><td>0.05</td></tr>\n",
       "\t<tr><th scope=row>3</th><td>C</td><td>q1</td><td>2017</td><td>0.01</td></tr>\n",
       "\t<tr><th scope=row>4</th><td>A</td><td>q2</td><td>2017</td><td>0.05</td></tr>\n",
       "\t<tr><th scope=row>5</th><td>B</td><td>q2</td><td>2017</td><td>0.07</td></tr>\n",
       "\t<tr><th scope=row>6</th><td>C</td><td>q2</td><td>2017</td><td>0.02</td></tr>\n",
       "</tbody>\n",
       "</table>\n"
      ],
      "text/latex": [
       "A data.frame: 6 × 4\n",
       "\\begin{tabular}{r|llll}\n",
       "  & country & Qrt & Year & growth\\\\\n",
       "  & <fct> & <chr> & <chr> & <dbl>\\\\\n",
       "\\hline\n",
       "\t1 & A & q1 & 2017 & 0.03\\\\\n",
       "\t2 & B & q1 & 2017 & 0.05\\\\\n",
       "\t3 & C & q1 & 2017 & 0.01\\\\\n",
       "\t4 & A & q2 & 2017 & 0.05\\\\\n",
       "\t5 & B & q2 & 2017 & 0.07\\\\\n",
       "\t6 & C & q2 & 2017 & 0.02\\\\\n",
       "\\end{tabular}\n"
      ],
      "text/markdown": [
       "\n",
       "A data.frame: 6 × 4\n",
       "\n",
       "| <!--/--> | country &lt;fct&gt; | Qrt &lt;chr&gt; | Year &lt;chr&gt; | growth &lt;dbl&gt; |\n",
       "|---|---|---|---|---|\n",
       "| 1 | A | q1 | 2017 | 0.03 |\n",
       "| 2 | B | q1 | 2017 | 0.05 |\n",
       "| 3 | C | q1 | 2017 | 0.01 |\n",
       "| 4 | A | q2 | 2017 | 0.05 |\n",
       "| 5 | B | q2 | 2017 | 0.07 |\n",
       "| 6 | C | q2 | 2017 | 0.02 |\n",
       "\n"
      ],
      "text/plain": [
       "  country Qrt Year growth\n",
       "1 A       q1  2017 0.03  \n",
       "2 B       q1  2017 0.05  \n",
       "3 C       q1  2017 0.01  \n",
       "4 A       q2  2017 0.05  \n",
       "5 B       q2  2017 0.07  \n",
       "6 C       q2  2017 0.02  "
      ]
     },
     "metadata": {},
     "output_type": "display_data"
    }
   ],
   "source": [
    "# this will split the column cell by sep\n",
    "separate_tidier <-tidier %>%\n",
    "separate(quarter, c(\"Qrt\",\"Year\"),sep=\"_\")\n",
    "head(separate_tidier)"
   ]
  },
  {
   "cell_type": "markdown",
   "metadata": {},
   "source": [
    "### unite\n",
    "The ```unite()``` function concanates two columns into one.\n",
    "\n",
    "```r\n",
    "unit(data, col, conc ,sep= \"\", remove = TRUE)\n",
    "```\n",
    "\n",
    "arguments:\n",
    "* data: The data frame used to reshape the dataset \n",
    "* col: Name of the new column\n",
    "* conc: Name of the columns to concatenate, should be more than one arg\n",
    "* sep: Indicates the symbol used that unites the variable, i.e:  \"-\", \"_\", \"&\"\n",
    "* remove: Remove the old columns. By default, sets to TRUE"
   ]
  },
  {
   "cell_type": "code",
   "execution_count": 21,
   "metadata": {},
   "outputs": [
    {
     "data": {
      "text/html": [
       "<table>\n",
       "<caption>A data.frame: 6 × 3</caption>\n",
       "<thead>\n",
       "\t<tr><th></th><th scope=col>country</th><th scope=col>Quarter</th><th scope=col>growth</th></tr>\n",
       "\t<tr><th></th><th scope=col>&lt;fct&gt;</th><th scope=col>&lt;chr&gt;</th><th scope=col>&lt;dbl&gt;</th></tr>\n",
       "</thead>\n",
       "<tbody>\n",
       "\t<tr><th scope=row>1</th><td>A</td><td>q1/2017</td><td>0.03</td></tr>\n",
       "\t<tr><th scope=row>2</th><td>B</td><td>q1/2017</td><td>0.05</td></tr>\n",
       "\t<tr><th scope=row>3</th><td>C</td><td>q1/2017</td><td>0.01</td></tr>\n",
       "\t<tr><th scope=row>4</th><td>A</td><td>q2/2017</td><td>0.05</td></tr>\n",
       "\t<tr><th scope=row>5</th><td>B</td><td>q2/2017</td><td>0.07</td></tr>\n",
       "\t<tr><th scope=row>6</th><td>C</td><td>q2/2017</td><td>0.02</td></tr>\n",
       "</tbody>\n",
       "</table>\n"
      ],
      "text/latex": [
       "A data.frame: 6 × 3\n",
       "\\begin{tabular}{r|lll}\n",
       "  & country & Quarter & growth\\\\\n",
       "  & <fct> & <chr> & <dbl>\\\\\n",
       "\\hline\n",
       "\t1 & A & q1/2017 & 0.03\\\\\n",
       "\t2 & B & q1/2017 & 0.05\\\\\n",
       "\t3 & C & q1/2017 & 0.01\\\\\n",
       "\t4 & A & q2/2017 & 0.05\\\\\n",
       "\t5 & B & q2/2017 & 0.07\\\\\n",
       "\t6 & C & q2/2017 & 0.02\\\\\n",
       "\\end{tabular}\n"
      ],
      "text/markdown": [
       "\n",
       "A data.frame: 6 × 3\n",
       "\n",
       "| <!--/--> | country &lt;fct&gt; | Quarter &lt;chr&gt; | growth &lt;dbl&gt; |\n",
       "|---|---|---|---|\n",
       "| 1 | A | q1/2017 | 0.03 |\n",
       "| 2 | B | q1/2017 | 0.05 |\n",
       "| 3 | C | q1/2017 | 0.01 |\n",
       "| 4 | A | q2/2017 | 0.05 |\n",
       "| 5 | B | q2/2017 | 0.07 |\n",
       "| 6 | C | q2/2017 | 0.02 |\n",
       "\n"
      ],
      "text/plain": [
       "  country Quarter growth\n",
       "1 A       q1/2017 0.03  \n",
       "2 B       q1/2017 0.05  \n",
       "3 C       q1/2017 0.01  \n",
       "4 A       q2/2017 0.05  \n",
       "5 B       q2/2017 0.07  \n",
       "6 C       q2/2017 0.02  "
      ]
     },
     "metadata": {},
     "output_type": "display_data"
    }
   ],
   "source": [
    "unit_tidier <-separate_tidier %>%\n",
    "unite(Quarter,Qrt,Year, sep=\"/\")\n",
    "head(unit_tidier)"
   ]
  }
 ],
 "metadata": {
  "kernelspec": {
   "display_name": "R",
   "language": "R",
   "name": "ir"
  },
  "language_info": {
   "codemirror_mode": "r",
   "file_extension": ".r",
   "mimetype": "text/x-r-source",
   "name": "R",
   "pygments_lexer": "r",
   "version": "3.6.2"
  }
 },
 "nbformat": 4,
 "nbformat_minor": 4
}
