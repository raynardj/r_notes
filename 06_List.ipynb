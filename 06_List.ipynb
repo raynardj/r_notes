{
 "cells": [
  {
   "cell_type": "markdown",
   "metadata": {},
   "source": [
    "# List  in R\n",
    "> Create, Select Elements with Example"
   ]
  },
  {
   "cell_type": "markdown",
   "metadata": {},
   "source": [
    "We exercise the code based on [this tutorial](https://www.guru99.com/r-lists-create-select.html)\n",
    "\n",
    "A list is a great tool to store many kinds of object in the order expected. We can include matrices, vectors data frames or lists. We can imagine a list as a bag in which we want to put many different items. When we need to use an item, we open the bag and use it. \n",
    "\n",
    "A list is similar; we can store a collection of objects and use them when we need them."
   ]
  },
  {
   "cell_type": "markdown",
   "metadata": {},
   "source": [
    "## Create a list\n",
    "\n",
    "We can use list() function to create a list.\n",
    "\n",
    "```R\n",
    "list(element_1, ...)\n",
    "arguments:\n",
    "-element_1: store any type of R object\n",
    "-...: pass as many objects as specifying. each object needs to be separated by a comma\n",
    "```\n",
    "\n",
    "In the example below, we create three different objects, a vector, a matrix and a data frame."
   ]
  },
  {
   "cell_type": "code",
   "execution_count": 4,
   "metadata": {},
   "outputs": [
    {
     "data": {
      "text/html": [
       "<style>\n",
       ".list-inline {list-style: none; margin:0; padding: 0}\n",
       ".list-inline>li {display: inline-block}\n",
       ".list-inline>li:not(:last-child)::after {content: \"\\00b7\"; padding: 0 .5ex}\n",
       "</style>\n",
       "<ol class=list-inline><li>1</li><li>2</li><li>3</li><li>4</li><li>5</li></ol>\n"
      ],
      "text/latex": [
       "\\begin{enumerate*}\n",
       "\\item 1\n",
       "\\item 2\n",
       "\\item 3\n",
       "\\item 4\n",
       "\\item 5\n",
       "\\end{enumerate*}\n"
      ],
      "text/markdown": [
       "1. 1\n",
       "2. 2\n",
       "3. 3\n",
       "4. 4\n",
       "5. 5\n",
       "\n",
       "\n"
      ],
      "text/plain": [
       "[1] 1 2 3 4 5"
      ]
     },
     "metadata": {},
     "output_type": "display_data"
    }
   ],
   "source": [
    "vect <- 1:5\n",
    "vect"
   ]
  },
  {
   "cell_type": "code",
   "execution_count": 5,
   "metadata": {},
   "outputs": [
    {
     "data": {
      "text/html": [
       "<style>\n",
       ".list-inline {list-style: none; margin:0; padding: 0}\n",
       ".list-inline>li {display: inline-block}\n",
       ".list-inline>li:not(:last-child)::after {content: \"\\00b7\"; padding: 0 .5ex}\n",
       "</style>\n",
       "<ol class=list-inline><li>2</li><li>5</li></ol>\n"
      ],
      "text/latex": [
       "\\begin{enumerate*}\n",
       "\\item 2\n",
       "\\item 5\n",
       "\\end{enumerate*}\n"
      ],
      "text/markdown": [
       "1. 2\n",
       "2. 5\n",
       "\n",
       "\n"
      ],
      "text/plain": [
       "[1] 2 5"
      ]
     },
     "metadata": {},
     "output_type": "display_data"
    }
   ],
   "source": [
    "mat <- matrix(1:10, ncol = 5)\n",
    "dim(mat)"
   ]
  },
  {
   "cell_type": "code",
   "execution_count": 9,
   "metadata": {},
   "outputs": [
    {
     "data": {
      "text/html": [
       "<table>\n",
       "<caption>A matrix: 10 × 4 of type dbl</caption>\n",
       "<thead>\n",
       "\t<tr><th scope=col>DAX</th><th scope=col>SMI</th><th scope=col>CAC</th><th scope=col>FTSE</th></tr>\n",
       "</thead>\n",
       "<tbody>\n",
       "\t<tr><td>1628.75</td><td>1678.1</td><td>1772.8</td><td>2443.6</td></tr>\n",
       "\t<tr><td>1613.63</td><td>1688.5</td><td>1750.5</td><td>2460.2</td></tr>\n",
       "\t<tr><td>1606.51</td><td>1678.6</td><td>1718.0</td><td>2448.2</td></tr>\n",
       "\t<tr><td>1621.04</td><td>1684.1</td><td>1708.1</td><td>2470.4</td></tr>\n",
       "\t<tr><td>1618.16</td><td>1686.6</td><td>1723.1</td><td>2484.7</td></tr>\n",
       "\t<tr><td>1610.61</td><td>1671.6</td><td>1714.3</td><td>2466.8</td></tr>\n",
       "\t<tr><td>1630.75</td><td>1682.9</td><td>1734.5</td><td>2487.9</td></tr>\n",
       "\t<tr><td>1640.17</td><td>1703.6</td><td>1757.4</td><td>2508.4</td></tr>\n",
       "\t<tr><td>1635.47</td><td>1697.5</td><td>1754.0</td><td>2510.5</td></tr>\n",
       "\t<tr><td>1645.89</td><td>1716.3</td><td>1754.3</td><td>2497.4</td></tr>\n",
       "</tbody>\n",
       "</table>\n"
      ],
      "text/latex": [
       "A matrix: 10 × 4 of type dbl\n",
       "\\begin{tabular}{llll}\n",
       " DAX & SMI & CAC & FTSE\\\\\n",
       "\\hline\n",
       "\t 1628.75 & 1678.1 & 1772.8 & 2443.6\\\\\n",
       "\t 1613.63 & 1688.5 & 1750.5 & 2460.2\\\\\n",
       "\t 1606.51 & 1678.6 & 1718.0 & 2448.2\\\\\n",
       "\t 1621.04 & 1684.1 & 1708.1 & 2470.4\\\\\n",
       "\t 1618.16 & 1686.6 & 1723.1 & 2484.7\\\\\n",
       "\t 1610.61 & 1671.6 & 1714.3 & 2466.8\\\\\n",
       "\t 1630.75 & 1682.9 & 1734.5 & 2487.9\\\\\n",
       "\t 1640.17 & 1703.6 & 1757.4 & 2508.4\\\\\n",
       "\t 1635.47 & 1697.5 & 1754.0 & 2510.5\\\\\n",
       "\t 1645.89 & 1716.3 & 1754.3 & 2497.4\\\\\n",
       "\\end{tabular}\n"
      ],
      "text/markdown": [
       "\n",
       "A matrix: 10 × 4 of type dbl\n",
       "\n",
       "| DAX | SMI | CAC | FTSE |\n",
       "|---|---|---|---|\n",
       "| 1628.75 | 1678.1 | 1772.8 | 2443.6 |\n",
       "| 1613.63 | 1688.5 | 1750.5 | 2460.2 |\n",
       "| 1606.51 | 1678.6 | 1718.0 | 2448.2 |\n",
       "| 1621.04 | 1684.1 | 1708.1 | 2470.4 |\n",
       "| 1618.16 | 1686.6 | 1723.1 | 2484.7 |\n",
       "| 1610.61 | 1671.6 | 1714.3 | 2466.8 |\n",
       "| 1630.75 | 1682.9 | 1734.5 | 2487.9 |\n",
       "| 1640.17 | 1703.6 | 1757.4 | 2508.4 |\n",
       "| 1635.47 | 1697.5 | 1754.0 | 2510.5 |\n",
       "| 1645.89 | 1716.3 | 1754.3 | 2497.4 |\n",
       "\n"
      ],
      "text/plain": [
       "      DAX     SMI    CAC    FTSE  \n",
       " [1,] 1628.75 1678.1 1772.8 2443.6\n",
       " [2,] 1613.63 1688.5 1750.5 2460.2\n",
       " [3,] 1606.51 1678.6 1718.0 2448.2\n",
       " [4,] 1621.04 1684.1 1708.1 2470.4\n",
       " [5,] 1618.16 1686.6 1723.1 2484.7\n",
       " [6,] 1610.61 1671.6 1714.3 2466.8\n",
       " [7,] 1630.75 1682.9 1734.5 2487.9\n",
       " [8,] 1640.17 1703.6 1757.4 2508.4\n",
       " [9,] 1635.47 1697.5 1754.0 2510.5\n",
       "[10,] 1645.89 1716.3 1754.3 2497.4"
      ]
     },
     "metadata": {},
     "output_type": "display_data"
    }
   ],
   "source": [
    "df <- EuStockMarkets[1:10,]\n",
    "df"
   ]
  },
  {
   "cell_type": "markdown",
   "metadata": {},
   "source": [
    "Use a list to contain all those type"
   ]
  },
  {
   "cell_type": "code",
   "execution_count": 11,
   "metadata": {},
   "outputs": [
    {
     "data": {
      "text/html": [
       "<ol>\n",
       "\t<li><style>\n",
       ".list-inline {list-style: none; margin:0; padding: 0}\n",
       ".list-inline>li {display: inline-block}\n",
       ".list-inline>li:not(:last-child)::after {content: \"\\00b7\"; padding: 0 .5ex}\n",
       "</style>\n",
       "<ol class=list-inline><li>1</li><li>2</li><li>3</li><li>4</li><li>5</li></ol>\n",
       "</li>\n",
       "\t<li><table>\n",
       "<caption>A matrix: 2 × 5 of type int</caption>\n",
       "<tbody>\n",
       "\t<tr><td>1</td><td>3</td><td>5</td><td>7</td><td> 9</td></tr>\n",
       "\t<tr><td>2</td><td>4</td><td>6</td><td>8</td><td>10</td></tr>\n",
       "</tbody>\n",
       "</table>\n",
       "</li>\n",
       "\t<li><table>\n",
       "<caption>A matrix: 10 × 4 of type dbl</caption>\n",
       "<thead>\n",
       "\t<tr><th scope=col>DAX</th><th scope=col>SMI</th><th scope=col>CAC</th><th scope=col>FTSE</th></tr>\n",
       "</thead>\n",
       "<tbody>\n",
       "\t<tr><td>1628.75</td><td>1678.1</td><td>1772.8</td><td>2443.6</td></tr>\n",
       "\t<tr><td>1613.63</td><td>1688.5</td><td>1750.5</td><td>2460.2</td></tr>\n",
       "\t<tr><td>1606.51</td><td>1678.6</td><td>1718.0</td><td>2448.2</td></tr>\n",
       "\t<tr><td>1621.04</td><td>1684.1</td><td>1708.1</td><td>2470.4</td></tr>\n",
       "\t<tr><td>1618.16</td><td>1686.6</td><td>1723.1</td><td>2484.7</td></tr>\n",
       "\t<tr><td>1610.61</td><td>1671.6</td><td>1714.3</td><td>2466.8</td></tr>\n",
       "\t<tr><td>1630.75</td><td>1682.9</td><td>1734.5</td><td>2487.9</td></tr>\n",
       "\t<tr><td>1640.17</td><td>1703.6</td><td>1757.4</td><td>2508.4</td></tr>\n",
       "\t<tr><td>1635.47</td><td>1697.5</td><td>1754.0</td><td>2510.5</td></tr>\n",
       "\t<tr><td>1645.89</td><td>1716.3</td><td>1754.3</td><td>2497.4</td></tr>\n",
       "</tbody>\n",
       "</table>\n",
       "</li>\n",
       "</ol>\n"
      ],
      "text/latex": [
       "\\begin{enumerate}\n",
       "\\item \\begin{enumerate*}\n",
       "\\item 1\n",
       "\\item 2\n",
       "\\item 3\n",
       "\\item 4\n",
       "\\item 5\n",
       "\\end{enumerate*}\n",
       "\n",
       "\\item A matrix: 2 × 5 of type int\n",
       "\\begin{tabular}{lllll}\n",
       "\t 1 & 3 & 5 & 7 &  9\\\\\n",
       "\t 2 & 4 & 6 & 8 & 10\\\\\n",
       "\\end{tabular}\n",
       "\n",
       "\\item A matrix: 10 × 4 of type dbl\n",
       "\\begin{tabular}{llll}\n",
       " DAX & SMI & CAC & FTSE\\\\\n",
       "\\hline\n",
       "\t 1628.75 & 1678.1 & 1772.8 & 2443.6\\\\\n",
       "\t 1613.63 & 1688.5 & 1750.5 & 2460.2\\\\\n",
       "\t 1606.51 & 1678.6 & 1718.0 & 2448.2\\\\\n",
       "\t 1621.04 & 1684.1 & 1708.1 & 2470.4\\\\\n",
       "\t 1618.16 & 1686.6 & 1723.1 & 2484.7\\\\\n",
       "\t 1610.61 & 1671.6 & 1714.3 & 2466.8\\\\\n",
       "\t 1630.75 & 1682.9 & 1734.5 & 2487.9\\\\\n",
       "\t 1640.17 & 1703.6 & 1757.4 & 2508.4\\\\\n",
       "\t 1635.47 & 1697.5 & 1754.0 & 2510.5\\\\\n",
       "\t 1645.89 & 1716.3 & 1754.3 & 2497.4\\\\\n",
       "\\end{tabular}\n",
       "\n",
       "\\end{enumerate}\n"
      ],
      "text/markdown": [
       "1. 1. 1\n",
       "2. 2\n",
       "3. 3\n",
       "4. 4\n",
       "5. 5\n",
       "\n",
       "\n",
       "\n",
       "2. \n",
       "A matrix: 2 × 5 of type int\n",
       "\n",
       "| 1 | 3 | 5 | 7 |  9 |\n",
       "| 2 | 4 | 6 | 8 | 10 |\n",
       "\n",
       "\n",
       "3. \n",
       "A matrix: 10 × 4 of type dbl\n",
       "\n",
       "| DAX | SMI | CAC | FTSE |\n",
       "|---|---|---|---|\n",
       "| 1628.75 | 1678.1 | 1772.8 | 2443.6 |\n",
       "| 1613.63 | 1688.5 | 1750.5 | 2460.2 |\n",
       "| 1606.51 | 1678.6 | 1718.0 | 2448.2 |\n",
       "| 1621.04 | 1684.1 | 1708.1 | 2470.4 |\n",
       "| 1618.16 | 1686.6 | 1723.1 | 2484.7 |\n",
       "| 1610.61 | 1671.6 | 1714.3 | 2466.8 |\n",
       "| 1630.75 | 1682.9 | 1734.5 | 2487.9 |\n",
       "| 1640.17 | 1703.6 | 1757.4 | 2508.4 |\n",
       "| 1635.47 | 1697.5 | 1754.0 | 2510.5 |\n",
       "| 1645.89 | 1716.3 | 1754.3 | 2497.4 |\n",
       "\n",
       "\n",
       "\n",
       "\n"
      ],
      "text/plain": [
       "[[1]]\n",
       "[1] 1 2 3 4 5\n",
       "\n",
       "[[2]]\n",
       "     [,1] [,2] [,3] [,4] [,5]\n",
       "[1,]    1    3    5    7    9\n",
       "[2,]    2    4    6    8   10\n",
       "\n",
       "[[3]]\n",
       "          DAX    SMI    CAC   FTSE\n",
       " [1,] 1628.75 1678.1 1772.8 2443.6\n",
       " [2,] 1613.63 1688.5 1750.5 2460.2\n",
       " [3,] 1606.51 1678.6 1718.0 2448.2\n",
       " [4,] 1621.04 1684.1 1708.1 2470.4\n",
       " [5,] 1618.16 1686.6 1723.1 2484.7\n",
       " [6,] 1610.61 1671.6 1714.3 2466.8\n",
       " [7,] 1630.75 1682.9 1734.5 2487.9\n",
       " [8,] 1640.17 1703.6 1757.4 2508.4\n",
       " [9,] 1635.47 1697.5 1754.0 2510.5\n",
       "[10,] 1645.89 1716.3 1754.3 2497.4\n"
      ]
     },
     "metadata": {},
     "output_type": "display_data"
    }
   ],
   "source": [
    "my_list <- list(vect,mat,df)\n",
    "my_list"
   ]
  },
  {
   "cell_type": "markdown",
   "metadata": {},
   "source": [
    "## Select element from list\n",
    "\n",
    "After we built our list, we can access it quite easily. We need to use the ``[[index]]`` to select an element in a list. The value inside the double square bracket represents the position of the item in a list we want to extract. For instance, we pass 2 inside the parenthesis, R returns the second element listed.\n",
    "\n",
    "As usual, R counts from 1"
   ]
  },
  {
   "cell_type": "code",
   "execution_count": 12,
   "metadata": {},
   "outputs": [
    {
     "data": {
      "text/html": [
       "<table>\n",
       "<caption>A matrix: 2 × 5 of type int</caption>\n",
       "<tbody>\n",
       "\t<tr><td>1</td><td>3</td><td>5</td><td>7</td><td> 9</td></tr>\n",
       "\t<tr><td>2</td><td>4</td><td>6</td><td>8</td><td>10</td></tr>\n",
       "</tbody>\n",
       "</table>\n"
      ],
      "text/latex": [
       "A matrix: 2 × 5 of type int\n",
       "\\begin{tabular}{lllll}\n",
       "\t 1 & 3 & 5 & 7 &  9\\\\\n",
       "\t 2 & 4 & 6 & 8 & 10\\\\\n",
       "\\end{tabular}\n"
      ],
      "text/markdown": [
       "\n",
       "A matrix: 2 × 5 of type int\n",
       "\n",
       "| 1 | 3 | 5 | 7 |  9 |\n",
       "| 2 | 4 | 6 | 8 | 10 |\n",
       "\n"
      ],
      "text/plain": [
       "     [,1] [,2] [,3] [,4] [,5]\n",
       "[1,] 1    3    5    7     9  \n",
       "[2,] 2    4    6    8    10  "
      ]
     },
     "metadata": {},
     "output_type": "display_data"
    }
   ],
   "source": [
    "my_list[[2]]"
   ]
  },
  {
   "cell_type": "markdown",
   "metadata": {},
   "source": [
    "## Built-in data frame\n",
    "\n",
    "Before to create our own data frame, we can have a look at the R data set available online. The prison dataset is a 714x5 dimension. We can get a quick look at the bottom of the data frame with ```tail()``` function. By analogy, ```head()``` displays the top of the data frame. You can specify the number of rows shown with ```head (df, 5)```. We will learn more about the function ```read.csv()``` in future tutorial."
   ]
  },
  {
   "cell_type": "code",
   "execution_count": 13,
   "metadata": {},
   "outputs": [],
   "source": [
    "PATH <-'https://raw.githubusercontent.com/guru99-edu/R-Programming/master/prison.csv'"
   ]
  },
  {
   "cell_type": "code",
   "execution_count": 14,
   "metadata": {},
   "outputs": [
    {
     "data": {
      "text/html": [
       "<table>\n",
       "<caption>A data.frame: 5 × 5</caption>\n",
       "<thead>\n",
       "\t<tr><th></th><th scope=col>x</th><th scope=col>state</th><th scope=col>year</th><th scope=col>govelec</th><th scope=col>black</th></tr>\n",
       "\t<tr><th></th><th scope=col>&lt;int&gt;</th><th scope=col>&lt;int&gt;</th><th scope=col>&lt;int&gt;</th><th scope=col>&lt;int&gt;</th><th scope=col>&lt;dbl&gt;</th></tr>\n",
       "</thead>\n",
       "<tbody>\n",
       "\t<tr><th scope=row>1</th><td>1</td><td>1</td><td>80</td><td>0</td><td>0.2560</td></tr>\n",
       "\t<tr><th scope=row>2</th><td>2</td><td>1</td><td>81</td><td>0</td><td>0.2557</td></tr>\n",
       "\t<tr><th scope=row>3</th><td>3</td><td>1</td><td>82</td><td>1</td><td>0.2554</td></tr>\n",
       "\t<tr><th scope=row>4</th><td>4</td><td>1</td><td>83</td><td>0</td><td>0.2551</td></tr>\n",
       "\t<tr><th scope=row>5</th><td>5</td><td>1</td><td>84</td><td>0</td><td>0.2548</td></tr>\n",
       "</tbody>\n",
       "</table>\n"
      ],
      "text/latex": [
       "A data.frame: 5 × 5\n",
       "\\begin{tabular}{r|lllll}\n",
       "  & x & state & year & govelec & black\\\\\n",
       "  & <int> & <int> & <int> & <int> & <dbl>\\\\\n",
       "\\hline\n",
       "\t1 & 1 & 1 & 80 & 0 & 0.2560\\\\\n",
       "\t2 & 2 & 1 & 81 & 0 & 0.2557\\\\\n",
       "\t3 & 3 & 1 & 82 & 1 & 0.2554\\\\\n",
       "\t4 & 4 & 1 & 83 & 0 & 0.2551\\\\\n",
       "\t5 & 5 & 1 & 84 & 0 & 0.2548\\\\\n",
       "\\end{tabular}\n"
      ],
      "text/markdown": [
       "\n",
       "A data.frame: 5 × 5\n",
       "\n",
       "| <!--/--> | x &lt;int&gt; | state &lt;int&gt; | year &lt;int&gt; | govelec &lt;int&gt; | black &lt;dbl&gt; |\n",
       "|---|---|---|---|---|---|\n",
       "| 1 | 1 | 1 | 80 | 0 | 0.2560 |\n",
       "| 2 | 2 | 1 | 81 | 0 | 0.2557 |\n",
       "| 3 | 3 | 1 | 82 | 1 | 0.2554 |\n",
       "| 4 | 4 | 1 | 83 | 0 | 0.2551 |\n",
       "| 5 | 5 | 1 | 84 | 0 | 0.2548 |\n",
       "\n"
      ],
      "text/plain": [
       "  x state year govelec black \n",
       "1 1 1     80   0       0.2560\n",
       "2 2 1     81   0       0.2557\n",
       "3 3 1     82   1       0.2554\n",
       "4 4 1     83   0       0.2551\n",
       "5 5 1     84   0       0.2548"
      ]
     },
     "metadata": {},
     "output_type": "display_data"
    }
   ],
   "source": [
    "# slicing out the first 5 columns\n",
    "df <- read.csv(PATH)[1:5]\n",
    "head(df,5)"
   ]
  },
  {
   "cell_type": "markdown",
   "metadata": {},
   "source": [
    "Print out the structure of the data"
   ]
  },
  {
   "cell_type": "code",
   "execution_count": 15,
   "metadata": {},
   "outputs": [
    {
     "name": "stdout",
     "output_type": "stream",
     "text": [
      "'data.frame':\t714 obs. of  5 variables:\n",
      " $ x      : int  1 2 3 4 5 6 7 8 9 10 ...\n",
      " $ state  : int  1 1 1 1 1 1 1 1 1 1 ...\n",
      " $ year   : int  80 81 82 83 84 85 86 87 88 89 ...\n",
      " $ govelec: int  0 0 1 0 0 0 1 0 0 0 ...\n",
      " $ black  : num  0.256 0.256 0.255 0.255 0.255 ...\n"
     ]
    }
   ],
   "source": [
    "str(df)"
   ]
  },
  {
   "cell_type": "markdown",
   "metadata": {},
   "source": [
    "All variables are stored in the **numerical** format."
   ]
  }
 ],
 "metadata": {
  "kernelspec": {
   "display_name": "R",
   "language": "R",
   "name": "ir"
  },
  "language_info": {
   "codemirror_mode": "r",
   "file_extension": ".r",
   "mimetype": "text/x-r-source",
   "name": "R",
   "pygments_lexer": "r",
   "version": "3.6.2"
  }
 },
 "nbformat": 4,
 "nbformat_minor": 4
}
