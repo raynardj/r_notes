{
 "cells": [
  {
   "cell_type": "markdown",
   "metadata": {},
   "source": [
    "# Sort & Order\n",
    "> Sort a Data Frame using ```Order()```"
   ]
  },
  {
   "cell_type": "markdown",
   "metadata": {},
   "source": [
    "This notebook is following [this tutorial](https://www.guru99.com/r-sort-data-frame.html)\n",
    "\n",
    "In data analysis you can sort your data according to a certain variable in the dataset. In R, we can use the help of the function ```order()```. In R, we can easily sort a vector of continuous variable or factor variable. Arranging the data can be of ascending or descending order\n",
    "\n",
    "Syntax:\n",
    "\n",
    "```R\n",
    "sort(x, decreasing = FALSE, na.last = TRUE):\n",
    "```\n",
    "\n",
    "Argument:\n",
    "\n",
    "* x: A vector containing continuous or factor variable\n",
    "* decreasing: Control for the order of the sort method. By default, decreasing is set to `FALSE`. (default is sort in ascending)\n",
    "* last: Indicates whether the `NA` 's value should be put last or not"
   ]
  },
  {
   "cell_type": "markdown",
   "metadata": {},
   "source": [
    "## Example 1\n",
    "\n",
    "\n",
    "### Tibble\n",
    "For instance, we can create a **tibble** data frame and sort one or multiple variables. A tibble data frame is a new approach to data frame. It improves the syntax of data frame and avoid frustrating data type formatting, especially for character to factor. It is also a convenient way to create a data frame by hand, which is our purpose here. To learn more about tibble, please refer to the [vignette](https://cran.r-project.org/web/packages/tibble/vignettes/tibble.html)"
   ]
  },
  {
   "cell_type": "code",
   "execution_count": 3,
   "metadata": {},
   "outputs": [],
   "source": [
    "library(dplyr)\n",
    "set.seed(1234)\n",
    "df <- tibble(\n",
    "    c1 = rnorm(50,5,1.5),\n",
    "    c2 = rnorm(50,5,1.5),\n",
    "    c3 = rnorm(50,5,1.5),\n",
    "    c4 = rnorm(50,5,1.5),\n",
    "    c5 = rnorm(50,5,1.5),\n",
    ")"
   ]
  },
  {
   "cell_type": "code",
   "execution_count": 5,
   "metadata": {},
   "outputs": [
    {
     "data": {
      "text/html": [
       "<table>\n",
       "<caption>A tibble: 6 × 5</caption>\n",
       "<thead>\n",
       "\t<tr><th scope=col>c1</th><th scope=col>c2</th><th scope=col>c3</th><th scope=col>c4</th><th scope=col>c5</th></tr>\n",
       "\t<tr><th scope=col>&lt;dbl&gt;</th><th scope=col>&lt;dbl&gt;</th><th scope=col>&lt;dbl&gt;</th><th scope=col>&lt;dbl&gt;</th><th scope=col>&lt;dbl&gt;</th></tr>\n",
       "</thead>\n",
       "<tbody>\n",
       "\t<tr><td>3.189401</td><td>2.290953</td><td>5.621785</td><td>4.434144</td><td>5.727840</td></tr>\n",
       "\t<tr><td>5.416144</td><td>4.126886</td><td>4.287922</td><td>5.146429</td><td>6.045153</td></tr>\n",
       "\t<tr><td>6.626662</td><td>3.336666</td><td>5.098990</td><td>7.458117</td><td>5.278271</td></tr>\n",
       "\t<tr><td>1.481453</td><td>3.477557</td><td>4.246283</td><td>3.686611</td><td>6.051100</td></tr>\n",
       "\t<tr><td>5.643687</td><td>4.756536</td><td>3.761002</td><td>5.182640</td><td>5.467522</td></tr>\n",
       "\t<tr><td>5.759084</td><td>5.844584</td><td>5.250484</td><td>7.043196</td><td>6.140694</td></tr>\n",
       "</tbody>\n",
       "</table>\n"
      ],
      "text/latex": [
       "A tibble: 6 × 5\n",
       "\\begin{tabular}{lllll}\n",
       " c1 & c2 & c3 & c4 & c5\\\\\n",
       " <dbl> & <dbl> & <dbl> & <dbl> & <dbl>\\\\\n",
       "\\hline\n",
       "\t 3.189401 & 2.290953 & 5.621785 & 4.434144 & 5.727840\\\\\n",
       "\t 5.416144 & 4.126886 & 4.287922 & 5.146429 & 6.045153\\\\\n",
       "\t 6.626662 & 3.336666 & 5.098990 & 7.458117 & 5.278271\\\\\n",
       "\t 1.481453 & 3.477557 & 4.246283 & 3.686611 & 6.051100\\\\\n",
       "\t 5.643687 & 4.756536 & 3.761002 & 5.182640 & 5.467522\\\\\n",
       "\t 5.759084 & 5.844584 & 5.250484 & 7.043196 & 6.140694\\\\\n",
       "\\end{tabular}\n"
      ],
      "text/markdown": [
       "\n",
       "A tibble: 6 × 5\n",
       "\n",
       "| c1 &lt;dbl&gt; | c2 &lt;dbl&gt; | c3 &lt;dbl&gt; | c4 &lt;dbl&gt; | c5 &lt;dbl&gt; |\n",
       "|---|---|---|---|---|\n",
       "| 3.189401 | 2.290953 | 5.621785 | 4.434144 | 5.727840 |\n",
       "| 5.416144 | 4.126886 | 4.287922 | 5.146429 | 6.045153 |\n",
       "| 6.626662 | 3.336666 | 5.098990 | 7.458117 | 5.278271 |\n",
       "| 1.481453 | 3.477557 | 4.246283 | 3.686611 | 6.051100 |\n",
       "| 5.643687 | 4.756536 | 3.761002 | 5.182640 | 5.467522 |\n",
       "| 5.759084 | 5.844584 | 5.250484 | 7.043196 | 6.140694 |\n",
       "\n"
      ],
      "text/plain": [
       "  c1       c2       c3       c4       c5      \n",
       "1 3.189401 2.290953 5.621785 4.434144 5.727840\n",
       "2 5.416144 4.126886 4.287922 5.146429 6.045153\n",
       "3 6.626662 3.336666 5.098990 7.458117 5.278271\n",
       "4 1.481453 3.477557 4.246283 3.686611 6.051100\n",
       "5 5.643687 4.756536 3.761002 5.182640 5.467522\n",
       "6 5.759084 5.844584 5.250484 7.043196 6.140694"
      ]
     },
     "metadata": {},
     "output_type": "display_data"
    }
   ],
   "source": [
    "head(df)"
   ]
  },
  {
   "cell_type": "markdown",
   "metadata": {},
   "source": [
    "Sort by column c1, in **ascending** order"
   ]
  },
  {
   "cell_type": "code",
   "execution_count": 10,
   "metadata": {},
   "outputs": [
    {
     "data": {
      "text/html": [
       "<table>\n",
       "<caption>A tibble: 10 × 5</caption>\n",
       "<thead>\n",
       "\t<tr><th scope=col>c1</th><th scope=col>c2</th><th scope=col>c3</th><th scope=col>c4</th><th scope=col>c5</th></tr>\n",
       "\t<tr><th scope=col>&lt;dbl&gt;</th><th scope=col>&lt;dbl&gt;</th><th scope=col>&lt;dbl&gt;</th><th scope=col>&lt;dbl&gt;</th><th scope=col>&lt;dbl&gt;</th></tr>\n",
       "</thead>\n",
       "<tbody>\n",
       "\t<tr><td>1.481453</td><td>3.477557</td><td>4.246283</td><td>3.686611</td><td>6.0511003</td></tr>\n",
       "\t<tr><td>1.729941</td><td>5.824996</td><td>4.525823</td><td>6.753663</td><td>0.1502718</td></tr>\n",
       "\t<tr><td>2.556360</td><td>6.275348</td><td>2.524849</td><td>6.368483</td><td>5.4787404</td></tr>\n",
       "\t<tr><td>2.827693</td><td>4.769902</td><td>5.120089</td><td>3.743626</td><td>4.0103449</td></tr>\n",
       "\t<tr><td>2.988510</td><td>4.395902</td><td>2.077631</td><td>4.236894</td><td>4.6176880</td></tr>\n",
       "\t<tr><td>3.122021</td><td>6.317305</td><td>5.413840</td><td>3.551145</td><td>5.6067027</td></tr>\n",
       "\t<tr><td>3.189401</td><td>2.290953</td><td>5.621785</td><td>4.434144</td><td>5.7278402</td></tr>\n",
       "\t<tr><td>3.248571</td><td>6.046413</td><td>4.451222</td><td>7.975598</td><td>3.3836868</td></tr>\n",
       "\t<tr><td>3.339023</td><td>3.298088</td><td>7.494285</td><td>5.930315</td><td>7.0359117</td></tr>\n",
       "\t<tr><td>3.397036</td><td>5.382794</td><td>7.092722</td><td>0.716362</td><td>5.6200983</td></tr>\n",
       "</tbody>\n",
       "</table>\n"
      ],
      "text/latex": [
       "A tibble: 10 × 5\n",
       "\\begin{tabular}{lllll}\n",
       " c1 & c2 & c3 & c4 & c5\\\\\n",
       " <dbl> & <dbl> & <dbl> & <dbl> & <dbl>\\\\\n",
       "\\hline\n",
       "\t 1.481453 & 3.477557 & 4.246283 & 3.686611 & 6.0511003\\\\\n",
       "\t 1.729941 & 5.824996 & 4.525823 & 6.753663 & 0.1502718\\\\\n",
       "\t 2.556360 & 6.275348 & 2.524849 & 6.368483 & 5.4787404\\\\\n",
       "\t 2.827693 & 4.769902 & 5.120089 & 3.743626 & 4.0103449\\\\\n",
       "\t 2.988510 & 4.395902 & 2.077631 & 4.236894 & 4.6176880\\\\\n",
       "\t 3.122021 & 6.317305 & 5.413840 & 3.551145 & 5.6067027\\\\\n",
       "\t 3.189401 & 2.290953 & 5.621785 & 4.434144 & 5.7278402\\\\\n",
       "\t 3.248571 & 6.046413 & 4.451222 & 7.975598 & 3.3836868\\\\\n",
       "\t 3.339023 & 3.298088 & 7.494285 & 5.930315 & 7.0359117\\\\\n",
       "\t 3.397036 & 5.382794 & 7.092722 & 0.716362 & 5.6200983\\\\\n",
       "\\end{tabular}\n"
      ],
      "text/markdown": [
       "\n",
       "A tibble: 10 × 5\n",
       "\n",
       "| c1 &lt;dbl&gt; | c2 &lt;dbl&gt; | c3 &lt;dbl&gt; | c4 &lt;dbl&gt; | c5 &lt;dbl&gt; |\n",
       "|---|---|---|---|---|\n",
       "| 1.481453 | 3.477557 | 4.246283 | 3.686611 | 6.0511003 |\n",
       "| 1.729941 | 5.824996 | 4.525823 | 6.753663 | 0.1502718 |\n",
       "| 2.556360 | 6.275348 | 2.524849 | 6.368483 | 5.4787404 |\n",
       "| 2.827693 | 4.769902 | 5.120089 | 3.743626 | 4.0103449 |\n",
       "| 2.988510 | 4.395902 | 2.077631 | 4.236894 | 4.6176880 |\n",
       "| 3.122021 | 6.317305 | 5.413840 | 3.551145 | 5.6067027 |\n",
       "| 3.189401 | 2.290953 | 5.621785 | 4.434144 | 5.7278402 |\n",
       "| 3.248571 | 6.046413 | 4.451222 | 7.975598 | 3.3836868 |\n",
       "| 3.339023 | 3.298088 | 7.494285 | 5.930315 | 7.0359117 |\n",
       "| 3.397036 | 5.382794 | 7.092722 | 0.716362 | 5.6200983 |\n",
       "\n"
      ],
      "text/plain": [
       "   c1       c2       c3       c4       c5       \n",
       "1  1.481453 3.477557 4.246283 3.686611 6.0511003\n",
       "2  1.729941 5.824996 4.525823 6.753663 0.1502718\n",
       "3  2.556360 6.275348 2.524849 6.368483 5.4787404\n",
       "4  2.827693 4.769902 5.120089 3.743626 4.0103449\n",
       "5  2.988510 4.395902 2.077631 4.236894 4.6176880\n",
       "6  3.122021 6.317305 5.413840 3.551145 5.6067027\n",
       "7  3.189401 2.290953 5.621785 4.434144 5.7278402\n",
       "8  3.248571 6.046413 4.451222 7.975598 3.3836868\n",
       "9  3.339023 3.298088 7.494285 5.930315 7.0359117\n",
       "10 3.397036 5.382794 7.092722 0.716362 5.6200983"
      ]
     },
     "metadata": {},
     "output_type": "display_data"
    }
   ],
   "source": [
    "df2 <- df[order(df$c1),]\n",
    "head(df2,10)"
   ]
  },
  {
   "cell_type": "markdown",
   "metadata": {},
   "source": [
    "Sort by column c2, in descending order"
   ]
  },
  {
   "cell_type": "code",
   "execution_count": 12,
   "metadata": {},
   "outputs": [
    {
     "data": {
      "text/html": [
       "<table>\n",
       "<caption>A tibble: 10 × 5</caption>\n",
       "<thead>\n",
       "\t<tr><th scope=col>c1</th><th scope=col>c2</th><th scope=col>c3</th><th scope=col>c4</th><th scope=col>c5</th></tr>\n",
       "\t<tr><th scope=col>&lt;dbl&gt;</th><th scope=col>&lt;dbl&gt;</th><th scope=col>&lt;dbl&gt;</th><th scope=col>&lt;dbl&gt;</th><th scope=col>&lt;dbl&gt;</th></tr>\n",
       "</thead>\n",
       "<tbody>\n",
       "\t<tr><td>3.502420</td><td>8.823487</td><td>4.026395</td><td>4.609041</td><td>4.399647</td></tr>\n",
       "\t<tr><td>4.254725</td><td>8.181676</td><td>5.521328</td><td>1.882644</td><td>5.402066</td></tr>\n",
       "\t<tr><td>3.959420</td><td>8.105406</td><td>7.736312</td><td>7.116894</td><td>5.431565</td></tr>\n",
       "\t<tr><td>4.834572</td><td>7.665627</td><td>6.246711</td><td>5.936950</td><td>5.633013</td></tr>\n",
       "\t<tr><td>3.716953</td><td>7.558946</td><td>5.955012</td><td>3.815530</td><td>3.353342</td></tr>\n",
       "\t<tr><td>4.137890</td><td>7.471726</td><td>3.655603</td><td>4.648068</td><td>7.763695</td></tr>\n",
       "\t<tr><td>4.153322</td><td>7.408864</td><td>5.532452</td><td>3.695325</td><td>5.048996</td></tr>\n",
       "\t<tr><td>3.633207</td><td>7.051741</td><td>5.253540</td><td>4.896960</td><td>4.090773</td></tr>\n",
       "\t<tr><td>3.744242</td><td>6.994347</td><td>6.009749</td><td>4.518740</td><td>4.542918</td></tr>\n",
       "\t<tr><td>4.579065</td><td>6.502270</td><td>4.837352</td><td>5.731722</td><td>6.066763</td></tr>\n",
       "</tbody>\n",
       "</table>\n"
      ],
      "text/latex": [
       "A tibble: 10 × 5\n",
       "\\begin{tabular}{lllll}\n",
       " c1 & c2 & c3 & c4 & c5\\\\\n",
       " <dbl> & <dbl> & <dbl> & <dbl> & <dbl>\\\\\n",
       "\\hline\n",
       "\t 3.502420 & 8.823487 & 4.026395 & 4.609041 & 4.399647\\\\\n",
       "\t 4.254725 & 8.181676 & 5.521328 & 1.882644 & 5.402066\\\\\n",
       "\t 3.959420 & 8.105406 & 7.736312 & 7.116894 & 5.431565\\\\\n",
       "\t 4.834572 & 7.665627 & 6.246711 & 5.936950 & 5.633013\\\\\n",
       "\t 3.716953 & 7.558946 & 5.955012 & 3.815530 & 3.353342\\\\\n",
       "\t 4.137890 & 7.471726 & 3.655603 & 4.648068 & 7.763695\\\\\n",
       "\t 4.153322 & 7.408864 & 5.532452 & 3.695325 & 5.048996\\\\\n",
       "\t 3.633207 & 7.051741 & 5.253540 & 4.896960 & 4.090773\\\\\n",
       "\t 3.744242 & 6.994347 & 6.009749 & 4.518740 & 4.542918\\\\\n",
       "\t 4.579065 & 6.502270 & 4.837352 & 5.731722 & 6.066763\\\\\n",
       "\\end{tabular}\n"
      ],
      "text/markdown": [
       "\n",
       "A tibble: 10 × 5\n",
       "\n",
       "| c1 &lt;dbl&gt; | c2 &lt;dbl&gt; | c3 &lt;dbl&gt; | c4 &lt;dbl&gt; | c5 &lt;dbl&gt; |\n",
       "|---|---|---|---|---|\n",
       "| 3.502420 | 8.823487 | 4.026395 | 4.609041 | 4.399647 |\n",
       "| 4.254725 | 8.181676 | 5.521328 | 1.882644 | 5.402066 |\n",
       "| 3.959420 | 8.105406 | 7.736312 | 7.116894 | 5.431565 |\n",
       "| 4.834572 | 7.665627 | 6.246711 | 5.936950 | 5.633013 |\n",
       "| 3.716953 | 7.558946 | 5.955012 | 3.815530 | 3.353342 |\n",
       "| 4.137890 | 7.471726 | 3.655603 | 4.648068 | 7.763695 |\n",
       "| 4.153322 | 7.408864 | 5.532452 | 3.695325 | 5.048996 |\n",
       "| 3.633207 | 7.051741 | 5.253540 | 4.896960 | 4.090773 |\n",
       "| 3.744242 | 6.994347 | 6.009749 | 4.518740 | 4.542918 |\n",
       "| 4.579065 | 6.502270 | 4.837352 | 5.731722 | 6.066763 |\n",
       "\n"
      ],
      "text/plain": [
       "   c1       c2       c3       c4       c5      \n",
       "1  3.502420 8.823487 4.026395 4.609041 4.399647\n",
       "2  4.254725 8.181676 5.521328 1.882644 5.402066\n",
       "3  3.959420 8.105406 7.736312 7.116894 5.431565\n",
       "4  4.834572 7.665627 6.246711 5.936950 5.633013\n",
       "5  3.716953 7.558946 5.955012 3.815530 3.353342\n",
       "6  4.137890 7.471726 3.655603 4.648068 7.763695\n",
       "7  4.153322 7.408864 5.532452 3.695325 5.048996\n",
       "8  3.633207 7.051741 5.253540 4.896960 4.090773\n",
       "9  3.744242 6.994347 6.009749 4.518740 4.542918\n",
       "10 4.579065 6.502270 4.837352 5.731722 6.066763"
      ]
     },
     "metadata": {},
     "output_type": "display_data"
    }
   ],
   "source": [
    "df3 <- df[order(df$c2,decreasing = TRUE),]\n",
    "head(df3,10)"
   ]
  },
  {
   "cell_type": "markdown",
   "metadata": {},
   "source": [
    "Order by 2 columns, by the 1st column first.\n",
    "\n",
    "But in this case, such operation is pointless, no same c3 cell values"
   ]
  },
  {
   "cell_type": "code",
   "execution_count": 13,
   "metadata": {},
   "outputs": [
    {
     "data": {
      "text/html": [
       "<table>\n",
       "<caption>A tibble: 10 × 5</caption>\n",
       "<thead>\n",
       "\t<tr><th scope=col>c1</th><th scope=col>c2</th><th scope=col>c3</th><th scope=col>c4</th><th scope=col>c5</th></tr>\n",
       "\t<tr><th scope=col>&lt;dbl&gt;</th><th scope=col>&lt;dbl&gt;</th><th scope=col>&lt;dbl&gt;</th><th scope=col>&lt;dbl&gt;</th><th scope=col>&lt;dbl&gt;</th></tr>\n",
       "</thead>\n",
       "<tbody>\n",
       "\t<tr><td>4.339178</td><td>4.450214</td><td>8.087243</td><td>4.5010140</td><td>8.410225</td></tr>\n",
       "\t<tr><td>3.959420</td><td>8.105406</td><td>7.736312</td><td>7.1168936</td><td>5.431565</td></tr>\n",
       "\t<tr><td>3.339023</td><td>3.298088</td><td>7.494285</td><td>5.9303153</td><td>7.035912</td></tr>\n",
       "\t<tr><td>3.397036</td><td>5.382794</td><td>7.092722</td><td>0.7163620</td><td>5.620098</td></tr>\n",
       "\t<tr><td>6.653446</td><td>4.733315</td><td>6.520536</td><td>0.9016707</td><td>4.513410</td></tr>\n",
       "\t<tr><td>4.558559</td><td>4.712609</td><td>6.380086</td><td>6.0562703</td><td>5.044277</td></tr>\n",
       "\t<tr><td>5.096688</td><td>3.995550</td><td>6.273911</td><td>4.7254238</td><td>2.589379</td></tr>\n",
       "\t<tr><td>4.834572</td><td>7.665627</td><td>6.246711</td><td>5.9369497</td><td>5.633013</td></tr>\n",
       "\t<tr><td>5.689384</td><td>5.972430</td><td>6.125752</td><td>2.2666469</td><td>6.760246</td></tr>\n",
       "\t<tr><td>3.744242</td><td>6.994347</td><td>6.009749</td><td>4.5187401</td><td>4.542918</td></tr>\n",
       "</tbody>\n",
       "</table>\n"
      ],
      "text/latex": [
       "A tibble: 10 × 5\n",
       "\\begin{tabular}{lllll}\n",
       " c1 & c2 & c3 & c4 & c5\\\\\n",
       " <dbl> & <dbl> & <dbl> & <dbl> & <dbl>\\\\\n",
       "\\hline\n",
       "\t 4.339178 & 4.450214 & 8.087243 & 4.5010140 & 8.410225\\\\\n",
       "\t 3.959420 & 8.105406 & 7.736312 & 7.1168936 & 5.431565\\\\\n",
       "\t 3.339023 & 3.298088 & 7.494285 & 5.9303153 & 7.035912\\\\\n",
       "\t 3.397036 & 5.382794 & 7.092722 & 0.7163620 & 5.620098\\\\\n",
       "\t 6.653446 & 4.733315 & 6.520536 & 0.9016707 & 4.513410\\\\\n",
       "\t 4.558559 & 4.712609 & 6.380086 & 6.0562703 & 5.044277\\\\\n",
       "\t 5.096688 & 3.995550 & 6.273911 & 4.7254238 & 2.589379\\\\\n",
       "\t 4.834572 & 7.665627 & 6.246711 & 5.9369497 & 5.633013\\\\\n",
       "\t 5.689384 & 5.972430 & 6.125752 & 2.2666469 & 6.760246\\\\\n",
       "\t 3.744242 & 6.994347 & 6.009749 & 4.5187401 & 4.542918\\\\\n",
       "\\end{tabular}\n"
      ],
      "text/markdown": [
       "\n",
       "A tibble: 10 × 5\n",
       "\n",
       "| c1 &lt;dbl&gt; | c2 &lt;dbl&gt; | c3 &lt;dbl&gt; | c4 &lt;dbl&gt; | c5 &lt;dbl&gt; |\n",
       "|---|---|---|---|---|\n",
       "| 4.339178 | 4.450214 | 8.087243 | 4.5010140 | 8.410225 |\n",
       "| 3.959420 | 8.105406 | 7.736312 | 7.1168936 | 5.431565 |\n",
       "| 3.339023 | 3.298088 | 7.494285 | 5.9303153 | 7.035912 |\n",
       "| 3.397036 | 5.382794 | 7.092722 | 0.7163620 | 5.620098 |\n",
       "| 6.653446 | 4.733315 | 6.520536 | 0.9016707 | 4.513410 |\n",
       "| 4.558559 | 4.712609 | 6.380086 | 6.0562703 | 5.044277 |\n",
       "| 5.096688 | 3.995550 | 6.273911 | 4.7254238 | 2.589379 |\n",
       "| 4.834572 | 7.665627 | 6.246711 | 5.9369497 | 5.633013 |\n",
       "| 5.689384 | 5.972430 | 6.125752 | 2.2666469 | 6.760246 |\n",
       "| 3.744242 | 6.994347 | 6.009749 | 4.5187401 | 4.542918 |\n",
       "\n"
      ],
      "text/plain": [
       "   c1       c2       c3       c4        c5      \n",
       "1  4.339178 4.450214 8.087243 4.5010140 8.410225\n",
       "2  3.959420 8.105406 7.736312 7.1168936 5.431565\n",
       "3  3.339023 3.298088 7.494285 5.9303153 7.035912\n",
       "4  3.397036 5.382794 7.092722 0.7163620 5.620098\n",
       "5  6.653446 4.733315 6.520536 0.9016707 4.513410\n",
       "6  4.558559 4.712609 6.380086 6.0562703 5.044277\n",
       "7  5.096688 3.995550 6.273911 4.7254238 2.589379\n",
       "8  4.834572 7.665627 6.246711 5.9369497 5.633013\n",
       "9  5.689384 5.972430 6.125752 2.2666469 6.760246\n",
       "10 3.744242 6.994347 6.009749 4.5187401 4.542918"
      ]
     },
     "metadata": {},
     "output_type": "display_data"
    }
   ],
   "source": [
    "df4 <- df[order(df$c3,df$c4,decreasing = TRUE),]\n",
    "head(df4,10)"
   ]
  }
 ],
 "metadata": {
  "kernelspec": {
   "display_name": "R",
   "language": "R",
   "name": "ir"
  },
  "language_info": {
   "codemirror_mode": "r",
   "file_extension": ".r",
   "mimetype": "text/x-r-source",
   "name": "R",
   "pygments_lexer": "r",
   "version": "3.6.2"
  }
 },
 "nbformat": 4,
 "nbformat_minor": 4
}
