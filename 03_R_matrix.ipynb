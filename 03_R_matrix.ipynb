{
 "cells": [
  {
   "cell_type": "markdown",
   "metadata": {},
   "source": [
    "# R matrix\n",
    "> R Matrix Tutorial: Create, Print, add Column, Slice"
   ]
  },
  {
   "cell_type": "markdown",
   "metadata": {},
   "source": [
    "The notebook is based on [this tutorial](https://www.guru99.com/r-matrix-tutorial.html)\n",
    "A matrix is a 2-dimensional array that has m number of rows and n number of columns. In other words, matrix is a combination of two or more vectors with the same data type."
   ]
  },
  {
   "cell_type": "markdown",
   "metadata": {},
   "source": [
    "## Create Matrix in R\n",
    "We can create a matrix with the function matrix(). This function takes three arguments:\n",
    "\n",
    "```R\n",
    "matrix(data, nrow, ncol, byrow = FALSE)\n",
    "```\n",
    "Arguments: \n",
    "\n",
    "* data: The collection of elements that R will arrange into the rows and columns of the matrix \\\n",
    "* nrow: Number of rows \n",
    "* ncol: Number of columns \n",
    "* byrow: The rows are filled from the left to the right. We use `byrow = FALSE` (default values), if we want the matrix to be filled by the columns i.e. the values are filled top to bottom.\n",
    "\n",
    "Let's construct two 5x2 matrix with a sequence of number from 1 to 10, one with byrow = TRUE and one with byrow = FALSE to see the difference."
   ]
  },
  {
   "cell_type": "code",
   "execution_count": 1,
   "metadata": {},
   "outputs": [
    {
     "data": {
      "text/html": [
       "<table>\n",
       "<caption>A matrix: 5 × 2 of type int</caption>\n",
       "<tbody>\n",
       "\t<tr><td>1</td><td> 2</td></tr>\n",
       "\t<tr><td>3</td><td> 4</td></tr>\n",
       "\t<tr><td>5</td><td> 6</td></tr>\n",
       "\t<tr><td>7</td><td> 8</td></tr>\n",
       "\t<tr><td>9</td><td>10</td></tr>\n",
       "</tbody>\n",
       "</table>\n"
      ],
      "text/latex": [
       "A matrix: 5 × 2 of type int\n",
       "\\begin{tabular}{ll}\n",
       "\t 1 &  2\\\\\n",
       "\t 3 &  4\\\\\n",
       "\t 5 &  6\\\\\n",
       "\t 7 &  8\\\\\n",
       "\t 9 & 10\\\\\n",
       "\\end{tabular}\n"
      ],
      "text/markdown": [
       "\n",
       "A matrix: 5 × 2 of type int\n",
       "\n",
       "| 1 |  2 |\n",
       "| 3 |  4 |\n",
       "| 5 |  6 |\n",
       "| 7 |  8 |\n",
       "| 9 | 10 |\n",
       "\n"
      ],
      "text/plain": [
       "     [,1] [,2]\n",
       "[1,] 1     2  \n",
       "[2,] 3     4  \n",
       "[3,] 5     6  \n",
       "[4,] 7     8  \n",
       "[5,] 9    10  "
      ]
     },
     "metadata": {},
     "output_type": "display_data"
    }
   ],
   "source": [
    "# Construct a matrix with 5 rows that contain the numbers 1 up to 10 and byrow =  TRUE \n",
    "matrix_a <- matrix(c(1:10),byrow=TRUE, nrow=5)\n",
    "matrix_a"
   ]
  },
  {
   "cell_type": "code",
   "execution_count": 2,
   "metadata": {},
   "outputs": [
    {
     "data": {
      "text/html": [
       "<style>\n",
       ".list-inline {list-style: none; margin:0; padding: 0}\n",
       ".list-inline>li {display: inline-block}\n",
       ".list-inline>li:not(:last-child)::after {content: \"\\00b7\"; padding: 0 .5ex}\n",
       "</style>\n",
       "<ol class=list-inline><li>5</li><li>2</li></ol>\n"
      ],
      "text/latex": [
       "\\begin{enumerate*}\n",
       "\\item 5\n",
       "\\item 2\n",
       "\\end{enumerate*}\n"
      ],
      "text/markdown": [
       "1. 5\n",
       "2. 2\n",
       "\n",
       "\n"
      ],
      "text/plain": [
       "[1] 5 2"
      ]
     },
     "metadata": {},
     "output_type": "display_data"
    }
   ],
   "source": [
    "# Print dimension of the matrix with dim()\n",
    "\n",
    "dim(matrix_a) # 5 rows by 2 columns"
   ]
  },
  {
   "cell_type": "code",
   "execution_count": 5,
   "metadata": {},
   "outputs": [
    {
     "data": {
      "text/html": [
       "<table>\n",
       "<caption>A matrix: 4 × 3 of type int</caption>\n",
       "<tbody>\n",
       "\t<tr><td>1</td><td>5</td><td> 9</td></tr>\n",
       "\t<tr><td>2</td><td>6</td><td>10</td></tr>\n",
       "\t<tr><td>3</td><td>7</td><td>11</td></tr>\n",
       "\t<tr><td>4</td><td>8</td><td>12</td></tr>\n",
       "</tbody>\n",
       "</table>\n"
      ],
      "text/latex": [
       "A matrix: 4 × 3 of type int\n",
       "\\begin{tabular}{lll}\n",
       "\t 1 & 5 &  9\\\\\n",
       "\t 2 & 6 & 10\\\\\n",
       "\t 3 & 7 & 11\\\\\n",
       "\t 4 & 8 & 12\\\\\n",
       "\\end{tabular}\n"
      ],
      "text/markdown": [
       "\n",
       "A matrix: 4 × 3 of type int\n",
       "\n",
       "| 1 | 5 |  9 |\n",
       "| 2 | 6 | 10 |\n",
       "| 3 | 7 | 11 |\n",
       "| 4 | 8 | 12 |\n",
       "\n"
      ],
      "text/plain": [
       "     [,1] [,2] [,3]\n",
       "[1,] 1    5     9  \n",
       "[2,] 2    6    10  \n",
       "[3,] 3    7    11  \n",
       "[4,] 4    8    12  "
      ]
     },
     "metadata": {},
     "output_type": "display_data"
    }
   ],
   "source": [
    "matrix_c <- matrix(1:12, byrow = FALSE, ncol = 3)\n",
    "matrix_c"
   ]
  },
  {
   "cell_type": "code",
   "execution_count": 6,
   "metadata": {},
   "outputs": [
    {
     "data": {
      "text/html": [
       "<style>\n",
       ".list-inline {list-style: none; margin:0; padding: 0}\n",
       ".list-inline>li {display: inline-block}\n",
       ".list-inline>li:not(:last-child)::after {content: \"\\00b7\"; padding: 0 .5ex}\n",
       "</style>\n",
       "<ol class=list-inline><li>4</li><li>3</li></ol>\n"
      ],
      "text/latex": [
       "\\begin{enumerate*}\n",
       "\\item 4\n",
       "\\item 3\n",
       "\\end{enumerate*}\n"
      ],
      "text/markdown": [
       "1. 4\n",
       "2. 3\n",
       "\n",
       "\n"
      ],
      "text/plain": [
       "[1] 4 3"
      ]
     },
     "metadata": {},
     "output_type": "display_data"
    }
   ],
   "source": [
    "dim(matrix_c)"
   ]
  },
  {
   "cell_type": "markdown",
   "metadata": {},
   "source": [
    "## Bind column\n",
    "```cbind()```"
   ]
  },
  {
   "cell_type": "code",
   "execution_count": 9,
   "metadata": {},
   "outputs": [
    {
     "data": {
      "text/html": [
       "<style>\n",
       ".list-inline {list-style: none; margin:0; padding: 0}\n",
       ".list-inline>li {display: inline-block}\n",
       ".list-inline>li:not(:last-child)::after {content: \"\\00b7\"; padding: 0 .5ex}\n",
       "</style>\n",
       "<ol class=list-inline><li>4</li><li>4</li></ol>\n"
      ],
      "text/latex": [
       "\\begin{enumerate*}\n",
       "\\item 4\n",
       "\\item 4\n",
       "\\end{enumerate*}\n"
      ],
      "text/markdown": [
       "1. 4\n",
       "2. 4\n",
       "\n",
       "\n"
      ],
      "text/plain": [
       "[1] 4 4"
      ]
     },
     "metadata": {},
     "output_type": "display_data"
    }
   ],
   "source": [
    "# concatenate c(2:6) to the matrix_c\n",
    "matrix_a1<-cbind(matrix_c, c(2:5))\n",
    "# check the dimension\n",
    "dim(matrix_a1)"
   ]
  },
  {
   "cell_type": "code",
   "execution_count": 10,
   "metadata": {},
   "outputs": [
    {
     "data": {
      "text/html": [
       "<table>\n",
       "<caption>A matrix: 4 × 4 of type int</caption>\n",
       "<tbody>\n",
       "\t<tr><td>1</td><td>5</td><td> 9</td><td>2</td></tr>\n",
       "\t<tr><td>2</td><td>6</td><td>10</td><td>3</td></tr>\n",
       "\t<tr><td>3</td><td>7</td><td>11</td><td>4</td></tr>\n",
       "\t<tr><td>4</td><td>8</td><td>12</td><td>5</td></tr>\n",
       "</tbody>\n",
       "</table>\n"
      ],
      "text/latex": [
       "A matrix: 4 × 4 of type int\n",
       "\\begin{tabular}{llll}\n",
       "\t 1 & 5 &  9 & 2\\\\\n",
       "\t 2 & 6 & 10 & 3\\\\\n",
       "\t 3 & 7 & 11 & 4\\\\\n",
       "\t 4 & 8 & 12 & 5\\\\\n",
       "\\end{tabular}\n"
      ],
      "text/markdown": [
       "\n",
       "A matrix: 4 × 4 of type int\n",
       "\n",
       "| 1 | 5 |  9 | 2 |\n",
       "| 2 | 6 | 10 | 3 |\n",
       "| 3 | 7 | 11 | 4 |\n",
       "| 4 | 8 | 12 | 5 |\n",
       "\n"
      ],
      "text/plain": [
       "     [,1] [,2] [,3] [,4]\n",
       "[1,] 1    5     9   2   \n",
       "[2,] 2    6    10   3   \n",
       "[3,] 3    7    11   4   \n",
       "[4,] 4    8    12   5   "
      ]
     },
     "metadata": {},
     "output_type": "display_data"
    }
   ],
   "source": [
    "matrix_a1"
   ]
  },
  {
   "cell_type": "code",
   "execution_count": 11,
   "metadata": {},
   "outputs": [
    {
     "data": {
      "text/html": [
       "<style>\n",
       ".list-inline {list-style: none; margin:0; padding: 0}\n",
       ".list-inline>li {display: inline-block}\n",
       ".list-inline>li:not(:last-child)::after {content: \"\\00b7\"; padding: 0 .5ex}\n",
       "</style>\n",
       "<ol class=list-inline><li>4</li><li>7</li></ol>\n"
      ],
      "text/latex": [
       "\\begin{enumerate*}\n",
       "\\item 4\n",
       "\\item 7\n",
       "\\end{enumerate*}\n"
      ],
      "text/markdown": [
       "1. 4\n",
       "2. 7\n",
       "\n",
       "\n"
      ],
      "text/plain": [
       "[1] 4 7"
      ]
     },
     "metadata": {},
     "output_type": "display_data"
    }
   ],
   "source": [
    "matrix_d<-cbind(matrix_a1,matrix_c)\n",
    "dim(matrix_d)"
   ]
  },
  {
   "cell_type": "code",
   "execution_count": 12,
   "metadata": {},
   "outputs": [
    {
     "data": {
      "text/html": [
       "<table>\n",
       "<caption>A matrix: 4 × 7 of type int</caption>\n",
       "<tbody>\n",
       "\t<tr><td>1</td><td>5</td><td> 9</td><td>2</td><td>1</td><td>5</td><td> 9</td></tr>\n",
       "\t<tr><td>2</td><td>6</td><td>10</td><td>3</td><td>2</td><td>6</td><td>10</td></tr>\n",
       "\t<tr><td>3</td><td>7</td><td>11</td><td>4</td><td>3</td><td>7</td><td>11</td></tr>\n",
       "\t<tr><td>4</td><td>8</td><td>12</td><td>5</td><td>4</td><td>8</td><td>12</td></tr>\n",
       "</tbody>\n",
       "</table>\n"
      ],
      "text/latex": [
       "A matrix: 4 × 7 of type int\n",
       "\\begin{tabular}{lllllll}\n",
       "\t 1 & 5 &  9 & 2 & 1 & 5 &  9\\\\\n",
       "\t 2 & 6 & 10 & 3 & 2 & 6 & 10\\\\\n",
       "\t 3 & 7 & 11 & 4 & 3 & 7 & 11\\\\\n",
       "\t 4 & 8 & 12 & 5 & 4 & 8 & 12\\\\\n",
       "\\end{tabular}\n"
      ],
      "text/markdown": [
       "\n",
       "A matrix: 4 × 7 of type int\n",
       "\n",
       "| 1 | 5 |  9 | 2 | 1 | 5 |  9 |\n",
       "| 2 | 6 | 10 | 3 | 2 | 6 | 10 |\n",
       "| 3 | 7 | 11 | 4 | 3 | 7 | 11 |\n",
       "| 4 | 8 | 12 | 5 | 4 | 8 | 12 |\n",
       "\n"
      ],
      "text/plain": [
       "     [,1] [,2] [,3] [,4] [,5] [,6] [,7]\n",
       "[1,] 1    5     9   2    1    5     9  \n",
       "[2,] 2    6    10   3    2    6    10  \n",
       "[3,] 3    7    11   4    3    7    11  \n",
       "[4,] 4    8    12   5    4    8    12  "
      ]
     },
     "metadata": {},
     "output_type": "display_data"
    }
   ],
   "source": [
    "matrix_d"
   ]
  },
  {
   "cell_type": "markdown",
   "metadata": {},
   "source": [
    "## Bind row\n",
    "```rbind()```"
   ]
  },
  {
   "cell_type": "code",
   "execution_count": 13,
   "metadata": {},
   "outputs": [
    {
     "data": {
      "text/html": [
       "<style>\n",
       ".list-inline {list-style: none; margin:0; padding: 0}\n",
       ".list-inline>li {display: inline-block}\n",
       ".list-inline>li:not(:last-child)::after {content: \"\\00b7\"; padding: 0 .5ex}\n",
       "</style>\n",
       "<ol class=list-inline><li>5</li><li>7</li></ol>\n"
      ],
      "text/latex": [
       "\\begin{enumerate*}\n",
       "\\item 5\n",
       "\\item 7\n",
       "\\end{enumerate*}\n"
      ],
      "text/markdown": [
       "1. 5\n",
       "2. 7\n",
       "\n",
       "\n"
      ],
      "text/plain": [
       "[1] 5 7"
      ]
     },
     "metadata": {},
     "output_type": "display_data"
    }
   ],
   "source": [
    "matrix_e = rbind(c(2:8),matrix_d)\n",
    "dim(matrix_e)"
   ]
  },
  {
   "cell_type": "code",
   "execution_count": 14,
   "metadata": {},
   "outputs": [
    {
     "data": {
      "text/html": [
       "<table>\n",
       "<caption>A matrix: 5 × 7 of type int</caption>\n",
       "<tbody>\n",
       "\t<tr><td>2</td><td>3</td><td> 4</td><td>5</td><td>6</td><td>7</td><td> 8</td></tr>\n",
       "\t<tr><td>1</td><td>5</td><td> 9</td><td>2</td><td>1</td><td>5</td><td> 9</td></tr>\n",
       "\t<tr><td>2</td><td>6</td><td>10</td><td>3</td><td>2</td><td>6</td><td>10</td></tr>\n",
       "\t<tr><td>3</td><td>7</td><td>11</td><td>4</td><td>3</td><td>7</td><td>11</td></tr>\n",
       "\t<tr><td>4</td><td>8</td><td>12</td><td>5</td><td>4</td><td>8</td><td>12</td></tr>\n",
       "</tbody>\n",
       "</table>\n"
      ],
      "text/latex": [
       "A matrix: 5 × 7 of type int\n",
       "\\begin{tabular}{lllllll}\n",
       "\t 2 & 3 &  4 & 5 & 6 & 7 &  8\\\\\n",
       "\t 1 & 5 &  9 & 2 & 1 & 5 &  9\\\\\n",
       "\t 2 & 6 & 10 & 3 & 2 & 6 & 10\\\\\n",
       "\t 3 & 7 & 11 & 4 & 3 & 7 & 11\\\\\n",
       "\t 4 & 8 & 12 & 5 & 4 & 8 & 12\\\\\n",
       "\\end{tabular}\n"
      ],
      "text/markdown": [
       "\n",
       "A matrix: 5 × 7 of type int\n",
       "\n",
       "| 2 | 3 |  4 | 5 | 6 | 7 |  8 |\n",
       "| 1 | 5 |  9 | 2 | 1 | 5 |  9 |\n",
       "| 2 | 6 | 10 | 3 | 2 | 6 | 10 |\n",
       "| 3 | 7 | 11 | 4 | 3 | 7 | 11 |\n",
       "| 4 | 8 | 12 | 5 | 4 | 8 | 12 |\n",
       "\n"
      ],
      "text/plain": [
       "     [,1] [,2] [,3] [,4] [,5] [,6] [,7]\n",
       "[1,] 2    3     4   5    6    7     8  \n",
       "[2,] 1    5     9   2    1    5     9  \n",
       "[3,] 2    6    10   3    2    6    10  \n",
       "[4,] 3    7    11   4    3    7    11  \n",
       "[5,] 4    8    12   5    4    8    12  "
      ]
     },
     "metadata": {},
     "output_type": "display_data"
    }
   ],
   "source": [
    "matrix_e"
   ]
  },
  {
   "cell_type": "markdown",
   "metadata": {},
   "source": [
    "## Slice a matrix\n",
    "\n",
    "We can select elements one or many elements from a matrix by using the square brackets ```[ ]```. This is where slicing comes into the picture.\n",
    "\n",
    "For example:\n",
    "\n",
    "* ```matrix_c[1,2]``` selects the element at the first row and second column.\n",
    "* ```matrix_c[1:3,2:3] ```results in a matrix with the data on the rows 1, 2, 3 and columns 2, 3,\n",
    "* ```matrix_c[,1]``` selects all elements of the first column.\n",
    "* ```matrix_c[1,]``` selects all elements of the first row.\n",
    "\n",
    "This part is exactly like [numpy indexing](https://docs.scipy.org/doc/numpy/reference/arrays.indexing.html), except:\n",
    "* start and end point has to be a value, no ```[:2]```\n",
    "* everything starts from 1 instead of 0\n",
    "* the start point means >=, end point means <="
   ]
  },
  {
   "cell_type": "code",
   "execution_count": 18,
   "metadata": {},
   "outputs": [
    {
     "data": {
      "text/html": [
       "<table>\n",
       "<caption>A matrix: 2 × 3 of type int</caption>\n",
       "<tbody>\n",
       "\t<tr><td>4</td><td>5</td><td>6</td></tr>\n",
       "\t<tr><td>9</td><td>2</td><td>1</td></tr>\n",
       "</tbody>\n",
       "</table>\n"
      ],
      "text/latex": [
       "A matrix: 2 × 3 of type int\n",
       "\\begin{tabular}{lll}\n",
       "\t 4 & 5 & 6\\\\\n",
       "\t 9 & 2 & 1\\\\\n",
       "\\end{tabular}\n"
      ],
      "text/markdown": [
       "\n",
       "A matrix: 2 × 3 of type int\n",
       "\n",
       "| 4 | 5 | 6 |\n",
       "| 9 | 2 | 1 |\n",
       "\n"
      ],
      "text/plain": [
       "     [,1] [,2] [,3]\n",
       "[1,] 4    5    6   \n",
       "[2,] 9    2    1   "
      ]
     },
     "metadata": {},
     "output_type": "display_data"
    }
   ],
   "source": [
    "matrix_e[1:2,3:5]"
   ]
  },
  {
   "cell_type": "code",
   "execution_count": 19,
   "metadata": {},
   "outputs": [
    {
     "data": {
      "text/html": [
       "<table>\n",
       "<caption>A matrix: 5 × 4 of type int</caption>\n",
       "<tbody>\n",
       "\t<tr><td>3</td><td> 4</td><td>5</td><td>6</td></tr>\n",
       "\t<tr><td>5</td><td> 9</td><td>2</td><td>1</td></tr>\n",
       "\t<tr><td>6</td><td>10</td><td>3</td><td>2</td></tr>\n",
       "\t<tr><td>7</td><td>11</td><td>4</td><td>3</td></tr>\n",
       "\t<tr><td>8</td><td>12</td><td>5</td><td>4</td></tr>\n",
       "</tbody>\n",
       "</table>\n"
      ],
      "text/latex": [
       "A matrix: 5 × 4 of type int\n",
       "\\begin{tabular}{llll}\n",
       "\t 3 &  4 & 5 & 6\\\\\n",
       "\t 5 &  9 & 2 & 1\\\\\n",
       "\t 6 & 10 & 3 & 2\\\\\n",
       "\t 7 & 11 & 4 & 3\\\\\n",
       "\t 8 & 12 & 5 & 4\\\\\n",
       "\\end{tabular}\n"
      ],
      "text/markdown": [
       "\n",
       "A matrix: 5 × 4 of type int\n",
       "\n",
       "| 3 |  4 | 5 | 6 |\n",
       "| 5 |  9 | 2 | 1 |\n",
       "| 6 | 10 | 3 | 2 |\n",
       "| 7 | 11 | 4 | 3 |\n",
       "| 8 | 12 | 5 | 4 |\n",
       "\n"
      ],
      "text/plain": [
       "     [,1] [,2] [,3] [,4]\n",
       "[1,] 3     4   5    6   \n",
       "[2,] 5     9   2    1   \n",
       "[3,] 6    10   3    2   \n",
       "[4,] 7    11   4    3   \n",
       "[5,] 8    12   5    4   "
      ]
     },
     "metadata": {},
     "output_type": "display_data"
    }
   ],
   "source": [
    "matrix_e[,2:5]"
   ]
  }
 ],
 "metadata": {
  "kernelspec": {
   "display_name": "R",
   "language": "R",
   "name": "ir"
  },
  "language_info": {
   "codemirror_mode": "r",
   "file_extension": ".r",
   "mimetype": "text/x-r-source",
   "name": "R",
   "pygments_lexer": "r",
   "version": "3.6.2"
  }
 },
 "nbformat": 4,
 "nbformat_minor": 4
}
