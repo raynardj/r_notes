{
 "cells": [
  {
   "cell_type": "markdown",
   "metadata": {},
   "source": [
    "# Functions\n",
    "> Function programming in R"
   ]
  },
  {
   "cell_type": "markdown",
   "metadata": {},
   "source": [
    "The notebook is based upon [this tutorial](https://www.guru99.com/r-functions-programming.html)\n",
    "\n",
    "A function, in a programming environment, is **a set of instructions**. A programmer builds a function to avoid **repeating** the **same task**, or **reduce complexity**.\n",
    "\n",
    "A function should be\n",
    "\n",
    "* written to carry out a specified a tasks\n",
    "* may or may not include arguments\n",
    "* contain a body\n",
    "* may or may not return one or more values.\n",
    "\n",
    "A general approach to a function is to use the argument part as inputs, feed the body part and finally return an output. The Syntax of a function is the following:\n",
    "\n",
    "```r\n",
    "function (arglist)  {\n",
    "  #Function body\n",
    "}\n",
    "```"
   ]
  },
  {
   "cell_type": "markdown",
   "metadata": {},
   "source": [
    "##  important built-in functions\n",
    "\n",
    "There are a lot of built-in function in R. R matches your input parameters with its function arguments, either by value or by position, then executes the function body. Function arguments can have default values: if you do not specify these arguments, R will take the default value.\n",
    "\n",
    "**Note**: It is possible to see the source code of a function by running the name of the function itself in the console."
   ]
  },
  {
   "cell_type": "code",
   "execution_count": 1,
   "metadata": {},
   "outputs": [
    {
     "data": {
      "text/html": [
       "<pre class=language-r><code>function (object, ...) \n",
       "UseMethod(\"str\")</code></pre>"
      ],
      "text/latex": [
       "\\begin{minted}{r}\n",
       "function (object, ...) \n",
       "UseMethod(\"str\")\n",
       "\\end{minted}"
      ],
      "text/markdown": [
       "```r\n",
       "function (object, ...) \n",
       "UseMethod(\"str\")\n",
       "```"
      ],
      "text/plain": [
       "function (object, ...) \n",
       "UseMethod(\"str\")\n",
       "<bytecode: 0x560517b82d30>\n",
       "<environment: namespace:utils>"
      ]
     },
     "metadata": {},
     "output_type": "display_data"
    }
   ],
   "source": [
    "str"
   ]
  },
  {
   "cell_type": "markdown",
   "metadata": {},
   "source": [
    "## General funcitons\n",
    "\n",
    "We are already familiar with general functions like cbind(), rbind(),range(),sort(),order() functions. Each of these functions has a specific task, takes arguments to return an output. Following are important functions one must know-\n",
    "\n",
    "### diff() function\n",
    "\n",
    "\n",
    "If you work on **time series**, you need to stationary the series by taking their lag values. A stationary process allows constant mean, variance and autocorrelation over time. This mainly improves the prediction of a time series. It can be easily done with the function diff(). We can build a random time-series data with a trend and then use the function diff() to stationary the series. The diff() function accepts one argument, a vector, and return suitable lagged and iterated difference.\n",
    "\n",
    "**Note**: We often need to create random data, but for learning and comparison we want the numbers to be identical across machines. To ensure we all generate the same data, we use the set.seed() function with arbitrary values of 123. The set.seed() function is generated through the process of pseudorandom number generator that make every modern computers to have the same sequence of numbers. If we don't use set.seed() function, we will all have different sequence of numbers."
   ]
  },
  {
   "cell_type": "code",
   "execution_count": 2,
   "metadata": {},
   "outputs": [
    {
     "data": {
      "text/html": [
       "<style>\n",
       ".list-inline {list-style: none; margin:0; padding: 0}\n",
       ".list-inline>li {display: inline-block}\n",
       ".list-inline>li:not(:last-child)::after {content: \"\\00b7\"; padding: 0 .5ex}\n",
       "</style>\n",
       "<ol class=list-inline><li>0</li><li>1</li><li>1</li><li>2</li><li>3</li><li>5</li><li>8</li></ol>\n"
      ],
      "text/latex": [
       "\\begin{enumerate*}\n",
       "\\item 0\n",
       "\\item 1\n",
       "\\item 1\n",
       "\\item 2\n",
       "\\item 3\n",
       "\\item 5\n",
       "\\item 8\n",
       "\\end{enumerate*}\n"
      ],
      "text/markdown": [
       "1. 0\n",
       "2. 1\n",
       "3. 1\n",
       "4. 2\n",
       "5. 3\n",
       "6. 5\n",
       "7. 8\n",
       "\n",
       "\n"
      ],
      "text/plain": [
       "[1] 0 1 1 2 3 5 8"
      ]
     },
     "metadata": {},
     "output_type": "display_data"
    }
   ],
   "source": [
    "a<-c(1,1,2,3,5,8,13,21)\n",
    "diff(a)"
   ]
  },
  {
   "cell_type": "code",
   "execution_count": 15,
   "metadata": {},
   "outputs": [
    {
     "data": {
      "image/png": "[encoded data removed]",
      "text/plain": [
       "plot without title"
      ]
     },
     "metadata": {
      "image/png": {
       "height": 420,
       "width": 420
      },
      "text/plain": {
       "height": 420,
       "width": 420
      }
     },
     "output_type": "display_data"
    }
   ],
   "source": [
    "plot(c(a,a,a), type=\"l\")"
   ]
  },
  {
   "cell_type": "markdown",
   "metadata": {},
   "source": [
    "### length() function\n",
    "In many cases, we want to know the **length** of a vector for computation or to be used in a for loop. The length() function counts the number of rows in vector x. The following codes import the cars dataset and return the number of rows.\n",
    "\n",
    "**Note**: length() returns the number of elements in a vector. If the function is passed into a matrix or a data frame, the number of columns is returned."
   ]
  },
  {
   "cell_type": "code",
   "execution_count": 16,
   "metadata": {},
   "outputs": [
    {
     "data": {
      "text/html": [
       "32"
      ],
      "text/latex": [
       "32"
      ],
      "text/markdown": [
       "32"
      ],
      "text/plain": [
       "[1] 32"
      ]
     },
     "metadata": {},
     "output_type": "display_data"
    }
   ],
   "source": [
    "length(c(a,a,a,a))"
   ]
  },
  {
   "cell_type": "code",
   "execution_count": 17,
   "metadata": {},
   "outputs": [],
   "source": [
    "dt <- cars"
   ]
  },
  {
   "cell_type": "markdown",
   "metadata": {},
   "source": [
    "Number of columns"
   ]
  },
  {
   "cell_type": "code",
   "execution_count": 21,
   "metadata": {},
   "outputs": [
    {
     "data": {
      "text/html": [
       "2"
      ],
      "text/latex": [
       "2"
      ],
      "text/markdown": [
       "2"
      ],
      "text/plain": [
       "[1] 2"
      ]
     },
     "metadata": {},
     "output_type": "display_data"
    }
   ],
   "source": [
    "length(dt)"
   ]
  },
  {
   "cell_type": "markdown",
   "metadata": {},
   "source": [
    "Number of rows"
   ]
  },
  {
   "cell_type": "code",
   "execution_count": 19,
   "metadata": {},
   "outputs": [
    {
     "data": {
      "text/html": [
       "50"
      ],
      "text/latex": [
       "50"
      ],
      "text/markdown": [
       "50"
      ],
      "text/plain": [
       "[1] 50"
      ]
     },
     "metadata": {},
     "output_type": "display_data"
    }
   ],
   "source": [
    "length(dt[,1])"
   ]
  },
  {
   "cell_type": "markdown",
   "metadata": {},
   "source": [
    "## Math functions"
   ]
  },
  {
   "cell_type": "markdown",
   "metadata": {},
   "source": [
    "```\n",
    "\n",
    "Operator\tDescription\n",
    "abs(x)\tTakes the absolute value of x\n",
    "log(x,base=y)\tTakes the logarithm of x with base y; if base is not specified, returns the natural logarithm\n",
    "exp(x)\tReturns the exponential of x\n",
    "sqrt(x)\tReturns the square root of x\n",
    "factorial(x)\tReturns the factorial of x (x!)\n",
    "```"
   ]
  },
  {
   "cell_type": "code",
   "execution_count": 23,
   "metadata": {},
   "outputs": [
    {
     "data": {
      "text/html": [
       "<style>\n",
       ".list-inline {list-style: none; margin:0; padding: 0}\n",
       ".list-inline>li {display: inline-block}\n",
       ".list-inline>li:not(:last-child)::after {content: \"\\00b7\"; padding: 0 .5ex}\n",
       "</style>\n",
       "<ol class=list-inline><li>45</li><li>46</li><li>47</li><li>48</li><li>49</li><li>50</li><li>51</li><li>52</li><li>53</li><li>54</li><li>55</li></ol>\n"
      ],
      "text/latex": [
       "\\begin{enumerate*}\n",
       "\\item 45\n",
       "\\item 46\n",
       "\\item 47\n",
       "\\item 48\n",
       "\\item 49\n",
       "\\item 50\n",
       "\\item 51\n",
       "\\item 52\n",
       "\\item 53\n",
       "\\item 54\n",
       "\\item 55\n",
       "\\end{enumerate*}\n"
      ],
      "text/markdown": [
       "1. 45\n",
       "2. 46\n",
       "3. 47\n",
       "4. 48\n",
       "5. 49\n",
       "6. 50\n",
       "7. 51\n",
       "8. 52\n",
       "9. 53\n",
       "10. 54\n",
       "11. 55\n",
       "\n",
       "\n"
      ],
      "text/plain": [
       " [1] 45 46 47 48 49 50 51 52 53 54 55"
      ]
     },
     "metadata": {},
     "output_type": "display_data"
    }
   ],
   "source": [
    "x_vector <- seq(45,55, by=1)\n",
    "x_vector"
   ]
  },
  {
   "cell_type": "code",
   "execution_count": 24,
   "metadata": {},
   "outputs": [
    {
     "data": {
      "text/html": [
       "<style>\n",
       ".list-inline {list-style: none; margin:0; padding: 0}\n",
       ".list-inline>li {display: inline-block}\n",
       ".list-inline>li:not(:last-child)::after {content: \"\\00b7\"; padding: 0 .5ex}\n",
       "</style>\n",
       "<ol class=list-inline><li>3.80666248977032</li><li>3.8286413964891</li><li>3.85014760171006</li><li>3.87120101090789</li><li>3.89182029811063</li><li>3.91202300542815</li><li>3.93182563272433</li><li>3.95124371858143</li><li>3.97029191355212</li><li>3.98898404656427</li><li>4.00733318523247</li></ol>\n"
      ],
      "text/latex": [
       "\\begin{enumerate*}\n",
       "\\item 3.80666248977032\n",
       "\\item 3.8286413964891\n",
       "\\item 3.85014760171006\n",
       "\\item 3.87120101090789\n",
       "\\item 3.89182029811063\n",
       "\\item 3.91202300542815\n",
       "\\item 3.93182563272433\n",
       "\\item 3.95124371858143\n",
       "\\item 3.97029191355212\n",
       "\\item 3.98898404656427\n",
       "\\item 4.00733318523247\n",
       "\\end{enumerate*}\n"
      ],
      "text/markdown": [
       "1. 3.80666248977032\n",
       "2. 3.8286413964891\n",
       "3. 3.85014760171006\n",
       "4. 3.87120101090789\n",
       "5. 3.89182029811063\n",
       "6. 3.91202300542815\n",
       "7. 3.93182563272433\n",
       "8. 3.95124371858143\n",
       "9. 3.97029191355212\n",
       "10. 3.98898404656427\n",
       "11. 4.00733318523247\n",
       "\n",
       "\n"
      ],
      "text/plain": [
       " [1] 3.806662 3.828641 3.850148 3.871201 3.891820 3.912023 3.931826 3.951244\n",
       " [9] 3.970292 3.988984 4.007333"
      ]
     },
     "metadata": {},
     "output_type": "display_data"
    }
   ],
   "source": [
    "log(x_vector)"
   ]
  },
  {
   "cell_type": "code",
   "execution_count": 25,
   "metadata": {},
   "outputs": [
    {
     "data": {
      "text/html": [
       "<style>\n",
       ".list-inline {list-style: none; margin:0; padding: 0}\n",
       ".list-inline>li {display: inline-block}\n",
       ".list-inline>li:not(:last-child)::after {content: \"\\00b7\"; padding: 0 .5ex}\n",
       "</style>\n",
       "<ol class=list-inline><li>34934271057485094912</li><li>94961194206024482816</li><li>2.58131288619007e+20</li><li>7.01673591209763e+20</li><li>1.9073465724951e+21</li><li>5.18470552858707e+21</li><li>1.40934908242694e+22</li><li>3.83100800071658e+22</li><li>1.04137594330291e+23</li><li>2.83075330327469e+23</li><li>7.69478526514202e+23</li></ol>\n"
      ],
      "text/latex": [
       "\\begin{enumerate*}\n",
       "\\item 34934271057485094912\n",
       "\\item 94961194206024482816\n",
       "\\item 2.58131288619007e+20\n",
       "\\item 7.01673591209763e+20\n",
       "\\item 1.9073465724951e+21\n",
       "\\item 5.18470552858707e+21\n",
       "\\item 1.40934908242694e+22\n",
       "\\item 3.83100800071658e+22\n",
       "\\item 1.04137594330291e+23\n",
       "\\item 2.83075330327469e+23\n",
       "\\item 7.69478526514202e+23\n",
       "\\end{enumerate*}\n"
      ],
      "text/markdown": [
       "1. 34934271057485094912\n",
       "2. 94961194206024482816\n",
       "3. 2.58131288619007e+20\n",
       "4. 7.01673591209763e+20\n",
       "5. 1.9073465724951e+21\n",
       "6. 5.18470552858707e+21\n",
       "7. 1.40934908242694e+22\n",
       "8. 3.83100800071658e+22\n",
       "9. 1.04137594330291e+23\n",
       "10. 2.83075330327469e+23\n",
       "11. 7.69478526514202e+23\n",
       "\n",
       "\n"
      ],
      "text/plain": [
       " [1] 3.493427e+19 9.496119e+19 2.581313e+20 7.016736e+20 1.907347e+21\n",
       " [6] 5.184706e+21 1.409349e+22 3.831008e+22 1.041376e+23 2.830753e+23\n",
       "[11] 7.694785e+23"
      ]
     },
     "metadata": {},
     "output_type": "display_data"
    }
   ],
   "source": [
    "exp(x_vector)"
   ]
  },
  {
   "cell_type": "code",
   "execution_count": 28,
   "metadata": {},
   "outputs": [
    {
     "data": {
      "text/html": [
       "<style>\n",
       ".list-inline {list-style: none; margin:0; padding: 0}\n",
       ".list-inline>li {display: inline-block}\n",
       ".list-inline>li:not(:last-child)::after {content: \"\\00b7\"; padding: 0 .5ex}\n",
       "</style>\n",
       "<ol class=list-inline><li>1.1962222086548e+56</li><li>5.50262215981209e+57</li><li>2.58623241511168e+59</li><li>1.24139155925361e+61</li><li>6.08281864034268e+62</li><li>3.0414093201713e+64</li><li>1.55111875328741e+66</li><li>8.06581751709449e+67</li><li>4.27488328406012e+69</li><li>2.30843697339245e+71</li><li>1.26964033536586e+73</li></ol>\n"
      ],
      "text/latex": [
       "\\begin{enumerate*}\n",
       "\\item 1.1962222086548e+56\n",
       "\\item 5.50262215981209e+57\n",
       "\\item 2.58623241511168e+59\n",
       "\\item 1.24139155925361e+61\n",
       "\\item 6.08281864034268e+62\n",
       "\\item 3.0414093201713e+64\n",
       "\\item 1.55111875328741e+66\n",
       "\\item 8.06581751709449e+67\n",
       "\\item 4.27488328406012e+69\n",
       "\\item 2.30843697339245e+71\n",
       "\\item 1.26964033536586e+73\n",
       "\\end{enumerate*}\n"
      ],
      "text/markdown": [
       "1. 1.1962222086548e+56\n",
       "2. 5.50262215981209e+57\n",
       "3. 2.58623241511168e+59\n",
       "4. 1.24139155925361e+61\n",
       "5. 6.08281864034268e+62\n",
       "6. 3.0414093201713e+64\n",
       "7. 1.55111875328741e+66\n",
       "8. 8.06581751709449e+67\n",
       "9. 4.27488328406012e+69\n",
       "10. 2.30843697339245e+71\n",
       "11. 1.26964033536586e+73\n",
       "\n",
       "\n"
      ],
      "text/plain": [
       " [1] 1.196222e+56 5.502622e+57 2.586232e+59 1.241392e+61 6.082819e+62\n",
       " [6] 3.041409e+64 1.551119e+66 8.065818e+67 4.274883e+69 2.308437e+71\n",
       "[11] 1.269640e+73"
      ]
     },
     "metadata": {},
     "output_type": "display_data"
    }
   ],
   "source": [
    "factorial(x_vector)"
   ]
  },
  {
   "cell_type": "markdown",
   "metadata": {},
   "source": [
    "### Statistical functions\n",
    "\n",
    "R standard installation contains wide range of statistical functions. In this tutorial, we will briefly look at the most important function.\n",
    "\n",
    "```\n",
    "Operator\tDescription\n",
    "\n",
    "mean(x)\tMean of x\n",
    "\n",
    "median(x)\tMedian of x\n",
    "\n",
    "var(x)\tVariance of x\n",
    "\n",
    "sd(x)\tStandard deviation of x\n",
    "\n",
    "scale(x)\tStandard scores (z-scores) of x\n",
    "```"
   ]
  },
  {
   "cell_type": "code",
   "execution_count": 29,
   "metadata": {},
   "outputs": [
    {
     "data": {
      "text/html": [
       "15.4"
      ],
      "text/latex": [
       "15.4"
      ],
      "text/markdown": [
       "15.4"
      ],
      "text/plain": [
       "[1] 15.4"
      ]
     },
     "metadata": {},
     "output_type": "display_data"
    }
   ],
   "source": [
    "mean(dt$speed)"
   ]
  },
  {
   "cell_type": "code",
   "execution_count": 30,
   "metadata": {},
   "outputs": [
    {
     "data": {
      "text/html": [
       "15"
      ],
      "text/latex": [
       "15"
      ],
      "text/markdown": [
       "15"
      ],
      "text/plain": [
       "[1] 15"
      ]
     },
     "metadata": {},
     "output_type": "display_data"
    }
   ],
   "source": [
    "median(dt$speed)"
   ]
  },
  {
   "cell_type": "code",
   "execution_count": 31,
   "metadata": {},
   "outputs": [
    {
     "data": {
      "text/html": [
       "27.9591836734694"
      ],
      "text/latex": [
       "27.9591836734694"
      ],
      "text/markdown": [
       "27.9591836734694"
      ],
      "text/plain": [
       "[1] 27.95918"
      ]
     },
     "metadata": {},
     "output_type": "display_data"
    }
   ],
   "source": [
    "var(dt$speed)"
   ]
  },
  {
   "cell_type": "code",
   "execution_count": 32,
   "metadata": {},
   "outputs": [
    {
     "data": {
      "text/html": [
       "5.28764443523478"
      ],
      "text/latex": [
       "5.28764443523478"
      ],
      "text/markdown": [
       "5.28764443523478"
      ],
      "text/plain": [
       "[1] 5.287644"
      ]
     },
     "metadata": {},
     "output_type": "display_data"
    }
   ],
   "source": [
    "sd(dt$speed)"
   ]
  },
  {
   "cell_type": "code",
   "execution_count": 33,
   "metadata": {},
   "outputs": [
    {
     "data": {
      "text/html": [
       "5.28764443523478"
      ],
      "text/latex": [
       "5.28764443523478"
      ],
      "text/markdown": [
       "5.28764443523478"
      ],
      "text/plain": [
       "[1] 5.287644"
      ]
     },
     "metadata": {},
     "output_type": "display_data"
    }
   ],
   "source": [
    "sqrt(var(dt$speed))"
   ]
  },
  {
   "cell_type": "markdown",
   "metadata": {},
   "source": [
    "Scale means: $\\frac{x-mean(x)}{std(x)}$"
   ]
  },
  {
   "cell_type": "code",
   "execution_count": 37,
   "metadata": {},
   "outputs": [
    {
     "data": {
      "text/html": [
       "-5.42794975633143e-17"
      ],
      "text/latex": [
       "-5.42794975633143e-17"
      ],
      "text/markdown": [
       "-5.42794975633143e-17"
      ],
      "text/plain": [
       "[1] -5.42795e-17"
      ]
     },
     "metadata": {},
     "output_type": "display_data"
    },
    {
     "data": {
      "text/html": [
       "1"
      ],
      "text/latex": [
       "1"
      ],
      "text/markdown": [
       "1"
      ],
      "text/plain": [
       "[1] 1"
      ]
     },
     "metadata": {},
     "output_type": "display_data"
    }
   ],
   "source": [
    "mean(scale(dt$speed))\n",
    "sd(scale(dt$speed))"
   ]
  },
  {
   "cell_type": "code",
   "execution_count": 40,
   "metadata": {},
   "outputs": [
    {
     "data": {
      "text/html": [
       "<style>\n",
       ".dl-inline {width: auto; margin:0; padding: 0}\n",
       ".dl-inline>dt, .dl-inline>dd {float: none; width: auto; display: inline-block}\n",
       ".dl-inline>dt::after {content: \":\\0020\"; padding-right: .5ex}\n",
       ".dl-inline>dt:not(:first-of-type) {padding-left: .5ex}\n",
       "</style><dl class=dl-inline><dt>0%</dt><dd>4</dd><dt>25%</dt><dd>12</dd><dt>50%</dt><dd>15</dd><dt>75%</dt><dd>19</dd><dt>100%</dt><dd>25</dd></dl>\n"
      ],
      "text/latex": [
       "\\begin{description*}\n",
       "\\item[0\\textbackslash{}\\%] 4\n",
       "\\item[25\\textbackslash{}\\%] 12\n",
       "\\item[50\\textbackslash{}\\%] 15\n",
       "\\item[75\\textbackslash{}\\%] 19\n",
       "\\item[100\\textbackslash{}\\%] 25\n",
       "\\end{description*}\n"
      ],
      "text/markdown": [
       "0%\n",
       ":   425%\n",
       ":   1250%\n",
       ":   1575%\n",
       ":   19100%\n",
       ":   25\n",
       "\n"
      ],
      "text/plain": [
       "  0%  25%  50%  75% 100% \n",
       "   4   12   15   19   25 "
      ]
     },
     "metadata": {},
     "output_type": "display_data"
    }
   ],
   "source": [
    "quantile(dt$speed)"
   ]
  },
  {
   "cell_type": "code",
   "execution_count": 41,
   "metadata": {},
   "outputs": [
    {
     "data": {
      "text/plain": [
       "   Min. 1st Qu.  Median    Mean 3rd Qu.    Max. \n",
       "    4.0    12.0    15.0    15.4    19.0    25.0 "
      ]
     },
     "metadata": {},
     "output_type": "display_data"
    }
   ],
   "source": [
    "summary(dt$speed)"
   ]
  },
  {
   "cell_type": "markdown",
   "metadata": {},
   "source": [
    "Up to this point, we have learned a lot of R built-in functions.\n",
    "\n",
    "Note: Be careful with the class of the argument, i.e. numeric, Boolean or string. For instance, if we need to pass a string value, we need to enclose the string in quotation mark: \"ABC\" ."
   ]
  }
 ],
 "metadata": {
  "kernelspec": {
   "display_name": "R",
   "language": "R",
   "name": "ir"
  },
  "language_info": {
   "codemirror_mode": "r",
   "file_extension": ".r",
   "mimetype": "text/x-r-source",
   "name": "R",
   "pygments_lexer": "r",
   "version": "3.6.2"
  }
 },
 "nbformat": 4,
 "nbformat_minor": 4
}
