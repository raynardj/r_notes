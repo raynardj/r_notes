{
 "cells": [
  {
   "cell_type": "markdown",
   "metadata": {},
   "source": [
    "# Functions\n",
    "> Function programming in R"
   ]
  },
  {
   "cell_type": "markdown",
   "metadata": {},
   "source": [
    "The notebook is based upon [this tutorial](https://www.guru99.com/r-functions-programming.html)\n",
    "\n",
    "A function, in a programming environment, is **a set of instructions**. A programmer builds a function to avoid **repeating** the **same task**, or **reduce complexity**.\n",
    "\n",
    "A function should be\n",
    "\n",
    "* written to carry out a specified a tasks\n",
    "* may or may not include arguments\n",
    "* contain a body\n",
    "* may or may not return one or more values.\n",
    "\n",
    "A general approach to a function is to use the argument part as inputs, feed the body part and finally return an output. The Syntax of a function is the following:\n",
    "\n",
    "```r\n",
    "function (arglist)  {\n",
    "  #Function body\n",
    "}\n",
    "```"
   ]
  },
  {
   "cell_type": "markdown",
   "metadata": {},
   "source": [
    "##  important built-in functions\n",
    "\n",
    "There are a lot of built-in function in R. R matches your input parameters with its function arguments, either by value or by position, then executes the function body. Function arguments can have default values: if you do not specify these arguments, R will take the default value.\n",
    "\n",
    "**Note**: It is possible to see the source code of a function by running the name of the function itself in the console."
   ]
  },
  {
   "cell_type": "code",
   "execution_count": 1,
   "metadata": {},
   "outputs": [
    {
     "data": {
      "text/html": [
       "<pre class=language-r><code>function (object, ...) \n",
       "UseMethod(\"str\")</code></pre>"
      ],
      "text/latex": [
       "\\begin{minted}{r}\n",
       "function (object, ...) \n",
       "UseMethod(\"str\")\n",
       "\\end{minted}"
      ],
      "text/markdown": [
       "```r\n",
       "function (object, ...) \n",
       "UseMethod(\"str\")\n",
       "```"
      ],
      "text/plain": [
       "function (object, ...) \n",
       "UseMethod(\"str\")\n",
       "<bytecode: 0x560517b82d30>\n",
       "<environment: namespace:utils>"
      ]
     },
     "metadata": {},
     "output_type": "display_data"
    }
   ],
   "source": [
    "str"
   ]
  },
  {
   "cell_type": "code",
   "execution_count": null,
   "metadata": {},
   "outputs": [],
   "source": []
  }
 ],
 "metadata": {
  "kernelspec": {
   "display_name": "R",
   "language": "R",
   "name": "ir"
  },
  "language_info": {
   "codemirror_mode": "r",
   "file_extension": ".r",
   "mimetype": "text/x-r-source",
   "name": "R",
   "pygments_lexer": "r",
   "version": "3.6.2"
  }
 },
 "nbformat": 4,
 "nbformat_minor": 4
}
