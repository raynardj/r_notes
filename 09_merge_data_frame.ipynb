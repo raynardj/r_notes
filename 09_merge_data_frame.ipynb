{
 "cells": [
  {
   "cell_type": "markdown",
   "metadata": {},
   "source": [
    "# Merge Data Frame\n",
    "> Full and Partial Match"
   ]
  },
  {
   "cell_type": "markdown",
   "metadata": {},
   "source": [
    "Very often, we have data from multiple sources. To perform an analysis, we need to **merge** two dataframes together with one or more **common key variables**."
   ]
  },
  {
   "cell_type": "markdown",
   "metadata": {},
   "source": [
    "## Full match\n",
    "\n",
    "A full match returns values that **have a counterpart** in the destination table. The values that are not match won't be return in the new data frame. The **partial** match, however, return the missing values as **NA**.\n",
    "\n",
    "\n",
    "We will see a simple inner join. The inner join keyword selects records that have matching values in both tables. To join two datasets, we can use merge() function. We will use three arguments :\n",
    "\n",
    "```r\n",
    "merge(x, y, by.x = x, by.y = y)\n",
    "```\n",
    "### Arguments:\n",
    "* x: The origin data frame\n",
    "* y: The data frame to merge\n",
    "* by.x: The column used for merging in x data frame. Column x to merge on\n",
    "* by.y: The column used for merging in y data frame. Column y to merge on\n",
    "\n",
    "### Example:\n",
    "\n",
    "Create First Dataset with variables\n",
    "\n",
    "* surname\n",
    "* nationality\n",
    "Create Second Dataset with variables\n",
    "\n",
    "* surname\n",
    "* movies\n",
    "\n",
    "The common key variable is surname. We can merge both data and check if the dimensionality is 7x3.\n",
    "\n",
    "We add stringsAsFactors=FALSE in the data frame because we don't want R to convert string as factor, we want the variable to be treated as character."
   ]
  },
  {
   "cell_type": "markdown",
   "metadata": {},
   "source": [
    "Create the origin data frame"
   ]
  },
  {
   "cell_type": "code",
   "execution_count": 3,
   "metadata": {},
   "outputs": [
    {
     "data": {
      "text/html": [
       "<table>\n",
       "<caption>A data.frame: 5 × 2</caption>\n",
       "<thead>\n",
       "\t<tr><th scope=col>surname</th><th scope=col>nationality</th></tr>\n",
       "\t<tr><th scope=col>&lt;chr&gt;</th><th scope=col>&lt;chr&gt;</th></tr>\n",
       "</thead>\n",
       "<tbody>\n",
       "\t<tr><td>Spielberg</td><td>US    </td></tr>\n",
       "\t<tr><td>Scorsese </td><td>US    </td></tr>\n",
       "\t<tr><td>Hitchcock</td><td>UK    </td></tr>\n",
       "\t<tr><td>Tarantino</td><td>US    </td></tr>\n",
       "\t<tr><td>Polanski </td><td>Poland</td></tr>\n",
       "</tbody>\n",
       "</table>\n"
      ],
      "text/latex": [
       "A data.frame: 5 × 2\n",
       "\\begin{tabular}{ll}\n",
       " surname & nationality\\\\\n",
       " <chr> & <chr>\\\\\n",
       "\\hline\n",
       "\t Spielberg & US    \\\\\n",
       "\t Scorsese  & US    \\\\\n",
       "\t Hitchcock & UK    \\\\\n",
       "\t Tarantino & US    \\\\\n",
       "\t Polanski  & Poland\\\\\n",
       "\\end{tabular}\n"
      ],
      "text/markdown": [
       "\n",
       "A data.frame: 5 × 2\n",
       "\n",
       "| surname &lt;chr&gt; | nationality &lt;chr&gt; |\n",
       "|---|---|\n",
       "| Spielberg | US     |\n",
       "| Scorsese  | US     |\n",
       "| Hitchcock | UK     |\n",
       "| Tarantino | US     |\n",
       "| Polanski  | Poland |\n",
       "\n"
      ],
      "text/plain": [
       "  surname   nationality\n",
       "1 Spielberg US         \n",
       "2 Scorsese  US         \n",
       "3 Hitchcock UK         \n",
       "4 Tarantino US         \n",
       "5 Polanski  Poland     "
      ]
     },
     "metadata": {},
     "output_type": "display_data"
    }
   ],
   "source": [
    "producers <- data.frame(   \n",
    "    surname =  c(\"Spielberg\",\"Scorsese\",\"Hitchcock\",\"Tarantino\",\"Polanski\"),    \n",
    "    nationality = c(\"US\",\"US\",\"UK\",\"US\",\"Poland\"),    \n",
    "    stringsAsFactors=FALSE)\n",
    "producers"
   ]
  },
  {
   "cell_type": "markdown",
   "metadata": {},
   "source": [
    "Create destination data frame"
   ]
  },
  {
   "cell_type": "code",
   "execution_count": 6,
   "metadata": {},
   "outputs": [
    {
     "data": {
      "text/html": [
       "<table>\n",
       "<caption>A data.frame: 7 × 2</caption>\n",
       "<thead>\n",
       "\t<tr><th scope=col>surname</th><th scope=col>title</th></tr>\n",
       "\t<tr><th scope=col>&lt;chr&gt;</th><th scope=col>&lt;chr&gt;</th></tr>\n",
       "</thead>\n",
       "<tbody>\n",
       "\t<tr><td>Spielberg</td><td>Super 8            </td></tr>\n",
       "\t<tr><td>Scorsese </td><td>Taxi Driver        </td></tr>\n",
       "\t<tr><td>Hitchcock</td><td>Psycho             </td></tr>\n",
       "\t<tr><td>Hitchcock</td><td>North by Northwest </td></tr>\n",
       "\t<tr><td>Spielberg</td><td>Catch Me If You Can</td></tr>\n",
       "\t<tr><td>Tarantino</td><td>Reservoir Dogs     </td></tr>\n",
       "\t<tr><td>Polanski </td><td>Chinatown          </td></tr>\n",
       "</tbody>\n",
       "</table>\n"
      ],
      "text/latex": [
       "A data.frame: 7 × 2\n",
       "\\begin{tabular}{ll}\n",
       " surname & title\\\\\n",
       " <chr> & <chr>\\\\\n",
       "\\hline\n",
       "\t Spielberg & Super 8            \\\\\n",
       "\t Scorsese  & Taxi Driver        \\\\\n",
       "\t Hitchcock & Psycho             \\\\\n",
       "\t Hitchcock & North by Northwest \\\\\n",
       "\t Spielberg & Catch Me If You Can\\\\\n",
       "\t Tarantino & Reservoir Dogs     \\\\\n",
       "\t Polanski  & Chinatown          \\\\\n",
       "\\end{tabular}\n"
      ],
      "text/markdown": [
       "\n",
       "A data.frame: 7 × 2\n",
       "\n",
       "| surname &lt;chr&gt; | title &lt;chr&gt; |\n",
       "|---|---|\n",
       "| Spielberg | Super 8             |\n",
       "| Scorsese  | Taxi Driver         |\n",
       "| Hitchcock | Psycho              |\n",
       "| Hitchcock | North by Northwest  |\n",
       "| Spielberg | Catch Me If You Can |\n",
       "| Tarantino | Reservoir Dogs      |\n",
       "| Polanski  | Chinatown           |\n",
       "\n"
      ],
      "text/plain": [
       "  surname   title              \n",
       "1 Spielberg Super 8            \n",
       "2 Scorsese  Taxi Driver        \n",
       "3 Hitchcock Psycho             \n",
       "4 Hitchcock North by Northwest \n",
       "5 Spielberg Catch Me If You Can\n",
       "6 Tarantino Reservoir Dogs     \n",
       "7 Polanski  Chinatown          "
      ]
     },
     "metadata": {},
     "output_type": "display_data"
    }
   ],
   "source": [
    "movies <- data.frame(    \n",
    "    surname = c(\"Spielberg\",\n",
    "        \"Scorsese\",\n",
    "                \"Hitchcock\",\n",
    "                \"Hitchcock\",\n",
    "                \"Spielberg\",\n",
    "                \"Tarantino\",\n",
    "                \"Polanski\"),    \n",
    "    title = c(\"Super 8\",\n",
    "            \"Taxi Driver\",\n",
    "            \"Psycho\",\n",
    "            \"North by Northwest\",\n",
    "            \"Catch Me If You Can\",\n",
    "            \"Reservoir Dogs\",\"Chinatown\"),                \n",
    "             stringsAsFactors=FALSE)\n",
    "movies"
   ]
  },
  {
   "cell_type": "markdown",
   "metadata": {},
   "source": [
    "Merge 2 dataset"
   ]
  },
  {
   "cell_type": "code",
   "execution_count": 7,
   "metadata": {},
   "outputs": [
    {
     "data": {
      "text/html": [
       "<table>\n",
       "<caption>A data.frame: 7 × 3</caption>\n",
       "<thead>\n",
       "\t<tr><th scope=col>surname</th><th scope=col>nationality</th><th scope=col>title</th></tr>\n",
       "\t<tr><th scope=col>&lt;chr&gt;</th><th scope=col>&lt;chr&gt;</th><th scope=col>&lt;chr&gt;</th></tr>\n",
       "</thead>\n",
       "<tbody>\n",
       "\t<tr><td>Hitchcock</td><td>UK    </td><td>Psycho             </td></tr>\n",
       "\t<tr><td>Hitchcock</td><td>UK    </td><td>North by Northwest </td></tr>\n",
       "\t<tr><td>Polanski </td><td>Poland</td><td>Chinatown          </td></tr>\n",
       "\t<tr><td>Scorsese </td><td>US    </td><td>Taxi Driver        </td></tr>\n",
       "\t<tr><td>Spielberg</td><td>US    </td><td>Super 8            </td></tr>\n",
       "\t<tr><td>Spielberg</td><td>US    </td><td>Catch Me If You Can</td></tr>\n",
       "\t<tr><td>Tarantino</td><td>US    </td><td>Reservoir Dogs     </td></tr>\n",
       "</tbody>\n",
       "</table>\n"
      ],
      "text/latex": [
       "A data.frame: 7 × 3\n",
       "\\begin{tabular}{lll}\n",
       " surname & nationality & title\\\\\n",
       " <chr> & <chr> & <chr>\\\\\n",
       "\\hline\n",
       "\t Hitchcock & UK     & Psycho             \\\\\n",
       "\t Hitchcock & UK     & North by Northwest \\\\\n",
       "\t Polanski  & Poland & Chinatown          \\\\\n",
       "\t Scorsese  & US     & Taxi Driver        \\\\\n",
       "\t Spielberg & US     & Super 8            \\\\\n",
       "\t Spielberg & US     & Catch Me If You Can\\\\\n",
       "\t Tarantino & US     & Reservoir Dogs     \\\\\n",
       "\\end{tabular}\n"
      ],
      "text/markdown": [
       "\n",
       "A data.frame: 7 × 3\n",
       "\n",
       "| surname &lt;chr&gt; | nationality &lt;chr&gt; | title &lt;chr&gt; |\n",
       "|---|---|---|\n",
       "| Hitchcock | UK     | Psycho              |\n",
       "| Hitchcock | UK     | North by Northwest  |\n",
       "| Polanski  | Poland | Chinatown           |\n",
       "| Scorsese  | US     | Taxi Driver         |\n",
       "| Spielberg | US     | Super 8             |\n",
       "| Spielberg | US     | Catch Me If You Can |\n",
       "| Tarantino | US     | Reservoir Dogs      |\n",
       "\n"
      ],
      "text/plain": [
       "  surname   nationality title              \n",
       "1 Hitchcock UK          Psycho             \n",
       "2 Hitchcock UK          North by Northwest \n",
       "3 Polanski  Poland      Chinatown          \n",
       "4 Scorsese  US          Taxi Driver        \n",
       "5 Spielberg US          Super 8            \n",
       "6 Spielberg US          Catch Me If You Can\n",
       "7 Tarantino US          Reservoir Dogs     "
      ]
     },
     "metadata": {},
     "output_type": "display_data"
    }
   ],
   "source": [
    "m1<- merge(producers,movies, by.x = \"surname\")\n",
    "m1"
   ]
  },
  {
   "cell_type": "markdown",
   "metadata": {},
   "source": [
    "### With different names\n",
    "Let's merge data frames when the common key variables have different names.\n",
    "\n",
    "We change surname to name in the movies data frame. We use the function identical(x1, x2) to check if both dataframes are identical."
   ]
  },
  {
   "cell_type": "code",
   "execution_count": 10,
   "metadata": {},
   "outputs": [
    {
     "data": {
      "text/html": [
       "<table>\n",
       "<caption>A data.frame: 7 × 2</caption>\n",
       "<thead>\n",
       "\t<tr><th scope=col>name</th><th scope=col>title</th></tr>\n",
       "\t<tr><th scope=col>&lt;chr&gt;</th><th scope=col>&lt;chr&gt;</th></tr>\n",
       "</thead>\n",
       "<tbody>\n",
       "\t<tr><td>Spielberg</td><td>Super 8            </td></tr>\n",
       "\t<tr><td>Scorsese </td><td>Taxi Driver        </td></tr>\n",
       "\t<tr><td>Hitchcock</td><td>Psycho             </td></tr>\n",
       "\t<tr><td>Hitchcock</td><td>North by Northwest </td></tr>\n",
       "\t<tr><td>Spielberg</td><td>Catch Me If You Can</td></tr>\n",
       "\t<tr><td>Tarantino</td><td>Reservoir Dogs     </td></tr>\n",
       "\t<tr><td>Polanski </td><td>Chinatown          </td></tr>\n",
       "</tbody>\n",
       "</table>\n"
      ],
      "text/latex": [
       "A data.frame: 7 × 2\n",
       "\\begin{tabular}{ll}\n",
       " name & title\\\\\n",
       " <chr> & <chr>\\\\\n",
       "\\hline\n",
       "\t Spielberg & Super 8            \\\\\n",
       "\t Scorsese  & Taxi Driver        \\\\\n",
       "\t Hitchcock & Psycho             \\\\\n",
       "\t Hitchcock & North by Northwest \\\\\n",
       "\t Spielberg & Catch Me If You Can\\\\\n",
       "\t Tarantino & Reservoir Dogs     \\\\\n",
       "\t Polanski  & Chinatown          \\\\\n",
       "\\end{tabular}\n"
      ],
      "text/markdown": [
       "\n",
       "A data.frame: 7 × 2\n",
       "\n",
       "| name &lt;chr&gt; | title &lt;chr&gt; |\n",
       "|---|---|\n",
       "| Spielberg | Super 8             |\n",
       "| Scorsese  | Taxi Driver         |\n",
       "| Hitchcock | Psycho              |\n",
       "| Hitchcock | North by Northwest  |\n",
       "| Spielberg | Catch Me If You Can |\n",
       "| Tarantino | Reservoir Dogs      |\n",
       "| Polanski  | Chinatown           |\n",
       "\n"
      ],
      "text/plain": [
       "  name      title              \n",
       "1 Spielberg Super 8            \n",
       "2 Scorsese  Taxi Driver        \n",
       "3 Hitchcock Psycho             \n",
       "4 Hitchcock North by Northwest \n",
       "5 Spielberg Catch Me If You Can\n",
       "6 Tarantino Reservoir Dogs     \n",
       "7 Polanski  Chinatown          "
      ]
     },
     "metadata": {},
     "output_type": "display_data"
    }
   ],
   "source": [
    "# Change name of ` movies ` dataframe\n",
    "colnames(movies)[colnames(movies) == 'surname'] <- 'name'\n",
    "movies"
   ]
  },
  {
   "cell_type": "markdown",
   "metadata": {},
   "source": [
    "Merge different key value, notice, the final result takes the name from the by.x"
   ]
  },
  {
   "cell_type": "code",
   "execution_count": 12,
   "metadata": {},
   "outputs": [
    {
     "data": {
      "text/html": [
       "<table>\n",
       "<caption>A data.frame: 7 × 3</caption>\n",
       "<thead>\n",
       "\t<tr><th scope=col>surname</th><th scope=col>nationality</th><th scope=col>title</th></tr>\n",
       "\t<tr><th scope=col>&lt;chr&gt;</th><th scope=col>&lt;chr&gt;</th><th scope=col>&lt;chr&gt;</th></tr>\n",
       "</thead>\n",
       "<tbody>\n",
       "\t<tr><td>Hitchcock</td><td>UK    </td><td>Psycho             </td></tr>\n",
       "\t<tr><td>Hitchcock</td><td>UK    </td><td>North by Northwest </td></tr>\n",
       "\t<tr><td>Polanski </td><td>Poland</td><td>Chinatown          </td></tr>\n",
       "\t<tr><td>Scorsese </td><td>US    </td><td>Taxi Driver        </td></tr>\n",
       "\t<tr><td>Spielberg</td><td>US    </td><td>Super 8            </td></tr>\n",
       "\t<tr><td>Spielberg</td><td>US    </td><td>Catch Me If You Can</td></tr>\n",
       "\t<tr><td>Tarantino</td><td>US    </td><td>Reservoir Dogs     </td></tr>\n",
       "</tbody>\n",
       "</table>\n"
      ],
      "text/latex": [
       "A data.frame: 7 × 3\n",
       "\\begin{tabular}{lll}\n",
       " surname & nationality & title\\\\\n",
       " <chr> & <chr> & <chr>\\\\\n",
       "\\hline\n",
       "\t Hitchcock & UK     & Psycho             \\\\\n",
       "\t Hitchcock & UK     & North by Northwest \\\\\n",
       "\t Polanski  & Poland & Chinatown          \\\\\n",
       "\t Scorsese  & US     & Taxi Driver        \\\\\n",
       "\t Spielberg & US     & Super 8            \\\\\n",
       "\t Spielberg & US     & Catch Me If You Can\\\\\n",
       "\t Tarantino & US     & Reservoir Dogs     \\\\\n",
       "\\end{tabular}\n"
      ],
      "text/markdown": [
       "\n",
       "A data.frame: 7 × 3\n",
       "\n",
       "| surname &lt;chr&gt; | nationality &lt;chr&gt; | title &lt;chr&gt; |\n",
       "|---|---|---|\n",
       "| Hitchcock | UK     | Psycho              |\n",
       "| Hitchcock | UK     | North by Northwest  |\n",
       "| Polanski  | Poland | Chinatown           |\n",
       "| Scorsese  | US     | Taxi Driver         |\n",
       "| Spielberg | US     | Super 8             |\n",
       "| Spielberg | US     | Catch Me If You Can |\n",
       "| Tarantino | US     | Reservoir Dogs      |\n",
       "\n"
      ],
      "text/plain": [
       "  surname   nationality title              \n",
       "1 Hitchcock UK          Psycho             \n",
       "2 Hitchcock UK          North by Northwest \n",
       "3 Polanski  Poland      Chinatown          \n",
       "4 Scorsese  US          Taxi Driver        \n",
       "5 Spielberg US          Super 8            \n",
       "6 Spielberg US          Catch Me If You Can\n",
       "7 Tarantino US          Reservoir Dogs     "
      ]
     },
     "metadata": {},
     "output_type": "display_data"
    }
   ],
   "source": [
    "m2 <- merge(producers, movies,by.x = \"surname\",by.y = \"name\")\n",
    "m2"
   ]
  },
  {
   "cell_type": "markdown",
   "metadata": {},
   "source": [
    "Check if m1 and m2 data are identical"
   ]
  },
  {
   "cell_type": "code",
   "execution_count": 14,
   "metadata": {},
   "outputs": [
    {
     "data": {
      "text/html": [
       "TRUE"
      ],
      "text/latex": [
       "TRUE"
      ],
      "text/markdown": [
       "TRUE"
      ],
      "text/plain": [
       "[1] TRUE"
      ]
     },
     "metadata": {},
     "output_type": "display_data"
    }
   ],
   "source": [
    "identical(m1,m2)"
   ]
  },
  {
   "cell_type": "markdown",
   "metadata": {},
   "source": [
    "## Partial match\n",
    "\n",
    "It is not surprising that two dataframes do not have the same common key variables. In the full matching, the dataframe returns only rows found in both x and y data frame. With partial merging, it is possible to keep the rows with no matching rows in the other data frame. These rows will have NA in those columns that are usually filled with values from y. We can do that by setting all.x= TRUE.\n",
    "\n",
    "For instance, we can add a new producer, Lucas, in the producer data frame without the movie references in movies data frame. If we set all.x= FALSE, R will join only the matching values in both data set. In our case, the producer Lucas will not be join to the merge because it is missing from one dataset.\n",
    "\n",
    "Let's see the dimension of each output when we specify all.x= TRUE and when we don't."
   ]
  },
  {
   "cell_type": "markdown",
   "metadata": {},
   "source": [
    "Create a producer"
   ]
  },
  {
   "cell_type": "code",
   "execution_count": 16,
   "metadata": {},
   "outputs": [
    {
     "data": {
      "text/html": [
       "<style>\n",
       ".list-inline {list-style: none; margin:0; padding: 0}\n",
       ".list-inline>li {display: inline-block}\n",
       ".list-inline>li:not(:last-child)::after {content: \"\\00b7\"; padding: 0 .5ex}\n",
       "</style>\n",
       "<ol class=list-inline><li>'Lucas'</li><li>'US'</li></ol>\n"
      ],
      "text/latex": [
       "\\begin{enumerate*}\n",
       "\\item 'Lucas'\n",
       "\\item 'US'\n",
       "\\end{enumerate*}\n"
      ],
      "text/markdown": [
       "1. 'Lucas'\n",
       "2. 'US'\n",
       "\n",
       "\n"
      ],
      "text/plain": [
       "[1] \"Lucas\" \"US\"   "
      ]
     },
     "metadata": {},
     "output_type": "display_data"
    }
   ],
   "source": [
    "add_producer <-  c('Lucas', 'US')\n",
    "add_producer"
   ]
  },
  {
   "cell_type": "markdown",
   "metadata": {},
   "source": [
    "Append to the `producer` data frame"
   ]
  },
  {
   "cell_type": "code",
   "execution_count": 17,
   "metadata": {},
   "outputs": [
    {
     "data": {
      "text/html": [
       "<table>\n",
       "<caption>A data.frame: 6 × 2</caption>\n",
       "<thead>\n",
       "\t<tr><th scope=col>surname</th><th scope=col>nationality</th></tr>\n",
       "\t<tr><th scope=col>&lt;chr&gt;</th><th scope=col>&lt;chr&gt;</th></tr>\n",
       "</thead>\n",
       "<tbody>\n",
       "\t<tr><td>Spielberg</td><td>US    </td></tr>\n",
       "\t<tr><td>Scorsese </td><td>US    </td></tr>\n",
       "\t<tr><td>Hitchcock</td><td>UK    </td></tr>\n",
       "\t<tr><td>Tarantino</td><td>US    </td></tr>\n",
       "\t<tr><td>Polanski </td><td>Poland</td></tr>\n",
       "\t<tr><td>Lucas    </td><td>US    </td></tr>\n",
       "</tbody>\n",
       "</table>\n"
      ],
      "text/latex": [
       "A data.frame: 6 × 2\n",
       "\\begin{tabular}{ll}\n",
       " surname & nationality\\\\\n",
       " <chr> & <chr>\\\\\n",
       "\\hline\n",
       "\t Spielberg & US    \\\\\n",
       "\t Scorsese  & US    \\\\\n",
       "\t Hitchcock & UK    \\\\\n",
       "\t Tarantino & US    \\\\\n",
       "\t Polanski  & Poland\\\\\n",
       "\t Lucas     & US    \\\\\n",
       "\\end{tabular}\n"
      ],
      "text/markdown": [
       "\n",
       "A data.frame: 6 × 2\n",
       "\n",
       "| surname &lt;chr&gt; | nationality &lt;chr&gt; |\n",
       "|---|---|\n",
       "| Spielberg | US     |\n",
       "| Scorsese  | US     |\n",
       "| Hitchcock | UK     |\n",
       "| Tarantino | US     |\n",
       "| Polanski  | Poland |\n",
       "| Lucas     | US     |\n",
       "\n"
      ],
      "text/plain": [
       "  surname   nationality\n",
       "1 Spielberg US         \n",
       "2 Scorsese  US         \n",
       "3 Hitchcock UK         \n",
       "4 Tarantino US         \n",
       "5 Polanski  Poland     \n",
       "6 Lucas     US         "
      ]
     },
     "metadata": {},
     "output_type": "display_data"
    }
   ],
   "source": [
    "producers <-rbind(producers,add_producer)\n",
    "producers"
   ]
  },
  {
   "cell_type": "markdown",
   "metadata": {},
   "source": [
    "A partial merge, if we specify all.x=TRUE\n",
    "\n",
    "In this case, we have NA value"
   ]
  },
  {
   "cell_type": "code",
   "execution_count": 20,
   "metadata": {},
   "outputs": [
    {
     "data": {
      "text/html": [
       "<table>\n",
       "<caption>A data.frame: 8 × 3</caption>\n",
       "<thead>\n",
       "\t<tr><th scope=col>surname</th><th scope=col>nationality</th><th scope=col>title</th></tr>\n",
       "\t<tr><th scope=col>&lt;chr&gt;</th><th scope=col>&lt;chr&gt;</th><th scope=col>&lt;chr&gt;</th></tr>\n",
       "</thead>\n",
       "<tbody>\n",
       "\t<tr><td>Hitchcock</td><td>UK    </td><td>Psycho             </td></tr>\n",
       "\t<tr><td>Hitchcock</td><td>UK    </td><td>North by Northwest </td></tr>\n",
       "\t<tr><td>Lucas    </td><td>US    </td><td>NA                 </td></tr>\n",
       "\t<tr><td>Polanski </td><td>Poland</td><td>Chinatown          </td></tr>\n",
       "\t<tr><td>Scorsese </td><td>US    </td><td>Taxi Driver        </td></tr>\n",
       "\t<tr><td>Spielberg</td><td>US    </td><td>Super 8            </td></tr>\n",
       "\t<tr><td>Spielberg</td><td>US    </td><td>Catch Me If You Can</td></tr>\n",
       "\t<tr><td>Tarantino</td><td>US    </td><td>Reservoir Dogs     </td></tr>\n",
       "</tbody>\n",
       "</table>\n"
      ],
      "text/latex": [
       "A data.frame: 8 × 3\n",
       "\\begin{tabular}{lll}\n",
       " surname & nationality & title\\\\\n",
       " <chr> & <chr> & <chr>\\\\\n",
       "\\hline\n",
       "\t Hitchcock & UK     & Psycho             \\\\\n",
       "\t Hitchcock & UK     & North by Northwest \\\\\n",
       "\t Lucas     & US     & NA                 \\\\\n",
       "\t Polanski  & Poland & Chinatown          \\\\\n",
       "\t Scorsese  & US     & Taxi Driver        \\\\\n",
       "\t Spielberg & US     & Super 8            \\\\\n",
       "\t Spielberg & US     & Catch Me If You Can\\\\\n",
       "\t Tarantino & US     & Reservoir Dogs     \\\\\n",
       "\\end{tabular}\n"
      ],
      "text/markdown": [
       "\n",
       "A data.frame: 8 × 3\n",
       "\n",
       "| surname &lt;chr&gt; | nationality &lt;chr&gt; | title &lt;chr&gt; |\n",
       "|---|---|---|\n",
       "| Hitchcock | UK     | Psycho              |\n",
       "| Hitchcock | UK     | North by Northwest  |\n",
       "| Lucas     | US     | NA                  |\n",
       "| Polanski  | Poland | Chinatown           |\n",
       "| Scorsese  | US     | Taxi Driver         |\n",
       "| Spielberg | US     | Super 8             |\n",
       "| Spielberg | US     | Catch Me If You Can |\n",
       "| Tarantino | US     | Reservoir Dogs      |\n",
       "\n"
      ],
      "text/plain": [
       "  surname   nationality title              \n",
       "1 Hitchcock UK          Psycho             \n",
       "2 Hitchcock UK          North by Northwest \n",
       "3 Lucas     US          NA                 \n",
       "4 Polanski  Poland      Chinatown          \n",
       "5 Scorsese  US          Taxi Driver        \n",
       "6 Spielberg US          Super 8            \n",
       "7 Spielberg US          Catch Me If You Can\n",
       "8 Tarantino US          Reservoir Dogs     "
      ]
     },
     "metadata": {},
     "output_type": "display_data"
    }
   ],
   "source": [
    "m3 <-merge(producers,movies,by.x = \"surname\",by.y = \"name\", all.x = TRUE)\n",
    "m3"
   ]
  },
  {
   "cell_type": "markdown",
   "metadata": {},
   "source": [
    "if all.x = FALSE, that's exactly what happend before"
   ]
  },
  {
   "cell_type": "code",
   "execution_count": 25,
   "metadata": {},
   "outputs": [
    {
     "data": {
      "text/html": [
       "TRUE"
      ],
      "text/latex": [
       "TRUE"
      ],
      "text/markdown": [
       "TRUE"
      ],
      "text/plain": [
       "[1] TRUE"
      ]
     },
     "metadata": {},
     "output_type": "display_data"
    }
   ],
   "source": [
    "identical(m2, merge(producers,movies,by.x = \"surname\",by.y = \"name\", all.x= FALSE))"
   ]
  }
 ],
 "metadata": {
  "kernelspec": {
   "display_name": "R",
   "language": "R",
   "name": "ir"
  },
  "language_info": {
   "codemirror_mode": "r",
   "file_extension": ".r",
   "mimetype": "text/x-r-source",
   "name": "R",
   "pygments_lexer": "r",
   "version": "3.6.2"
  }
 },
 "nbformat": 4,
 "nbformat_minor": 4
}
