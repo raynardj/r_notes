{
 "cells": [
  {
   "cell_type": "markdown",
   "metadata": {},
   "source": [
    "# R Dataframe\n",
    "> Create, Append, Select, Subset"
   ]
  },
  {
   "cell_type": "markdown",
   "metadata": {},
   "source": [
    "The note is based on [this tutorial](https://www.guru99.com/r-data-frames.html)\n",
    "\n",
    "## What is a Data Frame?\n",
    "\n",
    "A **data frame** is a list of vectors which are of equal length. A matrix contains only one type of data, while a data frame accepts different data types (numeric, character, factor, etc.)."
   ]
  },
  {
   "cell_type": "markdown",
   "metadata": {},
   "source": [
    "## Create a dataframe\n",
    "We can create a data frame by passing the variable a,b,c,d into the data.frame() function. We can name the columns with name() and simply specify the name of the variables.\n",
    "```\n",
    "data.frame(df, stringsAsFactors = TRUE)\n",
    "```\n",
    "\n",
    "Arguments:\n",
    "\n",
    "* df: It can be a matrix to convert as a data frame or a collection of variables to join\n",
    "* stringsAsFactors: Convert string to factor by default\n",
    "We can create our first data set by combining four variables of same length."
   ]
  },
  {
   "cell_type": "code",
   "execution_count": 1,
   "metadata": {},
   "outputs": [
    {
     "data": {
      "text/html": [
       "<table>\n",
       "<caption>A data.frame: 4 × 4</caption>\n",
       "<thead>\n",
       "\t<tr><th scope=col>a</th><th scope=col>b</th><th scope=col>c</th><th scope=col>d</th></tr>\n",
       "\t<tr><th scope=col>&lt;dbl&gt;</th><th scope=col>&lt;fct&gt;</th><th scope=col>&lt;lgl&gt;</th><th scope=col>&lt;dbl&gt;</th></tr>\n",
       "</thead>\n",
       "<tbody>\n",
       "\t<tr><td>10</td><td>book       </td><td> TRUE</td><td> 2.5</td></tr>\n",
       "\t<tr><td>20</td><td>pen        </td><td>FALSE</td><td> 8.0</td></tr>\n",
       "\t<tr><td>30</td><td>textbook   </td><td> TRUE</td><td>10.0</td></tr>\n",
       "\t<tr><td>40</td><td>pencil_case</td><td>FALSE</td><td> 7.0</td></tr>\n",
       "</tbody>\n",
       "</table>\n"
      ],
      "text/latex": [
       "A data.frame: 4 × 4\n",
       "\\begin{tabular}{llll}\n",
       " a & b & c & d\\\\\n",
       " <dbl> & <fct> & <lgl> & <dbl>\\\\\n",
       "\\hline\n",
       "\t 10 & book        &  TRUE &  2.5\\\\\n",
       "\t 20 & pen         & FALSE &  8.0\\\\\n",
       "\t 30 & textbook    &  TRUE & 10.0\\\\\n",
       "\t 40 & pencil\\_case & FALSE &  7.0\\\\\n",
       "\\end{tabular}\n"
      ],
      "text/markdown": [
       "\n",
       "A data.frame: 4 × 4\n",
       "\n",
       "| a &lt;dbl&gt; | b &lt;fct&gt; | c &lt;lgl&gt; | d &lt;dbl&gt; |\n",
       "|---|---|---|---|\n",
       "| 10 | book        |  TRUE |  2.5 |\n",
       "| 20 | pen         | FALSE |  8.0 |\n",
       "| 30 | textbook    |  TRUE | 10.0 |\n",
       "| 40 | pencil_case | FALSE |  7.0 |\n",
       "\n"
      ],
      "text/plain": [
       "  a  b           c     d   \n",
       "1 10 book         TRUE  2.5\n",
       "2 20 pen         FALSE  8.0\n",
       "3 30 textbook     TRUE 10.0\n",
       "4 40 pencil_case FALSE  7.0"
      ]
     },
     "metadata": {},
     "output_type": "display_data"
    }
   ],
   "source": [
    "# Create a, b, c, d variables\n",
    "a <- c(10,20,30,40)\n",
    "b <- c('book', 'pen', 'textbook', 'pencil_case')\n",
    "c <- c(TRUE,FALSE,TRUE,FALSE)\n",
    "d <- c(2.5, 8, 10, 7)\n",
    "\n",
    "# Join  the variables to create a data frame\n",
    "df  <- data.frame(a ,b , c, d) \n",
    "# use arguement variable name as columnname\n",
    "df"
   ]
  },
  {
   "cell_type": "markdown",
   "metadata": {},
   "source": [
    "We can see the column headers have the same name as the variables. We can change the column name with the function names(). \n",
    "\n",
    "Check the example below:"
   ]
  },
  {
   "cell_type": "code",
   "execution_count": 3,
   "metadata": {},
   "outputs": [
    {
     "data": {
      "text/html": [
       "<table>\n",
       "<caption>A data.frame: 4 × 4</caption>\n",
       "<thead>\n",
       "\t<tr><th scope=col>ID</th><th scope=col>items</th><th scope=col>store</th><th scope=col>price</th></tr>\n",
       "\t<tr><th scope=col>&lt;dbl&gt;</th><th scope=col>&lt;fct&gt;</th><th scope=col>&lt;lgl&gt;</th><th scope=col>&lt;dbl&gt;</th></tr>\n",
       "</thead>\n",
       "<tbody>\n",
       "\t<tr><td>10</td><td>book       </td><td> TRUE</td><td> 2.5</td></tr>\n",
       "\t<tr><td>20</td><td>pen        </td><td>FALSE</td><td> 8.0</td></tr>\n",
       "\t<tr><td>30</td><td>textbook   </td><td> TRUE</td><td>10.0</td></tr>\n",
       "\t<tr><td>40</td><td>pencil_case</td><td>FALSE</td><td> 7.0</td></tr>\n",
       "</tbody>\n",
       "</table>\n"
      ],
      "text/latex": [
       "A data.frame: 4 × 4\n",
       "\\begin{tabular}{llll}\n",
       " ID & items & store & price\\\\\n",
       " <dbl> & <fct> & <lgl> & <dbl>\\\\\n",
       "\\hline\n",
       "\t 10 & book        &  TRUE &  2.5\\\\\n",
       "\t 20 & pen         & FALSE &  8.0\\\\\n",
       "\t 30 & textbook    &  TRUE & 10.0\\\\\n",
       "\t 40 & pencil\\_case & FALSE &  7.0\\\\\n",
       "\\end{tabular}\n"
      ],
      "text/markdown": [
       "\n",
       "A data.frame: 4 × 4\n",
       "\n",
       "| ID &lt;dbl&gt; | items &lt;fct&gt; | store &lt;lgl&gt; | price &lt;dbl&gt; |\n",
       "|---|---|---|---|\n",
       "| 10 | book        |  TRUE |  2.5 |\n",
       "| 20 | pen         | FALSE |  8.0 |\n",
       "| 30 | textbook    |  TRUE | 10.0 |\n",
       "| 40 | pencil_case | FALSE |  7.0 |\n",
       "\n"
      ],
      "text/plain": [
       "  ID items       store price\n",
       "1 10 book         TRUE  2.5 \n",
       "2 20 pen         FALSE  8.0 \n",
       "3 30 textbook     TRUE 10.0 \n",
       "4 40 pencil_case FALSE  7.0 "
      ]
     },
     "metadata": {},
     "output_type": "display_data"
    }
   ],
   "source": [
    "# Name the data frame\n",
    "names(df) <- c('ID','items','store','price')\n",
    "df"
   ]
  },
  {
   "cell_type": "code",
   "execution_count": 4,
   "metadata": {},
   "outputs": [
    {
     "name": "stdout",
     "output_type": "stream",
     "text": [
      "'data.frame':\t4 obs. of  4 variables:\n",
      " $ ID   : num  10 20 30 40\n",
      " $ items: Factor w/ 4 levels \"book\",\"pen\",\"pencil_case\",..: 1 2 4 3\n",
      " $ store: logi  TRUE FALSE TRUE FALSE\n",
      " $ price: num  2.5 8 10 7\n"
     ]
    }
   ],
   "source": [
    " # print the structure\n",
    "str(df)"
   ]
  },
  {
   "cell_type": "markdown",
   "metadata": {},
   "source": [
    "By default, data frame returns string variables as a factor."
   ]
  },
  {
   "cell_type": "markdown",
   "metadata": {},
   "source": [
    "## Slice dataframe\n",
    "\n",
    "> ```[ROWS,COLUMNS ]```\n",
    "\n",
    "It is possible to SLICE values of a Data Frame. We select the rows and columns to return into bracket precede by the name of the data frame.\n",
    "\n",
    "A data frame is composed of rows and columns, df[A, B]. A represents the rows and B the columns. We can slice either by specifying the rows and/or columns."
   ]
  },
  {
   "cell_type": "code",
   "execution_count": 9,
   "metadata": {},
   "outputs": [
    {
     "data": {
      "text/html": [
       "<table>\n",
       "<caption>A data.frame: 2 × 4</caption>\n",
       "<thead>\n",
       "\t<tr><th></th><th scope=col>ID</th><th scope=col>items</th><th scope=col>store</th><th scope=col>price</th></tr>\n",
       "\t<tr><th></th><th scope=col>&lt;dbl&gt;</th><th scope=col>&lt;fct&gt;</th><th scope=col>&lt;lgl&gt;</th><th scope=col>&lt;dbl&gt;</th></tr>\n",
       "</thead>\n",
       "<tbody>\n",
       "\t<tr><th scope=row>2</th><td>20</td><td>pen     </td><td>FALSE</td><td> 8</td></tr>\n",
       "\t<tr><th scope=row>3</th><td>30</td><td>textbook</td><td> TRUE</td><td>10</td></tr>\n",
       "</tbody>\n",
       "</table>\n"
      ],
      "text/latex": [
       "A data.frame: 2 × 4\n",
       "\\begin{tabular}{r|llll}\n",
       "  & ID & items & store & price\\\\\n",
       "  & <dbl> & <fct> & <lgl> & <dbl>\\\\\n",
       "\\hline\n",
       "\t2 & 20 & pen      & FALSE &  8\\\\\n",
       "\t3 & 30 & textbook &  TRUE & 10\\\\\n",
       "\\end{tabular}\n"
      ],
      "text/markdown": [
       "\n",
       "A data.frame: 2 × 4\n",
       "\n",
       "| <!--/--> | ID &lt;dbl&gt; | items &lt;fct&gt; | store &lt;lgl&gt; | price &lt;dbl&gt; |\n",
       "|---|---|---|---|---|\n",
       "| 2 | 20 | pen      | FALSE |  8 |\n",
       "| 3 | 30 | textbook |  TRUE | 10 |\n",
       "\n"
      ],
      "text/plain": [
       "  ID items    store price\n",
       "2 20 pen      FALSE  8   \n",
       "3 30 textbook  TRUE 10   "
      ]
     },
     "metadata": {},
     "output_type": "display_data"
    }
   ],
   "source": [
    "df[2:3,]"
   ]
  },
  {
   "cell_type": "code",
   "execution_count": 8,
   "metadata": {},
   "outputs": [
    {
     "data": {
      "text/html": [
       "<table>\n",
       "<caption>A data.frame: 3 × 2</caption>\n",
       "<thead>\n",
       "\t<tr><th></th><th scope=col>ID</th><th scope=col>price</th></tr>\n",
       "\t<tr><th></th><th scope=col>&lt;dbl&gt;</th><th scope=col>&lt;dbl&gt;</th></tr>\n",
       "</thead>\n",
       "<tbody>\n",
       "\t<tr><th scope=row>2</th><td>20</td><td> 8</td></tr>\n",
       "\t<tr><th scope=row>3</th><td>30</td><td>10</td></tr>\n",
       "\t<tr><th scope=row>4</th><td>40</td><td> 7</td></tr>\n",
       "</tbody>\n",
       "</table>\n"
      ],
      "text/latex": [
       "A data.frame: 3 × 2\n",
       "\\begin{tabular}{r|ll}\n",
       "  & ID & price\\\\\n",
       "  & <dbl> & <dbl>\\\\\n",
       "\\hline\n",
       "\t2 & 20 &  8\\\\\n",
       "\t3 & 30 & 10\\\\\n",
       "\t4 & 40 &  7\\\\\n",
       "\\end{tabular}\n"
      ],
      "text/markdown": [
       "\n",
       "A data.frame: 3 × 2\n",
       "\n",
       "| <!--/--> | ID &lt;dbl&gt; | price &lt;dbl&gt; |\n",
       "|---|---|---|\n",
       "| 2 | 20 |  8 |\n",
       "| 3 | 30 | 10 |\n",
       "| 4 | 40 |  7 |\n",
       "\n"
      ],
      "text/plain": [
       "  ID price\n",
       "2 20  8   \n",
       "3 30 10   \n",
       "4 40  7   "
      ]
     },
     "metadata": {},
     "output_type": "display_data"
    }
   ],
   "source": [
    "df[2:4,c(\"ID\",\"price\")]"
   ]
  },
  {
   "cell_type": "markdown",
   "metadata": {},
   "source": [
    "## Append a column to data frame  \n",
    "\n",
    " You can also append a column to a Data Frame. You need to use the symbol $ to append a new variable."
   ]
  },
  {
   "cell_type": "code",
   "execution_count": 10,
   "metadata": {},
   "outputs": [],
   "source": [
    "# Create a new vector\n",
    "quantity <- c(10, 35, 40, 5)"
   ]
  },
  {
   "cell_type": "code",
   "execution_count": 11,
   "metadata": {},
   "outputs": [],
   "source": [
    "df$quantity <- quantity"
   ]
  },
  {
   "cell_type": "code",
   "execution_count": 12,
   "metadata": {},
   "outputs": [
    {
     "data": {
      "text/html": [
       "<table>\n",
       "<caption>A data.frame: 4 × 5</caption>\n",
       "<thead>\n",
       "\t<tr><th scope=col>ID</th><th scope=col>items</th><th scope=col>store</th><th scope=col>price</th><th scope=col>quantity</th></tr>\n",
       "\t<tr><th scope=col>&lt;dbl&gt;</th><th scope=col>&lt;fct&gt;</th><th scope=col>&lt;lgl&gt;</th><th scope=col>&lt;dbl&gt;</th><th scope=col>&lt;dbl&gt;</th></tr>\n",
       "</thead>\n",
       "<tbody>\n",
       "\t<tr><td>10</td><td>book       </td><td> TRUE</td><td> 2.5</td><td>10</td></tr>\n",
       "\t<tr><td>20</td><td>pen        </td><td>FALSE</td><td> 8.0</td><td>35</td></tr>\n",
       "\t<tr><td>30</td><td>textbook   </td><td> TRUE</td><td>10.0</td><td>40</td></tr>\n",
       "\t<tr><td>40</td><td>pencil_case</td><td>FALSE</td><td> 7.0</td><td> 5</td></tr>\n",
       "</tbody>\n",
       "</table>\n"
      ],
      "text/latex": [
       "A data.frame: 4 × 5\n",
       "\\begin{tabular}{lllll}\n",
       " ID & items & store & price & quantity\\\\\n",
       " <dbl> & <fct> & <lgl> & <dbl> & <dbl>\\\\\n",
       "\\hline\n",
       "\t 10 & book        &  TRUE &  2.5 & 10\\\\\n",
       "\t 20 & pen         & FALSE &  8.0 & 35\\\\\n",
       "\t 30 & textbook    &  TRUE & 10.0 & 40\\\\\n",
       "\t 40 & pencil\\_case & FALSE &  7.0 &  5\\\\\n",
       "\\end{tabular}\n"
      ],
      "text/markdown": [
       "\n",
       "A data.frame: 4 × 5\n",
       "\n",
       "| ID &lt;dbl&gt; | items &lt;fct&gt; | store &lt;lgl&gt; | price &lt;dbl&gt; | quantity &lt;dbl&gt; |\n",
       "|---|---|---|---|---|\n",
       "| 10 | book        |  TRUE |  2.5 | 10 |\n",
       "| 20 | pen         | FALSE |  8.0 | 35 |\n",
       "| 30 | textbook    |  TRUE | 10.0 | 40 |\n",
       "| 40 | pencil_case | FALSE |  7.0 |  5 |\n",
       "\n"
      ],
      "text/plain": [
       "  ID items       store price quantity\n",
       "1 10 book         TRUE  2.5  10      \n",
       "2 20 pen         FALSE  8.0  35      \n",
       "3 30 textbook     TRUE 10.0  40      \n",
       "4 40 pencil_case FALSE  7.0   5      "
      ]
     },
     "metadata": {},
     "output_type": "display_data"
    }
   ],
   "source": [
    "df"
   ]
  },
  {
   "cell_type": "code",
   "execution_count": 15,
   "metadata": {},
   "outputs": [],
   "source": [
    "df$remark<-c('good','good','medium','not good')"
   ]
  },
  {
   "cell_type": "code",
   "execution_count": 16,
   "metadata": {},
   "outputs": [
    {
     "data": {
      "text/html": [
       "<table>\n",
       "<caption>A data.frame: 4 × 6</caption>\n",
       "<thead>\n",
       "\t<tr><th scope=col>ID</th><th scope=col>items</th><th scope=col>store</th><th scope=col>price</th><th scope=col>quantity</th><th scope=col>remark</th></tr>\n",
       "\t<tr><th scope=col>&lt;dbl&gt;</th><th scope=col>&lt;fct&gt;</th><th scope=col>&lt;lgl&gt;</th><th scope=col>&lt;dbl&gt;</th><th scope=col>&lt;dbl&gt;</th><th scope=col>&lt;chr&gt;</th></tr>\n",
       "</thead>\n",
       "<tbody>\n",
       "\t<tr><td>10</td><td>book       </td><td> TRUE</td><td> 2.5</td><td>10</td><td>good    </td></tr>\n",
       "\t<tr><td>20</td><td>pen        </td><td>FALSE</td><td> 8.0</td><td>35</td><td>good    </td></tr>\n",
       "\t<tr><td>30</td><td>textbook   </td><td> TRUE</td><td>10.0</td><td>40</td><td>medium  </td></tr>\n",
       "\t<tr><td>40</td><td>pencil_case</td><td>FALSE</td><td> 7.0</td><td> 5</td><td>not good</td></tr>\n",
       "</tbody>\n",
       "</table>\n"
      ],
      "text/latex": [
       "A data.frame: 4 × 6\n",
       "\\begin{tabular}{llllll}\n",
       " ID & items & store & price & quantity & remark\\\\\n",
       " <dbl> & <fct> & <lgl> & <dbl> & <dbl> & <chr>\\\\\n",
       "\\hline\n",
       "\t 10 & book        &  TRUE &  2.5 & 10 & good    \\\\\n",
       "\t 20 & pen         & FALSE &  8.0 & 35 & good    \\\\\n",
       "\t 30 & textbook    &  TRUE & 10.0 & 40 & medium  \\\\\n",
       "\t 40 & pencil\\_case & FALSE &  7.0 &  5 & not good\\\\\n",
       "\\end{tabular}\n"
      ],
      "text/markdown": [
       "\n",
       "A data.frame: 4 × 6\n",
       "\n",
       "| ID &lt;dbl&gt; | items &lt;fct&gt; | store &lt;lgl&gt; | price &lt;dbl&gt; | quantity &lt;dbl&gt; | remark &lt;chr&gt; |\n",
       "|---|---|---|---|---|---|\n",
       "| 10 | book        |  TRUE |  2.5 | 10 | good     |\n",
       "| 20 | pen         | FALSE |  8.0 | 35 | good     |\n",
       "| 30 | textbook    |  TRUE | 10.0 | 40 | medium   |\n",
       "| 40 | pencil_case | FALSE |  7.0 |  5 | not good |\n",
       "\n"
      ],
      "text/plain": [
       "  ID items       store price quantity remark  \n",
       "1 10 book         TRUE  2.5  10       good    \n",
       "2 20 pen         FALSE  8.0  35       good    \n",
       "3 30 textbook     TRUE 10.0  40       medium  \n",
       "4 40 pencil_case FALSE  7.0   5       not good"
      ]
     },
     "metadata": {},
     "output_type": "display_data"
    }
   ],
   "source": [
    "df"
   ]
  },
  {
   "cell_type": "markdown",
   "metadata": {},
   "source": [
    "Row numbers has to be the same"
   ]
  },
  {
   "cell_type": "code",
   "execution_count": 17,
   "metadata": {},
   "outputs": [
    {
     "ename": "ERROR",
     "evalue": "Error in c(\"good\", \"good\", \"medium\", ): argument 4 is empty\n",
     "output_type": "error",
     "traceback": [
      "Error in c(\"good\", \"good\", \"medium\", ): argument 4 is empty\nTraceback:\n"
     ]
    }
   ],
   "source": [
    "df$remark<-c('good','good','medium',)"
   ]
  },
  {
   "cell_type": "markdown",
   "metadata": {},
   "source": [
    "## Select a column of data frame"
   ]
  },
  {
   "cell_type": "code",
   "execution_count": 18,
   "metadata": {},
   "outputs": [
    {
     "data": {
      "text/html": [
       "<style>\n",
       ".list-inline {list-style: none; margin:0; padding: 0}\n",
       ".list-inline>li {display: inline-block}\n",
       ".list-inline>li:not(:last-child)::after {content: \"\\00b7\"; padding: 0 .5ex}\n",
       "</style>\n",
       "<ol class=list-inline><li>10</li><li>20</li><li>30</li><li>40</li></ol>\n"
      ],
      "text/latex": [
       "\\begin{enumerate*}\n",
       "\\item 10\n",
       "\\item 20\n",
       "\\item 30\n",
       "\\item 40\n",
       "\\end{enumerate*}\n"
      ],
      "text/markdown": [
       "1. 10\n",
       "2. 20\n",
       "3. 30\n",
       "4. 40\n",
       "\n",
       "\n"
      ],
      "text/plain": [
       "[1] 10 20 30 40"
      ]
     },
     "metadata": {},
     "output_type": "display_data"
    }
   ],
   "source": [
    " # Select the column ID\n",
    "df$ID"
   ]
  },
  {
   "cell_type": "markdown",
   "metadata": {},
   "source": [
    "## Subset a dataframe\n",
    "In the previous section, we selected an entire column without condition. It is possible to subset based on **whether or not a certain condition was true** .\n",
    "\n",
    "We use the subset() function.\n",
    "\n",
    "```r\n",
    "subset(x, condition)\n",
    "\n",
    "```\n",
    "\n",
    "arguments:\n",
    "* x: data frame used to perform the subset\n",
    "* condition: define the conditional statement"
   ]
  },
  {
   "cell_type": "code",
   "execution_count": 19,
   "metadata": {},
   "outputs": [
    {
     "data": {
      "text/html": [
       "<table>\n",
       "<caption>A data.frame: 3 × 6</caption>\n",
       "<thead>\n",
       "\t<tr><th></th><th scope=col>ID</th><th scope=col>items</th><th scope=col>store</th><th scope=col>price</th><th scope=col>quantity</th><th scope=col>remark</th></tr>\n",
       "\t<tr><th></th><th scope=col>&lt;dbl&gt;</th><th scope=col>&lt;fct&gt;</th><th scope=col>&lt;lgl&gt;</th><th scope=col>&lt;dbl&gt;</th><th scope=col>&lt;dbl&gt;</th><th scope=col>&lt;chr&gt;</th></tr>\n",
       "</thead>\n",
       "<tbody>\n",
       "\t<tr><th scope=row>2</th><td>20</td><td>pen        </td><td>FALSE</td><td> 8</td><td>35</td><td>good    </td></tr>\n",
       "\t<tr><th scope=row>3</th><td>30</td><td>textbook   </td><td> TRUE</td><td>10</td><td>40</td><td>medium  </td></tr>\n",
       "\t<tr><th scope=row>4</th><td>40</td><td>pencil_case</td><td>FALSE</td><td> 7</td><td> 5</td><td>not good</td></tr>\n",
       "</tbody>\n",
       "</table>\n"
      ],
      "text/latex": [
       "A data.frame: 3 × 6\n",
       "\\begin{tabular}{r|llllll}\n",
       "  & ID & items & store & price & quantity & remark\\\\\n",
       "  & <dbl> & <fct> & <lgl> & <dbl> & <dbl> & <chr>\\\\\n",
       "\\hline\n",
       "\t2 & 20 & pen         & FALSE &  8 & 35 & good    \\\\\n",
       "\t3 & 30 & textbook    &  TRUE & 10 & 40 & medium  \\\\\n",
       "\t4 & 40 & pencil\\_case & FALSE &  7 &  5 & not good\\\\\n",
       "\\end{tabular}\n"
      ],
      "text/markdown": [
       "\n",
       "A data.frame: 3 × 6\n",
       "\n",
       "| <!--/--> | ID &lt;dbl&gt; | items &lt;fct&gt; | store &lt;lgl&gt; | price &lt;dbl&gt; | quantity &lt;dbl&gt; | remark &lt;chr&gt; |\n",
       "|---|---|---|---|---|---|---|\n",
       "| 2 | 20 | pen         | FALSE |  8 | 35 | good     |\n",
       "| 3 | 30 | textbook    |  TRUE | 10 | 40 | medium   |\n",
       "| 4 | 40 | pencil_case | FALSE |  7 |  5 | not good |\n",
       "\n"
      ],
      "text/plain": [
       "  ID items       store price quantity remark  \n",
       "2 20 pen         FALSE  8    35       good    \n",
       "3 30 textbook     TRUE 10    40       medium  \n",
       "4 40 pencil_case FALSE  7     5       not good"
      ]
     },
     "metadata": {},
     "output_type": "display_data"
    }
   ],
   "source": [
    "subset(df, subset = price >5)"
   ]
  },
  {
   "cell_type": "code",
   "execution_count": 20,
   "metadata": {},
   "outputs": [
    {
     "data": {
      "text/html": [
       "<table>\n",
       "<caption>A data.frame: 2 × 6</caption>\n",
       "<thead>\n",
       "\t<tr><th></th><th scope=col>ID</th><th scope=col>items</th><th scope=col>store</th><th scope=col>price</th><th scope=col>quantity</th><th scope=col>remark</th></tr>\n",
       "\t<tr><th></th><th scope=col>&lt;dbl&gt;</th><th scope=col>&lt;fct&gt;</th><th scope=col>&lt;lgl&gt;</th><th scope=col>&lt;dbl&gt;</th><th scope=col>&lt;dbl&gt;</th><th scope=col>&lt;chr&gt;</th></tr>\n",
       "</thead>\n",
       "<tbody>\n",
       "\t<tr><th scope=row>1</th><td>10</td><td>book    </td><td>TRUE</td><td> 2.5</td><td>10</td><td>good  </td></tr>\n",
       "\t<tr><th scope=row>3</th><td>30</td><td>textbook</td><td>TRUE</td><td>10.0</td><td>40</td><td>medium</td></tr>\n",
       "</tbody>\n",
       "</table>\n"
      ],
      "text/latex": [
       "A data.frame: 2 × 6\n",
       "\\begin{tabular}{r|llllll}\n",
       "  & ID & items & store & price & quantity & remark\\\\\n",
       "  & <dbl> & <fct> & <lgl> & <dbl> & <dbl> & <chr>\\\\\n",
       "\\hline\n",
       "\t1 & 10 & book     & TRUE &  2.5 & 10 & good  \\\\\n",
       "\t3 & 30 & textbook & TRUE & 10.0 & 40 & medium\\\\\n",
       "\\end{tabular}\n"
      ],
      "text/markdown": [
       "\n",
       "A data.frame: 2 × 6\n",
       "\n",
       "| <!--/--> | ID &lt;dbl&gt; | items &lt;fct&gt; | store &lt;lgl&gt; | price &lt;dbl&gt; | quantity &lt;dbl&gt; | remark &lt;chr&gt; |\n",
       "|---|---|---|---|---|---|---|\n",
       "| 1 | 10 | book     | TRUE |  2.5 | 10 | good   |\n",
       "| 3 | 30 | textbook | TRUE | 10.0 | 40 | medium |\n",
       "\n"
      ],
      "text/plain": [
       "  ID items    store price quantity remark\n",
       "1 10 book     TRUE   2.5  10       good  \n",
       "3 30 textbook TRUE  10.0  40       medium"
      ]
     },
     "metadata": {},
     "output_type": "display_data"
    }
   ],
   "source": [
    "subset(df, subset = store)"
   ]
  },
  {
   "cell_type": "code",
   "execution_count": 21,
   "metadata": {},
   "outputs": [
    {
     "data": {
      "text/html": [
       "<table>\n",
       "<caption>A data.frame: 2 × 6</caption>\n",
       "<thead>\n",
       "\t<tr><th></th><th scope=col>ID</th><th scope=col>items</th><th scope=col>store</th><th scope=col>price</th><th scope=col>quantity</th><th scope=col>remark</th></tr>\n",
       "\t<tr><th></th><th scope=col>&lt;dbl&gt;</th><th scope=col>&lt;fct&gt;</th><th scope=col>&lt;lgl&gt;</th><th scope=col>&lt;dbl&gt;</th><th scope=col>&lt;dbl&gt;</th><th scope=col>&lt;chr&gt;</th></tr>\n",
       "</thead>\n",
       "<tbody>\n",
       "\t<tr><th scope=row>2</th><td>20</td><td>pen     </td><td>FALSE</td><td> 8</td><td>35</td><td>good  </td></tr>\n",
       "\t<tr><th scope=row>3</th><td>30</td><td>textbook</td><td> TRUE</td><td>10</td><td>40</td><td>medium</td></tr>\n",
       "</tbody>\n",
       "</table>\n"
      ],
      "text/latex": [
       "A data.frame: 2 × 6\n",
       "\\begin{tabular}{r|llllll}\n",
       "  & ID & items & store & price & quantity & remark\\\\\n",
       "  & <dbl> & <fct> & <lgl> & <dbl> & <dbl> & <chr>\\\\\n",
       "\\hline\n",
       "\t2 & 20 & pen      & FALSE &  8 & 35 & good  \\\\\n",
       "\t3 & 30 & textbook &  TRUE & 10 & 40 & medium\\\\\n",
       "\\end{tabular}\n"
      ],
      "text/markdown": [
       "\n",
       "A data.frame: 2 × 6\n",
       "\n",
       "| <!--/--> | ID &lt;dbl&gt; | items &lt;fct&gt; | store &lt;lgl&gt; | price &lt;dbl&gt; | quantity &lt;dbl&gt; | remark &lt;chr&gt; |\n",
       "|---|---|---|---|---|---|---|\n",
       "| 2 | 20 | pen      | FALSE |  8 | 35 | good   |\n",
       "| 3 | 30 | textbook |  TRUE | 10 | 40 | medium |\n",
       "\n"
      ],
      "text/plain": [
       "  ID items    store price quantity remark\n",
       "2 20 pen      FALSE  8    35       good  \n",
       "3 30 textbook  TRUE 10    40       medium"
      ]
     },
     "metadata": {},
     "output_type": "display_data"
    }
   ],
   "source": [
    "subset(df, quantity>30)"
   ]
  },
  {
   "cell_type": "markdown",
   "metadata": {},
   "source": [
    "Combination of conditions"
   ]
  },
  {
   "cell_type": "code",
   "execution_count": 24,
   "metadata": {},
   "outputs": [
    {
     "data": {
      "text/html": [
       "<table>\n",
       "<caption>A data.frame: 1 × 6</caption>\n",
       "<thead>\n",
       "\t<tr><th></th><th scope=col>ID</th><th scope=col>items</th><th scope=col>store</th><th scope=col>price</th><th scope=col>quantity</th><th scope=col>remark</th></tr>\n",
       "\t<tr><th></th><th scope=col>&lt;dbl&gt;</th><th scope=col>&lt;fct&gt;</th><th scope=col>&lt;lgl&gt;</th><th scope=col>&lt;dbl&gt;</th><th scope=col>&lt;dbl&gt;</th><th scope=col>&lt;chr&gt;</th></tr>\n",
       "</thead>\n",
       "<tbody>\n",
       "\t<tr><th scope=row>3</th><td>30</td><td>textbook</td><td>TRUE</td><td>10</td><td>40</td><td>medium</td></tr>\n",
       "</tbody>\n",
       "</table>\n"
      ],
      "text/latex": [
       "A data.frame: 1 × 6\n",
       "\\begin{tabular}{r|llllll}\n",
       "  & ID & items & store & price & quantity & remark\\\\\n",
       "  & <dbl> & <fct> & <lgl> & <dbl> & <dbl> & <chr>\\\\\n",
       "\\hline\n",
       "\t3 & 30 & textbook & TRUE & 10 & 40 & medium\\\\\n",
       "\\end{tabular}\n"
      ],
      "text/markdown": [
       "\n",
       "A data.frame: 1 × 6\n",
       "\n",
       "| <!--/--> | ID &lt;dbl&gt; | items &lt;fct&gt; | store &lt;lgl&gt; | price &lt;dbl&gt; | quantity &lt;dbl&gt; | remark &lt;chr&gt; |\n",
       "|---|---|---|---|---|---|---|\n",
       "| 3 | 30 | textbook | TRUE | 10 | 40 | medium |\n",
       "\n"
      ],
      "text/plain": [
       "  ID items    store price quantity remark\n",
       "3 30 textbook TRUE  10    40       medium"
      ]
     },
     "metadata": {},
     "output_type": "display_data"
    }
   ],
   "source": [
    "subset(df, (quantity >30)&(store))"
   ]
  },
  {
   "cell_type": "code",
   "execution_count": 25,
   "metadata": {},
   "outputs": [
    {
     "data": {
      "text/html": [
       "<table>\n",
       "<caption>A data.frame: 2 × 6</caption>\n",
       "<thead>\n",
       "\t<tr><th></th><th scope=col>ID</th><th scope=col>items</th><th scope=col>store</th><th scope=col>price</th><th scope=col>quantity</th><th scope=col>remark</th></tr>\n",
       "\t<tr><th></th><th scope=col>&lt;dbl&gt;</th><th scope=col>&lt;fct&gt;</th><th scope=col>&lt;lgl&gt;</th><th scope=col>&lt;dbl&gt;</th><th scope=col>&lt;dbl&gt;</th><th scope=col>&lt;chr&gt;</th></tr>\n",
       "</thead>\n",
       "<tbody>\n",
       "\t<tr><th scope=row>1</th><td>10</td><td>book    </td><td>TRUE</td><td> 2.5</td><td>10</td><td>good  </td></tr>\n",
       "\t<tr><th scope=row>3</th><td>30</td><td>textbook</td><td>TRUE</td><td>10.0</td><td>40</td><td>medium</td></tr>\n",
       "</tbody>\n",
       "</table>\n"
      ],
      "text/latex": [
       "A data.frame: 2 × 6\n",
       "\\begin{tabular}{r|llllll}\n",
       "  & ID & items & store & price & quantity & remark\\\\\n",
       "  & <dbl> & <fct> & <lgl> & <dbl> & <dbl> & <chr>\\\\\n",
       "\\hline\n",
       "\t1 & 10 & book     & TRUE &  2.5 & 10 & good  \\\\\n",
       "\t3 & 30 & textbook & TRUE & 10.0 & 40 & medium\\\\\n",
       "\\end{tabular}\n"
      ],
      "text/markdown": [
       "\n",
       "A data.frame: 2 × 6\n",
       "\n",
       "| <!--/--> | ID &lt;dbl&gt; | items &lt;fct&gt; | store &lt;lgl&gt; | price &lt;dbl&gt; | quantity &lt;dbl&gt; | remark &lt;chr&gt; |\n",
       "|---|---|---|---|---|---|---|\n",
       "| 1 | 10 | book     | TRUE |  2.5 | 10 | good   |\n",
       "| 3 | 30 | textbook | TRUE | 10.0 | 40 | medium |\n",
       "\n"
      ],
      "text/plain": [
       "  ID items    store price quantity remark\n",
       "1 10 book     TRUE   2.5  10       good  \n",
       "3 30 textbook TRUE  10.0  40       medium"
      ]
     },
     "metadata": {},
     "output_type": "display_data"
    }
   ],
   "source": [
    "subset(df, (quantity >40)|(store))"
   ]
  }
 ],
 "metadata": {
  "kernelspec": {
   "display_name": "R",
   "language": "R",
   "name": "ir"
  },
  "language_info": {
   "codemirror_mode": "r",
   "file_extension": ".r",
   "mimetype": "text/x-r-source",
   "name": "R",
   "pygments_lexer": "r",
   "version": "3.6.2"
  }
 },
 "nbformat": 4,
 "nbformat_minor": 4
}
